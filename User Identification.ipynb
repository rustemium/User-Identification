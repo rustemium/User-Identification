{
 "cells": [
  {
   "cell_type": "markdown",
   "id": "dcb189be",
   "metadata": {},
   "source": [
    "Импортируем необходимые библиотеки"
   ]
  },
  {
   "cell_type": "code",
   "execution_count": 1,
   "id": "e92a0f2e",
   "metadata": {},
   "outputs": [],
   "source": [
    "import warnings\n",
    "warnings.filterwarnings('ignore')\n",
    "import pandas as pd\n",
    "import seaborn as sns\n",
    "import matplotlib.pyplot as plt\n",
    "import numpy as np\n",
    "from glob import glob\n",
    "import datetime as dt\n",
    "from sklearn.model_selection import train_test_split, GridSearchCV\n",
    "from sklearn.feature_extraction.text import TfidfVectorizer\n",
    "from sklearn.metrics import roc_auc_score\n",
    "from sklearn.linear_model import LogisticRegression\n",
    "from sklearn.ensemble import RandomForestClassifier\n",
    "from sklearn.svm import SVC\n",
    "from sklearn.tree import DecisionTreeClassifier\n",
    "from sklearn.ensemble import GradientBoostingClassifier\n",
    "from sklearn.ensemble import AdaBoostClassifier\n",
    "from scipy import sparse\n",
    "from sklearn.feature_extraction.text import CountVectorizer\n",
    "from sklearn.preprocessing import StandardScaler\n",
    "from sklearn.metrics import recall_score, precision_score, f1_score, accuracy_score\n",
    "from sklearn.feature_selection import SelectKBest\n",
    "from sklearn.feature_selection import f_classif\n",
    "from sklearn.feature_selection import chi2\n",
    "from sklearn.metrics import matthews_corrcoef"
   ]
  },
  {
   "cell_type": "code",
   "execution_count": 49,
   "id": "3acd06a3",
   "metadata": {},
   "outputs": [
    {
     "data": {
      "text/html": [
       "<div>\n",
       "<style scoped>\n",
       "    .dataframe tbody tr th:only-of-type {\n",
       "        vertical-align: middle;\n",
       "    }\n",
       "\n",
       "    .dataframe tbody tr th {\n",
       "        vertical-align: top;\n",
       "    }\n",
       "\n",
       "    .dataframe thead th {\n",
       "        text-align: right;\n",
       "    }\n",
       "</style>\n",
       "<table border=\"1\" class=\"dataframe\">\n",
       "  <thead>\n",
       "    <tr style=\"text-align: right;\">\n",
       "      <th></th>\n",
       "      <th>user_id</th>\n",
       "      <th>timestamp</th>\n",
       "      <th>site</th>\n",
       "    </tr>\n",
       "  </thead>\n",
       "  <tbody>\n",
       "    <tr>\n",
       "      <th>0</th>\n",
       "      <td>1</td>\n",
       "      <td>2013-11-19 13:32:51</td>\n",
       "      <td>fpdownload2.macromedia.com</td>\n",
       "    </tr>\n",
       "    <tr>\n",
       "      <th>1</th>\n",
       "      <td>1</td>\n",
       "      <td>2013-11-19 13:32:59</td>\n",
       "      <td>www.google.fr</td>\n",
       "    </tr>\n",
       "    <tr>\n",
       "      <th>2</th>\n",
       "      <td>1</td>\n",
       "      <td>2013-11-19 13:33:00</td>\n",
       "      <td>www.google.com</td>\n",
       "    </tr>\n",
       "    <tr>\n",
       "      <th>3</th>\n",
       "      <td>1</td>\n",
       "      <td>2013-11-19 13:33:00</td>\n",
       "      <td>www.google.fr</td>\n",
       "    </tr>\n",
       "    <tr>\n",
       "      <th>4</th>\n",
       "      <td>1</td>\n",
       "      <td>2013-11-19 13:33:00</td>\n",
       "      <td>www.bing.com</td>\n",
       "    </tr>\n",
       "    <tr>\n",
       "      <th>...</th>\n",
       "      <td>...</td>\n",
       "      <td>...</td>\n",
       "      <td>...</td>\n",
       "    </tr>\n",
       "    <tr>\n",
       "      <th>6515</th>\n",
       "      <td>1</td>\n",
       "      <td>2014-03-31 16:45:40</td>\n",
       "      <td>www.google.com</td>\n",
       "    </tr>\n",
       "    <tr>\n",
       "      <th>6516</th>\n",
       "      <td>1</td>\n",
       "      <td>2014-03-31 16:45:47</td>\n",
       "      <td>www.google.fr</td>\n",
       "    </tr>\n",
       "    <tr>\n",
       "      <th>6517</th>\n",
       "      <td>1</td>\n",
       "      <td>2014-03-31 16:45:48</td>\n",
       "      <td>go.microsoft.com</td>\n",
       "    </tr>\n",
       "    <tr>\n",
       "      <th>6518</th>\n",
       "      <td>1</td>\n",
       "      <td>2014-03-31 16:45:48</td>\n",
       "      <td>ieonline.microsoft.com</td>\n",
       "    </tr>\n",
       "    <tr>\n",
       "      <th>6519</th>\n",
       "      <td>1</td>\n",
       "      <td>2014-03-31 16:47:53</td>\n",
       "      <td>gtssl-ocsp.geotrust.com</td>\n",
       "    </tr>\n",
       "  </tbody>\n",
       "</table>\n",
       "<p>6520 rows × 3 columns</p>\n",
       "</div>"
      ],
      "text/plain": [
       "      user_id            timestamp                        site\n",
       "0           1  2013-11-19 13:32:51  fpdownload2.macromedia.com\n",
       "1           1  2013-11-19 13:32:59               www.google.fr\n",
       "2           1  2013-11-19 13:33:00              www.google.com\n",
       "3           1  2013-11-19 13:33:00               www.google.fr\n",
       "4           1  2013-11-19 13:33:00                www.bing.com\n",
       "...       ...                  ...                         ...\n",
       "6515        1  2014-03-31 16:45:40              www.google.com\n",
       "6516        1  2014-03-31 16:45:47               www.google.fr\n",
       "6517        1  2014-03-31 16:45:48            go.microsoft.com\n",
       "6518        1  2014-03-31 16:45:48      ieonline.microsoft.com\n",
       "6519        1  2014-03-31 16:47:53     gtssl-ocsp.geotrust.com\n",
       "\n",
       "[6520 rows x 3 columns]"
      ]
     },
     "execution_count": 49,
     "metadata": {},
     "output_type": "execute_result"
    }
   ],
   "source": [
    "df = pd.read_csv('150users/user0486.csv')\n",
    "df"
   ]
  },
  {
   "cell_type": "markdown",
   "id": "efc06cf7",
   "metadata": {},
   "source": [
    "Создадим переменную *path_to_data*, которая будет хранить путь до датасетов"
   ]
  },
  {
   "cell_type": "code",
   "execution_count": 2,
   "id": "a90b4e66",
   "metadata": {},
   "outputs": [],
   "source": [
    "path_to_data = '150users/*'"
   ]
  },
  {
   "cell_type": "markdown",
   "id": "e68974e3",
   "metadata": {},
   "source": [
    "В качестве пользователя, которого необходимо будет идентифицировать, выберем датасет с медианным количеством строк. Чтобы его обнаружить, была написана и использована функция *find_median_user()*"
   ]
  },
  {
   "cell_type": "code",
   "execution_count": 5,
   "id": "ebfa87e4",
   "metadata": {},
   "outputs": [],
   "source": [
    "def find_median_user(csv_files_path):\n",
    "    list_of_files = glob(csv_files_path)\n",
    "    length_list = []\n",
    "    for file in list_of_files:\n",
    "        data = pd.read_csv(file)\n",
    "        length_list.append(len(data))\n",
    "    length_list.sort()\n",
    "    for file in list_of_files:\n",
    "        data = pd.read_csv(file)\n",
    "        if len(data) == length_list[75]:\n",
    "            return file"
   ]
  },
  {
   "cell_type": "code",
   "execution_count": 6,
   "id": "6ae19702",
   "metadata": {},
   "outputs": [
    {
     "name": "stdout",
     "output_type": "stream",
     "text": [
      "Wall time: 2.36 s\n"
     ]
    },
    {
     "data": {
      "text/plain": [
       "'150users\\\\user0486.csv'"
      ]
     },
     "execution_count": 6,
     "metadata": {},
     "output_type": "execute_result"
    }
   ],
   "source": [
    "%%time\n",
    "median_user = find_median_user(path_to_data)\n",
    "median_user"
   ]
  },
  {
   "cell_type": "markdown",
   "id": "bc86c638",
   "metadata": {},
   "source": [
    "Создадим признак *user_id* в каждом датасете. Во всех датасетах, кроме '150users\\\\user0486.csv', *user_id* будет равен 0. В '150users\\\\user0486.csv' *user_id* будет равен 1."
   ]
  },
  {
   "cell_type": "code",
   "execution_count": 36,
   "id": "9c521566",
   "metadata": {},
   "outputs": [],
   "source": [
    "def create_user_id(file_target,csv_file_path):\n",
    "    list_of_files = glob(csv_file_path)\n",
    "    for file in list_of_files:\n",
    "        data = pd.read_csv(file)\n",
    "        if file == file_target:\n",
    "            data.insert(0,'user_id',1)\n",
    "        else:\n",
    "            data.insert(0,'user_id',0)\n",
    "        data.to_csv(file, index = False)"
   ]
  },
  {
   "cell_type": "code",
   "execution_count": 15,
   "id": "937afb07",
   "metadata": {},
   "outputs": [
    {
     "name": "stdout",
     "output_type": "stream",
     "text": [
      "Wall time: 12 s\n"
     ]
    }
   ],
   "source": [
    "%%time\n",
    "create_user_id(median_user, path_to_data)"
   ]
  },
  {
   "cell_type": "markdown",
   "id": "0e36a624",
   "metadata": {},
   "source": [
    "Теперь объединим все датасеты в один. Одна строка будет приравниваться к одной веб-сессии. Максимальное количество посещенных сайтов в одной сессии - 20. Если время посещения следующего сайта более 5 минут, то сессия считается новой."
   ]
  },
  {
   "cell_type": "code",
   "execution_count": 18,
   "id": "97c8629b",
   "metadata": {},
   "outputs": [],
   "source": [
    "def create_dataframe(csv_file_path):\n",
    "    list_of_elements = {}\n",
    "    list_of_files = glob(csv_file_path)\n",
    "    columns = []\n",
    "    \n",
    "    for i in range(1,21):\n",
    "        columns.append('time' + str(i))\n",
    "        columns.append('site' + str(i))\n",
    "        if i==40:\n",
    "            columns.append('target')\n",
    "        \n",
    "    final_data = pd.DataFrame(columns = columns)\n",
    "    \n",
    "    for file in list_of_files:\n",
    "        data = pd.read_csv(file)\n",
    "        data['timestamp'] = data['timestamp'].apply(pd.to_datetime)\n",
    "        counter = 1\n",
    "        for i in range(len(data)):\n",
    "            if i == 0:\n",
    "                list_of_elements['time1'] = data['timestamp'][i]\n",
    "                list_of_elements['site1'] = data['site'][i]\n",
    "                counter += 1\n",
    "                continue\n",
    "            if (data['timestamp'][i-1] - data['timestamp'][i]).total_seconds() >= -300 and counter != 21:\n",
    "                list_of_elements['time' + str(counter)] = data['timestamp'][i]\n",
    "                list_of_elements['site' + str(counter)] = data['site'][i]\n",
    "            else:\n",
    "                if list_of_elements:\n",
    "                    list_of_elements['target'] = data['user_id'][i]\n",
    "                    final_data = final_data.append(list_of_elements, ignore_index=True)\n",
    "                    list_of_elements.clear()\n",
    "                    counter = 0\n",
    "                if not list_of_elements:\n",
    "                    counter = 1\n",
    "                    list_of_elements['time1'] = data['timestamp'][i]\n",
    "                    list_of_elements['site1'] = data['site'][i]\n",
    "            if i == len(data) - 1:\n",
    "                list_of_elements['target'] = data['user_id'][i]\n",
    "                final_data = final_data.append(list_of_elements, ignore_index=True)\n",
    "                list_of_elements.clear()\n",
    "            counter += 1\n",
    "    return final_data"
   ]
  },
  {
   "cell_type": "code",
   "execution_count": 19,
   "id": "05804e79",
   "metadata": {},
   "outputs": [
    {
     "name": "stdout",
     "output_type": "stream",
     "text": [
      "Wall time: 1h 55min 13s\n"
     ]
    },
    {
     "data": {
      "text/html": [
       "<div>\n",
       "<style scoped>\n",
       "    .dataframe tbody tr th:only-of-type {\n",
       "        vertical-align: middle;\n",
       "    }\n",
       "\n",
       "    .dataframe tbody tr th {\n",
       "        vertical-align: top;\n",
       "    }\n",
       "\n",
       "    .dataframe thead th {\n",
       "        text-align: right;\n",
       "    }\n",
       "</style>\n",
       "<table border=\"1\" class=\"dataframe\">\n",
       "  <thead>\n",
       "    <tr style=\"text-align: right;\">\n",
       "      <th></th>\n",
       "      <th>time1</th>\n",
       "      <th>site1</th>\n",
       "      <th>time2</th>\n",
       "      <th>site2</th>\n",
       "      <th>time3</th>\n",
       "      <th>site3</th>\n",
       "      <th>time4</th>\n",
       "      <th>site4</th>\n",
       "      <th>time5</th>\n",
       "      <th>site5</th>\n",
       "      <th>...</th>\n",
       "      <th>site16</th>\n",
       "      <th>time17</th>\n",
       "      <th>site17</th>\n",
       "      <th>time18</th>\n",
       "      <th>site18</th>\n",
       "      <th>time19</th>\n",
       "      <th>site19</th>\n",
       "      <th>time20</th>\n",
       "      <th>site20</th>\n",
       "      <th>target</th>\n",
       "    </tr>\n",
       "  </thead>\n",
       "  <tbody>\n",
       "    <tr>\n",
       "      <th>0</th>\n",
       "      <td>2013-11-15 08:01:09</td>\n",
       "      <td>www.google.fr</td>\n",
       "      <td>2013-11-15 08:01:10</td>\n",
       "      <td>www.google.fr</td>\n",
       "      <td>2013-11-15 08:01:11</td>\n",
       "      <td>apis.google.com</td>\n",
       "      <td>2013-11-15 08:01:12</td>\n",
       "      <td>www.google.com</td>\n",
       "      <td>2013-11-15 08:01:16</td>\n",
       "      <td>www.google.fr</td>\n",
       "      <td>...</td>\n",
       "      <td>img.babylon.com</td>\n",
       "      <td>2013-11-15 08:03:56</td>\n",
       "      <td>go.microsoft.com</td>\n",
       "      <td>2013-11-15 08:03:56</td>\n",
       "      <td>ieonline.microsoft.com</td>\n",
       "      <td>NaN</td>\n",
       "      <td>NaN</td>\n",
       "      <td>NaN</td>\n",
       "      <td>NaN</td>\n",
       "      <td>0.0</td>\n",
       "    </tr>\n",
       "    <tr>\n",
       "      <th>1</th>\n",
       "      <td>2013-11-15 08:29:00</td>\n",
       "      <td>javadl-esd-secure.oracle.com</td>\n",
       "      <td>2013-11-15 08:29:04</td>\n",
       "      <td>javadl-esd-secure.oracle.com</td>\n",
       "      <td>2013-11-15 08:29:06</td>\n",
       "      <td>img.babylon.com</td>\n",
       "      <td>2013-11-15 08:29:07</td>\n",
       "      <td>fpdownload2.macromedia.com</td>\n",
       "      <td>2013-11-15 08:29:17</td>\n",
       "      <td>www.google.fr</td>\n",
       "      <td>...</td>\n",
       "      <td>NaN</td>\n",
       "      <td>NaT</td>\n",
       "      <td>NaN</td>\n",
       "      <td>NaT</td>\n",
       "      <td>NaN</td>\n",
       "      <td>NaN</td>\n",
       "      <td>NaN</td>\n",
       "      <td>NaN</td>\n",
       "      <td>NaN</td>\n",
       "      <td>0.0</td>\n",
       "    </tr>\n",
       "    <tr>\n",
       "      <th>2</th>\n",
       "      <td>2013-11-15 09:02:32</td>\n",
       "      <td>img.babylon.com</td>\n",
       "      <td>2013-11-15 09:02:32</td>\n",
       "      <td>www.google.com</td>\n",
       "      <td>2013-11-15 09:02:36</td>\n",
       "      <td>www.google.fr</td>\n",
       "      <td>2013-11-15 09:02:53</td>\n",
       "      <td>www.google.fr</td>\n",
       "      <td>2013-11-15 09:02:54</td>\n",
       "      <td>www.google.fr</td>\n",
       "      <td>...</td>\n",
       "      <td>NaN</td>\n",
       "      <td>NaT</td>\n",
       "      <td>NaN</td>\n",
       "      <td>NaT</td>\n",
       "      <td>NaN</td>\n",
       "      <td>NaN</td>\n",
       "      <td>NaN</td>\n",
       "      <td>NaN</td>\n",
       "      <td>NaN</td>\n",
       "      <td>0.0</td>\n",
       "    </tr>\n",
       "    <tr>\n",
       "      <th>3</th>\n",
       "      <td>2013-11-15 09:11:53</td>\n",
       "      <td>modis.gsfc.nasa.gov</td>\n",
       "      <td>NaT</td>\n",
       "      <td>NaN</td>\n",
       "      <td>NaT</td>\n",
       "      <td>NaN</td>\n",
       "      <td>NaT</td>\n",
       "      <td>NaN</td>\n",
       "      <td>NaT</td>\n",
       "      <td>NaN</td>\n",
       "      <td>...</td>\n",
       "      <td>NaN</td>\n",
       "      <td>NaT</td>\n",
       "      <td>NaN</td>\n",
       "      <td>NaT</td>\n",
       "      <td>NaN</td>\n",
       "      <td>NaN</td>\n",
       "      <td>NaN</td>\n",
       "      <td>NaN</td>\n",
       "      <td>NaN</td>\n",
       "      <td>0.0</td>\n",
       "    </tr>\n",
       "    <tr>\n",
       "      <th>4</th>\n",
       "      <td>2013-11-15 09:36:13</td>\n",
       "      <td>www.google.fr</td>\n",
       "      <td>2013-11-15 09:36:19</td>\n",
       "      <td>clients1.google.fr</td>\n",
       "      <td>2013-11-15 09:36:19</td>\n",
       "      <td>www.google.fr</td>\n",
       "      <td>2013-11-15 09:36:22</td>\n",
       "      <td>www.google.fr</td>\n",
       "      <td>2013-11-15 09:36:26</td>\n",
       "      <td>www.google.fr</td>\n",
       "      <td>...</td>\n",
       "      <td>khms0.google.fr</td>\n",
       "      <td>2013-11-15 09:36:33</td>\n",
       "      <td>khms1.google.fr</td>\n",
       "      <td>2013-11-15 09:36:33</td>\n",
       "      <td>mts0.google.com</td>\n",
       "      <td>2013-11-15 09:36:33</td>\n",
       "      <td>maps.google.fr</td>\n",
       "      <td>2013-11-15 09:36:34</td>\n",
       "      <td>maps.google.fr</td>\n",
       "      <td>0.0</td>\n",
       "    </tr>\n",
       "    <tr>\n",
       "      <th>...</th>\n",
       "      <td>...</td>\n",
       "      <td>...</td>\n",
       "      <td>...</td>\n",
       "      <td>...</td>\n",
       "      <td>...</td>\n",
       "      <td>...</td>\n",
       "      <td>...</td>\n",
       "      <td>...</td>\n",
       "      <td>...</td>\n",
       "      <td>...</td>\n",
       "      <td>...</td>\n",
       "      <td>...</td>\n",
       "      <td>...</td>\n",
       "      <td>...</td>\n",
       "      <td>...</td>\n",
       "      <td>...</td>\n",
       "      <td>...</td>\n",
       "      <td>...</td>\n",
       "      <td>...</td>\n",
       "      <td>...</td>\n",
       "      <td>...</td>\n",
       "    </tr>\n",
       "    <tr>\n",
       "      <th>83261</th>\n",
       "      <td>2014-04-14 17:12:43</td>\n",
       "      <td>platform.tumblr.com</td>\n",
       "      <td>2014-04-14 17:13:29</td>\n",
       "      <td>www.linkedin.com</td>\n",
       "      <td>2014-04-14 17:13:45</td>\n",
       "      <td>www.google.com</td>\n",
       "      <td>2014-04-14 17:13:46</td>\n",
       "      <td>sb-ssl.google.com</td>\n",
       "      <td>2014-04-14 17:13:48</td>\n",
       "      <td>ocsp.verisign.com</td>\n",
       "      <td>...</td>\n",
       "      <td>cimg.leguide.com</td>\n",
       "      <td>2014-04-14 17:13:52</td>\n",
       "      <td>ajax.googleapis.com</td>\n",
       "      <td>2014-04-14 17:13:52</td>\n",
       "      <td>code.jquery.com</td>\n",
       "      <td>2014-04-14 17:13:52</td>\n",
       "      <td>cdnjs.cloudflare.com</td>\n",
       "      <td>2014-04-14 17:13:52</td>\n",
       "      <td>annonces-immobilier.liberation.fr</td>\n",
       "      <td>0.0</td>\n",
       "    </tr>\n",
       "    <tr>\n",
       "      <th>83262</th>\n",
       "      <td>2014-04-14 17:13:52</td>\n",
       "      <td>flux.liberation.fr</td>\n",
       "      <td>2014-04-14 17:13:53</td>\n",
       "      <td>code.jquery.com</td>\n",
       "      <td>2014-04-14 17:13:53</td>\n",
       "      <td>annonces-immobilier.liberation.fr</td>\n",
       "      <td>2014-04-14 17:13:53</td>\n",
       "      <td>flux.liberation.fr</td>\n",
       "      <td>2014-04-14 17:13:53</td>\n",
       "      <td>pointscommuns.liberation.fr</td>\n",
       "      <td>...</td>\n",
       "      <td>ajax.googleapis.com</td>\n",
       "      <td>2014-04-14 17:13:55</td>\n",
       "      <td>s1.libe.com</td>\n",
       "      <td>2014-04-14 17:13:57</td>\n",
       "      <td>cdnjs.cloudflare.com</td>\n",
       "      <td>2014-04-14 17:13:57</td>\n",
       "      <td>code.jquery.com</td>\n",
       "      <td>2014-04-14 17:14:50</td>\n",
       "      <td>oracle.padiact.com</td>\n",
       "      <td>0.0</td>\n",
       "    </tr>\n",
       "    <tr>\n",
       "      <th>83263</th>\n",
       "      <td>2014-04-14 17:14:50</td>\n",
       "      <td>d2xgf76oeu9pbh.cloudfront.net</td>\n",
       "      <td>2014-04-14 17:15:48</td>\n",
       "      <td>ocsp.digicert.com</td>\n",
       "      <td>2014-04-14 17:16:43</td>\n",
       "      <td>www.google.com</td>\n",
       "      <td>2014-04-14 17:16:44</td>\n",
       "      <td>www.google.fr</td>\n",
       "      <td>2014-04-14 17:17:25</td>\n",
       "      <td>md1.libe.com</td>\n",
       "      <td>...</td>\n",
       "      <td>www.facebook.com</td>\n",
       "      <td>2014-04-14 17:17:32</td>\n",
       "      <td>pixel.alephd.com</td>\n",
       "      <td>2014-04-14 17:17:33</td>\n",
       "      <td>zor.fyre.co</td>\n",
       "      <td>2014-04-14 17:17:33</td>\n",
       "      <td>videosfr.s3.amazonaws.com</td>\n",
       "      <td>2014-04-14 17:17:33</td>\n",
       "      <td>pixel.alephd.com</td>\n",
       "      <td>0.0</td>\n",
       "    </tr>\n",
       "    <tr>\n",
       "      <th>83264</th>\n",
       "      <td>2014-04-14 17:17:33</td>\n",
       "      <td>hitcount.liberation.fr</td>\n",
       "      <td>2014-04-14 17:17:33</td>\n",
       "      <td>avatars.fyre.co</td>\n",
       "      <td>2014-04-14 17:17:34</td>\n",
       "      <td>ocsp.digicert.com</td>\n",
       "      <td>2014-04-14 17:17:35</td>\n",
       "      <td>md1.libe.com</td>\n",
       "      <td>2014-04-14 17:17:36</td>\n",
       "      <td>s1.libe.com</td>\n",
       "      <td>...</td>\n",
       "      <td>NaN</td>\n",
       "      <td>NaT</td>\n",
       "      <td>NaN</td>\n",
       "      <td>NaT</td>\n",
       "      <td>NaN</td>\n",
       "      <td>NaN</td>\n",
       "      <td>NaN</td>\n",
       "      <td>NaN</td>\n",
       "      <td>NaN</td>\n",
       "      <td>0.0</td>\n",
       "    </tr>\n",
       "    <tr>\n",
       "      <th>83265</th>\n",
       "      <td>2014-05-19 15:44:50</td>\n",
       "      <td>api.foxitcloud.com</td>\n",
       "      <td>NaT</td>\n",
       "      <td>NaN</td>\n",
       "      <td>NaT</td>\n",
       "      <td>NaN</td>\n",
       "      <td>NaT</td>\n",
       "      <td>NaN</td>\n",
       "      <td>NaT</td>\n",
       "      <td>NaN</td>\n",
       "      <td>...</td>\n",
       "      <td>NaN</td>\n",
       "      <td>NaT</td>\n",
       "      <td>NaN</td>\n",
       "      <td>NaT</td>\n",
       "      <td>NaN</td>\n",
       "      <td>NaN</td>\n",
       "      <td>NaN</td>\n",
       "      <td>NaN</td>\n",
       "      <td>NaN</td>\n",
       "      <td>0.0</td>\n",
       "    </tr>\n",
       "  </tbody>\n",
       "</table>\n",
       "<p>83266 rows × 41 columns</p>\n",
       "</div>"
      ],
      "text/plain": [
       "                    time1                          site1               time2  \\\n",
       "0     2013-11-15 08:01:09                  www.google.fr 2013-11-15 08:01:10   \n",
       "1     2013-11-15 08:29:00   javadl-esd-secure.oracle.com 2013-11-15 08:29:04   \n",
       "2     2013-11-15 09:02:32                img.babylon.com 2013-11-15 09:02:32   \n",
       "3     2013-11-15 09:11:53            modis.gsfc.nasa.gov                 NaT   \n",
       "4     2013-11-15 09:36:13                  www.google.fr 2013-11-15 09:36:19   \n",
       "...                   ...                            ...                 ...   \n",
       "83261 2014-04-14 17:12:43            platform.tumblr.com 2014-04-14 17:13:29   \n",
       "83262 2014-04-14 17:13:52             flux.liberation.fr 2014-04-14 17:13:53   \n",
       "83263 2014-04-14 17:14:50  d2xgf76oeu9pbh.cloudfront.net 2014-04-14 17:15:48   \n",
       "83264 2014-04-14 17:17:33         hitcount.liberation.fr 2014-04-14 17:17:33   \n",
       "83265 2014-05-19 15:44:50             api.foxitcloud.com                 NaT   \n",
       "\n",
       "                              site2               time3  \\\n",
       "0                     www.google.fr 2013-11-15 08:01:11   \n",
       "1      javadl-esd-secure.oracle.com 2013-11-15 08:29:06   \n",
       "2                    www.google.com 2013-11-15 09:02:36   \n",
       "3                               NaN                 NaT   \n",
       "4                clients1.google.fr 2013-11-15 09:36:19   \n",
       "...                             ...                 ...   \n",
       "83261              www.linkedin.com 2014-04-14 17:13:45   \n",
       "83262               code.jquery.com 2014-04-14 17:13:53   \n",
       "83263             ocsp.digicert.com 2014-04-14 17:16:43   \n",
       "83264               avatars.fyre.co 2014-04-14 17:17:34   \n",
       "83265                           NaN                 NaT   \n",
       "\n",
       "                                   site3               time4  \\\n",
       "0                        apis.google.com 2013-11-15 08:01:12   \n",
       "1                        img.babylon.com 2013-11-15 08:29:07   \n",
       "2                          www.google.fr 2013-11-15 09:02:53   \n",
       "3                                    NaN                 NaT   \n",
       "4                          www.google.fr 2013-11-15 09:36:22   \n",
       "...                                  ...                 ...   \n",
       "83261                     www.google.com 2014-04-14 17:13:46   \n",
       "83262  annonces-immobilier.liberation.fr 2014-04-14 17:13:53   \n",
       "83263                     www.google.com 2014-04-14 17:16:44   \n",
       "83264                  ocsp.digicert.com 2014-04-14 17:17:35   \n",
       "83265                                NaN                 NaT   \n",
       "\n",
       "                            site4               time5  \\\n",
       "0                  www.google.com 2013-11-15 08:01:16   \n",
       "1      fpdownload2.macromedia.com 2013-11-15 08:29:17   \n",
       "2                   www.google.fr 2013-11-15 09:02:54   \n",
       "3                             NaN                 NaT   \n",
       "4                   www.google.fr 2013-11-15 09:36:26   \n",
       "...                           ...                 ...   \n",
       "83261           sb-ssl.google.com 2014-04-14 17:13:48   \n",
       "83262          flux.liberation.fr 2014-04-14 17:13:53   \n",
       "83263               www.google.fr 2014-04-14 17:17:25   \n",
       "83264                md1.libe.com 2014-04-14 17:17:36   \n",
       "83265                         NaN                 NaT   \n",
       "\n",
       "                             site5  ...               site16  \\\n",
       "0                    www.google.fr  ...      img.babylon.com   \n",
       "1                    www.google.fr  ...                  NaN   \n",
       "2                    www.google.fr  ...                  NaN   \n",
       "3                              NaN  ...                  NaN   \n",
       "4                    www.google.fr  ...      khms0.google.fr   \n",
       "...                            ...  ...                  ...   \n",
       "83261            ocsp.verisign.com  ...     cimg.leguide.com   \n",
       "83262  pointscommuns.liberation.fr  ...  ajax.googleapis.com   \n",
       "83263                 md1.libe.com  ...     www.facebook.com   \n",
       "83264                  s1.libe.com  ...                  NaN   \n",
       "83265                          NaN  ...                  NaN   \n",
       "\n",
       "                   time17               site17              time18  \\\n",
       "0     2013-11-15 08:03:56     go.microsoft.com 2013-11-15 08:03:56   \n",
       "1                     NaT                  NaN                 NaT   \n",
       "2                     NaT                  NaN                 NaT   \n",
       "3                     NaT                  NaN                 NaT   \n",
       "4     2013-11-15 09:36:33      khms1.google.fr 2013-11-15 09:36:33   \n",
       "...                   ...                  ...                 ...   \n",
       "83261 2014-04-14 17:13:52  ajax.googleapis.com 2014-04-14 17:13:52   \n",
       "83262 2014-04-14 17:13:55          s1.libe.com 2014-04-14 17:13:57   \n",
       "83263 2014-04-14 17:17:32     pixel.alephd.com 2014-04-14 17:17:33   \n",
       "83264                 NaT                  NaN                 NaT   \n",
       "83265                 NaT                  NaN                 NaT   \n",
       "\n",
       "                       site18               time19                     site19  \\\n",
       "0      ieonline.microsoft.com                  NaN                        NaN   \n",
       "1                         NaN                  NaN                        NaN   \n",
       "2                         NaN                  NaN                        NaN   \n",
       "3                         NaN                  NaN                        NaN   \n",
       "4             mts0.google.com  2013-11-15 09:36:33             maps.google.fr   \n",
       "...                       ...                  ...                        ...   \n",
       "83261         code.jquery.com  2014-04-14 17:13:52       cdnjs.cloudflare.com   \n",
       "83262    cdnjs.cloudflare.com  2014-04-14 17:13:57            code.jquery.com   \n",
       "83263             zor.fyre.co  2014-04-14 17:17:33  videosfr.s3.amazonaws.com   \n",
       "83264                     NaN                  NaN                        NaN   \n",
       "83265                     NaN                  NaN                        NaN   \n",
       "\n",
       "                    time20                             site20 target  \n",
       "0                      NaN                                NaN    0.0  \n",
       "1                      NaN                                NaN    0.0  \n",
       "2                      NaN                                NaN    0.0  \n",
       "3                      NaN                                NaN    0.0  \n",
       "4      2013-11-15 09:36:34                     maps.google.fr    0.0  \n",
       "...                    ...                                ...    ...  \n",
       "83261  2014-04-14 17:13:52  annonces-immobilier.liberation.fr    0.0  \n",
       "83262  2014-04-14 17:14:50                 oracle.padiact.com    0.0  \n",
       "83263  2014-04-14 17:17:33                   pixel.alephd.com    0.0  \n",
       "83264                  NaN                                NaN    0.0  \n",
       "83265                  NaN                                NaN    0.0  \n",
       "\n",
       "[83266 rows x 41 columns]"
      ]
     },
     "execution_count": 19,
     "metadata": {},
     "output_type": "execute_result"
    }
   ],
   "source": [
    "%%time\n",
    "data = create_dataframe(path_to_data)\n",
    "data"
   ]
  },
  {
   "cell_type": "markdown",
   "id": "9702b8fb",
   "metadata": {},
   "source": [
    "Отсортируем строки по времени начала сессии и сохраним датасет"
   ]
  },
  {
   "cell_type": "code",
   "execution_count": 64,
   "id": "e28d0d0f",
   "metadata": {},
   "outputs": [],
   "source": [
    "data = data.sort_values('time1')\n",
    "data.to_csv('sessions_with_domains.csv', index = False)"
   ]
  },
  {
   "cell_type": "code",
   "execution_count": 2,
   "id": "6b98d898",
   "metadata": {
    "scrolled": false
   },
   "outputs": [
    {
     "data": {
      "text/html": [
       "<div>\n",
       "<style scoped>\n",
       "    .dataframe tbody tr th:only-of-type {\n",
       "        vertical-align: middle;\n",
       "    }\n",
       "\n",
       "    .dataframe tbody tr th {\n",
       "        vertical-align: top;\n",
       "    }\n",
       "\n",
       "    .dataframe thead th {\n",
       "        text-align: right;\n",
       "    }\n",
       "</style>\n",
       "<table border=\"1\" class=\"dataframe\">\n",
       "  <thead>\n",
       "    <tr style=\"text-align: right;\">\n",
       "      <th></th>\n",
       "      <th>time1</th>\n",
       "      <th>site1</th>\n",
       "      <th>time2</th>\n",
       "      <th>site2</th>\n",
       "      <th>time3</th>\n",
       "      <th>site3</th>\n",
       "      <th>time4</th>\n",
       "      <th>site4</th>\n",
       "      <th>time5</th>\n",
       "      <th>site5</th>\n",
       "      <th>...</th>\n",
       "      <th>site16</th>\n",
       "      <th>time17</th>\n",
       "      <th>site17</th>\n",
       "      <th>time18</th>\n",
       "      <th>site18</th>\n",
       "      <th>time19</th>\n",
       "      <th>site19</th>\n",
       "      <th>time20</th>\n",
       "      <th>site20</th>\n",
       "      <th>target</th>\n",
       "    </tr>\n",
       "  </thead>\n",
       "  <tbody>\n",
       "    <tr>\n",
       "      <th>0</th>\n",
       "      <td>2013-11-15 08:01:09</td>\n",
       "      <td>www.google.fr</td>\n",
       "      <td>2013-11-15 08:01:10</td>\n",
       "      <td>www.google.fr</td>\n",
       "      <td>2013-11-15 08:01:11</td>\n",
       "      <td>apis.google.com</td>\n",
       "      <td>2013-11-15 08:01:12</td>\n",
       "      <td>www.google.com</td>\n",
       "      <td>2013-11-15 08:01:16</td>\n",
       "      <td>www.google.fr</td>\n",
       "      <td>...</td>\n",
       "      <td>img.babylon.com</td>\n",
       "      <td>2013-11-15 08:03:56</td>\n",
       "      <td>go.microsoft.com</td>\n",
       "      <td>2013-11-15 08:03:56</td>\n",
       "      <td>ieonline.microsoft.com</td>\n",
       "      <td>NaN</td>\n",
       "      <td>NaN</td>\n",
       "      <td>NaN</td>\n",
       "      <td>NaN</td>\n",
       "      <td>0.0</td>\n",
       "    </tr>\n",
       "    <tr>\n",
       "      <th>1</th>\n",
       "      <td>2013-11-15 08:04:12</td>\n",
       "      <td>armmf.adobe.com</td>\n",
       "      <td>2013-11-15 08:05:31</td>\n",
       "      <td>www.google.fr</td>\n",
       "      <td>2013-11-15 08:05:32</td>\n",
       "      <td>apis.google.com</td>\n",
       "      <td>2013-11-15 08:05:32</td>\n",
       "      <td>www.google.com</td>\n",
       "      <td>2013-11-15 08:05:35</td>\n",
       "      <td>www.google.fr</td>\n",
       "      <td>...</td>\n",
       "      <td>www.google.fr</td>\n",
       "      <td>2013-11-15 08:06:20</td>\n",
       "      <td>apis.google.com</td>\n",
       "      <td>2013-11-15 08:06:23</td>\n",
       "      <td>www.google.com</td>\n",
       "      <td>2013-11-15 08:06:29</td>\n",
       "      <td>apis.google.com</td>\n",
       "      <td>2013-11-15 08:06:29</td>\n",
       "      <td>www.google.com</td>\n",
       "      <td>0.0</td>\n",
       "    </tr>\n",
       "    <tr>\n",
       "      <th>2</th>\n",
       "      <td>2013-11-15 08:06:29</td>\n",
       "      <td>www.google.fr</td>\n",
       "      <td>2013-11-15 08:06:30</td>\n",
       "      <td>www.google.fr</td>\n",
       "      <td>2013-11-15 08:06:30</td>\n",
       "      <td>ajax.googleapis.com</td>\n",
       "      <td>2013-11-15 08:06:30</td>\n",
       "      <td>www.sol-solution.com</td>\n",
       "      <td>2013-11-15 08:06:31</td>\n",
       "      <td>www.sol-solution.com</td>\n",
       "      <td>...</td>\n",
       "      <td>www.google.fr</td>\n",
       "      <td>2013-11-15 08:07:50</td>\n",
       "      <td>www.apogeedigital.com</td>\n",
       "      <td>2013-11-15 08:07:51</td>\n",
       "      <td>www.apogeedigital.com</td>\n",
       "      <td>2013-11-15 08:07:52</td>\n",
       "      <td>www.apogeedigital.com</td>\n",
       "      <td>2013-11-15 08:07:53</td>\n",
       "      <td>www.apogeedigital.com</td>\n",
       "      <td>0.0</td>\n",
       "    </tr>\n",
       "    <tr>\n",
       "      <th>3</th>\n",
       "      <td>2013-11-15 08:07:35</td>\n",
       "      <td>www.google.com</td>\n",
       "      <td>2013-11-15 08:07:35</td>\n",
       "      <td>www.google.fr</td>\n",
       "      <td>2013-11-15 08:07:47</td>\n",
       "      <td>www.google.fr</td>\n",
       "      <td>2013-11-15 08:07:47</td>\n",
       "      <td>apis.google.com</td>\n",
       "      <td>2013-11-15 08:07:47</td>\n",
       "      <td>id.google.fr</td>\n",
       "      <td>...</td>\n",
       "      <td>blast.ncbi.nlm.nih.gov</td>\n",
       "      <td>2013-11-15 08:08:34</td>\n",
       "      <td>blast.ncbi.nlm.nih.gov</td>\n",
       "      <td>2013-11-15 08:08:35</td>\n",
       "      <td>blast.ncbi.nlm.nih.gov</td>\n",
       "      <td>2013-11-15 08:08:38</td>\n",
       "      <td>blast.ncbi.nlm.nih.gov</td>\n",
       "      <td>2013-11-15 08:08:39</td>\n",
       "      <td>blast.ncbi.nlm.nih.gov</td>\n",
       "      <td>0.0</td>\n",
       "    </tr>\n",
       "    <tr>\n",
       "      <th>4</th>\n",
       "      <td>2013-11-15 08:07:54</td>\n",
       "      <td>www.apogeedigital.com</td>\n",
       "      <td>2013-11-15 08:07:55</td>\n",
       "      <td>www.apogeedigital.com</td>\n",
       "      <td>2013-11-15 08:08:00</td>\n",
       "      <td>www.apogeedigital.com</td>\n",
       "      <td>2013-11-15 08:08:01</td>\n",
       "      <td>www.apogeedigital.com</td>\n",
       "      <td>2013-11-15 08:08:02</td>\n",
       "      <td>www.apogeedigital.com</td>\n",
       "      <td>...</td>\n",
       "      <td>www.facebook.com</td>\n",
       "      <td>2013-11-15 08:08:21</td>\n",
       "      <td>www.google.com</td>\n",
       "      <td>2013-11-15 08:08:21</td>\n",
       "      <td>www.google.fr</td>\n",
       "      <td>2013-11-15 08:08:27</td>\n",
       "      <td>www.apogeedigital.com</td>\n",
       "      <td>2013-11-15 08:08:28</td>\n",
       "      <td>www.apogeedigital.com</td>\n",
       "      <td>0.0</td>\n",
       "    </tr>\n",
       "    <tr>\n",
       "      <th>...</th>\n",
       "      <td>...</td>\n",
       "      <td>...</td>\n",
       "      <td>...</td>\n",
       "      <td>...</td>\n",
       "      <td>...</td>\n",
       "      <td>...</td>\n",
       "      <td>...</td>\n",
       "      <td>...</td>\n",
       "      <td>...</td>\n",
       "      <td>...</td>\n",
       "      <td>...</td>\n",
       "      <td>...</td>\n",
       "      <td>...</td>\n",
       "      <td>...</td>\n",
       "      <td>...</td>\n",
       "      <td>...</td>\n",
       "      <td>...</td>\n",
       "      <td>...</td>\n",
       "      <td>...</td>\n",
       "      <td>...</td>\n",
       "      <td>...</td>\n",
       "    </tr>\n",
       "    <tr>\n",
       "      <th>83261</th>\n",
       "      <td>2014-05-28 19:02:25</td>\n",
       "      <td>www.mangareader.net</td>\n",
       "      <td>2014-05-28 19:02:25</td>\n",
       "      <td>www.facebook.com</td>\n",
       "      <td>2014-05-28 19:02:51</td>\n",
       "      <td>www.mangareader.net</td>\n",
       "      <td>2014-05-28 19:02:52</td>\n",
       "      <td>www.facebook.com</td>\n",
       "      <td>2014-05-28 19:02:53</td>\n",
       "      <td>i6.mangareader.net</td>\n",
       "      <td>...</td>\n",
       "      <td>www.facebook.com</td>\n",
       "      <td>2014-05-28 19:03:01</td>\n",
       "      <td>www.mangareader.net</td>\n",
       "      <td>2014-05-28 19:03:02</td>\n",
       "      <td>www.mangareader.net</td>\n",
       "      <td>2014-05-28 19:03:02</td>\n",
       "      <td>www.facebook.com</td>\n",
       "      <td>2014-05-28 19:03:03</td>\n",
       "      <td>www.mangareader.net</td>\n",
       "      <td>0.0</td>\n",
       "    </tr>\n",
       "    <tr>\n",
       "      <th>83262</th>\n",
       "      <td>2014-05-28 19:03:03</td>\n",
       "      <td>i5.mangareader.net</td>\n",
       "      <td>2014-05-28 19:03:04</td>\n",
       "      <td>www.facebook.com</td>\n",
       "      <td>2014-05-28 19:03:04</td>\n",
       "      <td>www.mangareader.net</td>\n",
       "      <td>2014-05-28 19:03:50</td>\n",
       "      <td>www.mangareader.net</td>\n",
       "      <td>2014-05-28 19:03:51</td>\n",
       "      <td>www.mangareader.net</td>\n",
       "      <td>...</td>\n",
       "      <td>www.facebook.com</td>\n",
       "      <td>2014-05-28 19:04:46</td>\n",
       "      <td>i3.mangareader.net</td>\n",
       "      <td>2014-05-28 19:05:02</td>\n",
       "      <td>www.mangareader.net</td>\n",
       "      <td>2014-05-28 19:05:03</td>\n",
       "      <td>www.facebook.com</td>\n",
       "      <td>2014-05-28 19:05:03</td>\n",
       "      <td>www.mangareader.net</td>\n",
       "      <td>0.0</td>\n",
       "    </tr>\n",
       "    <tr>\n",
       "      <th>83263</th>\n",
       "      <td>2014-05-28 19:05:35</td>\n",
       "      <td>www.mangareader.net</td>\n",
       "      <td>2014-05-28 19:05:36</td>\n",
       "      <td>www.facebook.com</td>\n",
       "      <td>2014-05-28 19:05:36</td>\n",
       "      <td>www.mangareader.net</td>\n",
       "      <td>2014-05-28 19:06:01</td>\n",
       "      <td>www.mangareader.net</td>\n",
       "      <td>2014-05-28 19:06:02</td>\n",
       "      <td>www.mangareader.net</td>\n",
       "      <td>...</td>\n",
       "      <td>www.mangareader.net</td>\n",
       "      <td>2014-05-28 19:07:09</td>\n",
       "      <td>www.mangareader.net</td>\n",
       "      <td>2014-05-28 19:07:10</td>\n",
       "      <td>www.facebook.com</td>\n",
       "      <td>2014-05-28 19:07:24</td>\n",
       "      <td>www.mangareader.net</td>\n",
       "      <td>2014-05-28 19:07:25</td>\n",
       "      <td>www.facebook.com</td>\n",
       "      <td>0.0</td>\n",
       "    </tr>\n",
       "    <tr>\n",
       "      <th>83264</th>\n",
       "      <td>2014-05-28 19:07:38</td>\n",
       "      <td>www.mangareader.net</td>\n",
       "      <td>2014-05-28 19:07:39</td>\n",
       "      <td>www.mangareader.net</td>\n",
       "      <td>2014-05-28 19:07:40</td>\n",
       "      <td>www.facebook.com</td>\n",
       "      <td>2014-05-28 19:07:46</td>\n",
       "      <td>www.mangareader.net</td>\n",
       "      <td>2014-05-28 19:07:47</td>\n",
       "      <td>www.mangareader.net</td>\n",
       "      <td>...</td>\n",
       "      <td>www.mangareader.net</td>\n",
       "      <td>2014-05-28 19:09:40</td>\n",
       "      <td>www.facebook.com</td>\n",
       "      <td>2014-05-28 19:09:59</td>\n",
       "      <td>www.mangareader.net</td>\n",
       "      <td>2014-05-28 19:10:00</td>\n",
       "      <td>www.mangareader.net</td>\n",
       "      <td>2014-05-28 19:10:00</td>\n",
       "      <td>www.facebook.com</td>\n",
       "      <td>0.0</td>\n",
       "    </tr>\n",
       "    <tr>\n",
       "      <th>83265</th>\n",
       "      <td>2014-05-28 19:10:01</td>\n",
       "      <td>i3.mangareader.net</td>\n",
       "      <td>2014-05-28 19:10:14</td>\n",
       "      <td>www.mangareader.net</td>\n",
       "      <td>2014-05-28 19:10:15</td>\n",
       "      <td>www.facebook.com</td>\n",
       "      <td>2014-05-28 19:10:15</td>\n",
       "      <td>www.mangareader.net</td>\n",
       "      <td>NaN</td>\n",
       "      <td>NaN</td>\n",
       "      <td>...</td>\n",
       "      <td>NaN</td>\n",
       "      <td>NaN</td>\n",
       "      <td>NaN</td>\n",
       "      <td>NaN</td>\n",
       "      <td>NaN</td>\n",
       "      <td>NaN</td>\n",
       "      <td>NaN</td>\n",
       "      <td>NaN</td>\n",
       "      <td>NaN</td>\n",
       "      <td>0.0</td>\n",
       "    </tr>\n",
       "  </tbody>\n",
       "</table>\n",
       "<p>83266 rows × 41 columns</p>\n",
       "</div>"
      ],
      "text/plain": [
       "                     time1                  site1                time2  \\\n",
       "0      2013-11-15 08:01:09          www.google.fr  2013-11-15 08:01:10   \n",
       "1      2013-11-15 08:04:12        armmf.adobe.com  2013-11-15 08:05:31   \n",
       "2      2013-11-15 08:06:29          www.google.fr  2013-11-15 08:06:30   \n",
       "3      2013-11-15 08:07:35         www.google.com  2013-11-15 08:07:35   \n",
       "4      2013-11-15 08:07:54  www.apogeedigital.com  2013-11-15 08:07:55   \n",
       "...                    ...                    ...                  ...   \n",
       "83261  2014-05-28 19:02:25    www.mangareader.net  2014-05-28 19:02:25   \n",
       "83262  2014-05-28 19:03:03     i5.mangareader.net  2014-05-28 19:03:04   \n",
       "83263  2014-05-28 19:05:35    www.mangareader.net  2014-05-28 19:05:36   \n",
       "83264  2014-05-28 19:07:38    www.mangareader.net  2014-05-28 19:07:39   \n",
       "83265  2014-05-28 19:10:01     i3.mangareader.net  2014-05-28 19:10:14   \n",
       "\n",
       "                       site2                time3                  site3  \\\n",
       "0              www.google.fr  2013-11-15 08:01:11        apis.google.com   \n",
       "1              www.google.fr  2013-11-15 08:05:32        apis.google.com   \n",
       "2              www.google.fr  2013-11-15 08:06:30    ajax.googleapis.com   \n",
       "3              www.google.fr  2013-11-15 08:07:47          www.google.fr   \n",
       "4      www.apogeedigital.com  2013-11-15 08:08:00  www.apogeedigital.com   \n",
       "...                      ...                  ...                    ...   \n",
       "83261       www.facebook.com  2014-05-28 19:02:51    www.mangareader.net   \n",
       "83262       www.facebook.com  2014-05-28 19:03:04    www.mangareader.net   \n",
       "83263       www.facebook.com  2014-05-28 19:05:36    www.mangareader.net   \n",
       "83264    www.mangareader.net  2014-05-28 19:07:40       www.facebook.com   \n",
       "83265    www.mangareader.net  2014-05-28 19:10:15       www.facebook.com   \n",
       "\n",
       "                     time4                  site4                time5  \\\n",
       "0      2013-11-15 08:01:12         www.google.com  2013-11-15 08:01:16   \n",
       "1      2013-11-15 08:05:32         www.google.com  2013-11-15 08:05:35   \n",
       "2      2013-11-15 08:06:30   www.sol-solution.com  2013-11-15 08:06:31   \n",
       "3      2013-11-15 08:07:47        apis.google.com  2013-11-15 08:07:47   \n",
       "4      2013-11-15 08:08:01  www.apogeedigital.com  2013-11-15 08:08:02   \n",
       "...                    ...                    ...                  ...   \n",
       "83261  2014-05-28 19:02:52       www.facebook.com  2014-05-28 19:02:53   \n",
       "83262  2014-05-28 19:03:50    www.mangareader.net  2014-05-28 19:03:51   \n",
       "83263  2014-05-28 19:06:01    www.mangareader.net  2014-05-28 19:06:02   \n",
       "83264  2014-05-28 19:07:46    www.mangareader.net  2014-05-28 19:07:47   \n",
       "83265  2014-05-28 19:10:15    www.mangareader.net                  NaN   \n",
       "\n",
       "                       site5  ...                  site16  \\\n",
       "0              www.google.fr  ...         img.babylon.com   \n",
       "1              www.google.fr  ...           www.google.fr   \n",
       "2       www.sol-solution.com  ...           www.google.fr   \n",
       "3               id.google.fr  ...  blast.ncbi.nlm.nih.gov   \n",
       "4      www.apogeedigital.com  ...        www.facebook.com   \n",
       "...                      ...  ...                     ...   \n",
       "83261     i6.mangareader.net  ...        www.facebook.com   \n",
       "83262    www.mangareader.net  ...        www.facebook.com   \n",
       "83263    www.mangareader.net  ...     www.mangareader.net   \n",
       "83264    www.mangareader.net  ...     www.mangareader.net   \n",
       "83265                    NaN  ...                     NaN   \n",
       "\n",
       "                    time17                  site17               time18  \\\n",
       "0      2013-11-15 08:03:56        go.microsoft.com  2013-11-15 08:03:56   \n",
       "1      2013-11-15 08:06:20         apis.google.com  2013-11-15 08:06:23   \n",
       "2      2013-11-15 08:07:50   www.apogeedigital.com  2013-11-15 08:07:51   \n",
       "3      2013-11-15 08:08:34  blast.ncbi.nlm.nih.gov  2013-11-15 08:08:35   \n",
       "4      2013-11-15 08:08:21          www.google.com  2013-11-15 08:08:21   \n",
       "...                    ...                     ...                  ...   \n",
       "83261  2014-05-28 19:03:01     www.mangareader.net  2014-05-28 19:03:02   \n",
       "83262  2014-05-28 19:04:46      i3.mangareader.net  2014-05-28 19:05:02   \n",
       "83263  2014-05-28 19:07:09     www.mangareader.net  2014-05-28 19:07:10   \n",
       "83264  2014-05-28 19:09:40        www.facebook.com  2014-05-28 19:09:59   \n",
       "83265                  NaN                     NaN                  NaN   \n",
       "\n",
       "                       site18               time19                  site19  \\\n",
       "0      ieonline.microsoft.com                  NaN                     NaN   \n",
       "1              www.google.com  2013-11-15 08:06:29         apis.google.com   \n",
       "2       www.apogeedigital.com  2013-11-15 08:07:52   www.apogeedigital.com   \n",
       "3      blast.ncbi.nlm.nih.gov  2013-11-15 08:08:38  blast.ncbi.nlm.nih.gov   \n",
       "4               www.google.fr  2013-11-15 08:08:27   www.apogeedigital.com   \n",
       "...                       ...                  ...                     ...   \n",
       "83261     www.mangareader.net  2014-05-28 19:03:02        www.facebook.com   \n",
       "83262     www.mangareader.net  2014-05-28 19:05:03        www.facebook.com   \n",
       "83263        www.facebook.com  2014-05-28 19:07:24     www.mangareader.net   \n",
       "83264     www.mangareader.net  2014-05-28 19:10:00     www.mangareader.net   \n",
       "83265                     NaN                  NaN                     NaN   \n",
       "\n",
       "                    time20                  site20 target  \n",
       "0                      NaN                     NaN    0.0  \n",
       "1      2013-11-15 08:06:29          www.google.com    0.0  \n",
       "2      2013-11-15 08:07:53   www.apogeedigital.com    0.0  \n",
       "3      2013-11-15 08:08:39  blast.ncbi.nlm.nih.gov    0.0  \n",
       "4      2013-11-15 08:08:28   www.apogeedigital.com    0.0  \n",
       "...                    ...                     ...    ...  \n",
       "83261  2014-05-28 19:03:03     www.mangareader.net    0.0  \n",
       "83262  2014-05-28 19:05:03     www.mangareader.net    0.0  \n",
       "83263  2014-05-28 19:07:25        www.facebook.com    0.0  \n",
       "83264  2014-05-28 19:10:00        www.facebook.com    0.0  \n",
       "83265                  NaN                     NaN    0.0  \n",
       "\n",
       "[83266 rows x 41 columns]"
      ]
     },
     "execution_count": 2,
     "metadata": {},
     "output_type": "execute_result"
    }
   ],
   "source": [
    "data = pd.read_csv('sessions_with_domains.csv')\n",
    "data"
   ]
  },
  {
   "cell_type": "code",
   "execution_count": 65,
   "id": "a9a054f5",
   "metadata": {},
   "outputs": [
    {
     "name": "stdout",
     "output_type": "stream",
     "text": [
      "<class 'pandas.core.frame.DataFrame'>\n",
      "Int64Index: 83266 entries, 0 to 83265\n",
      "Data columns (total 41 columns):\n",
      " #   Column  Non-Null Count  Dtype  \n",
      "---  ------  --------------  -----  \n",
      " 0   time1   83266 non-null  object \n",
      " 1   site1   83266 non-null  object \n",
      " 2   time2   79541 non-null  object \n",
      " 3   site2   79541 non-null  object \n",
      " 4   time3   76544 non-null  object \n",
      " 5   site3   76544 non-null  object \n",
      " 6   time4   74114 non-null  object \n",
      " 7   site4   74114 non-null  object \n",
      " 8   time5   72607 non-null  object \n",
      " 9   site5   72607 non-null  object \n",
      " 10  time6   71325 non-null  object \n",
      " 11  site6   71325 non-null  object \n",
      " 12  time7   70255 non-null  object \n",
      " 13  site7   70255 non-null  object \n",
      " 14  time8   69341 non-null  object \n",
      " 15  site8   69341 non-null  object \n",
      " 16  time9   68423 non-null  object \n",
      " 17  site9   68423 non-null  object \n",
      " 18  time10  67571 non-null  object \n",
      " 19  site10  67571 non-null  object \n",
      " 20  time11  66752 non-null  object \n",
      " 21  site11  66752 non-null  object \n",
      " 22  time12  65986 non-null  object \n",
      " 23  site12  65986 non-null  object \n",
      " 24  time13  65270 non-null  object \n",
      " 25  site13  65270 non-null  object \n",
      " 26  time14  64564 non-null  object \n",
      " 27  site14  64564 non-null  object \n",
      " 28  time15  63903 non-null  object \n",
      " 29  site15  63903 non-null  object \n",
      " 30  time16  63262 non-null  object \n",
      " 31  site16  63262 non-null  object \n",
      " 32  time17  62618 non-null  object \n",
      " 33  site17  62618 non-null  object \n",
      " 34  time18  61982 non-null  object \n",
      " 35  site18  61982 non-null  object \n",
      " 36  time19  61403 non-null  object \n",
      " 37  site19  61403 non-null  object \n",
      " 38  time20  60783 non-null  object \n",
      " 39  site20  60783 non-null  object \n",
      " 40  target  83266 non-null  float64\n",
      "dtypes: float64(1), object(40)\n",
      "memory usage: 26.7+ MB\n"
     ]
    }
   ],
   "source": [
    "data.info()"
   ]
  },
  {
   "cell_type": "code",
   "execution_count": 5,
   "id": "13299dd5",
   "metadata": {
    "scrolled": true
   },
   "outputs": [
    {
     "name": "stdout",
     "output_type": "stream",
     "text": [
      "0    82925\n",
      "1      341\n",
      "Name: target, dtype: int64\n"
     ]
    },
    {
     "data": {
      "image/png": "[encoded data removed]",
      "text/plain": [
       "<Figure size 432x288 with 1 Axes>"
      ]
     },
     "metadata": {
      "needs_background": "light"
     },
     "output_type": "display_data"
    }
   ],
   "source": [
    "sns.countplot(data['target']);\n",
    "print(data['target'].value_counts())"
   ]
  },
  {
   "cell_type": "markdown",
   "id": "b0e076ba",
   "metadata": {},
   "source": [
    "Создадим новые признаки:\n",
    "\n",
    "*number_of_sites* — количество посещенных сайтов за сессию\n",
    "\n",
    "*session_duration* — длительность сессии в секундах\n",
    "\n",
    "*minute* — минута начала сессии (от 0 до 59)\n",
    "\n",
    "*hour* — час начала сессии (от 0 до 23)\n",
    "\n",
    "*day* — день сессии (от 1 до 31)\n",
    "\n",
    "*weekday* — день недели сессии (от 0 до 6)\n",
    "\n",
    "*month* — месяц начала сессии (от 1 до 12)"
   ]
  },
  {
   "cell_type": "code",
   "execution_count": 3,
   "id": "4d7675fa",
   "metadata": {},
   "outputs": [],
   "source": [
    "def create_features(data):\n",
    "    times = ['time' + str(i) for i in range(1, 21)]\n",
    "    sites = ['site' + str(i) for i in range(1, 21)]\n",
    "\n",
    "    data[times] = data[times].apply(pd.to_datetime)\n",
    "    data['target'] = data['target'].astype('int')\n",
    "    data['number_of_sites'] = ((data.notna().sum(axis=1)) -1) / 2\n",
    "    data['number_of_sites'] = data['number_of_sites'].astype('int64')\n",
    "    data['session_start'] = data[[f\"time{i}\" for i in range(1,11)]].min(axis=1)\n",
    "    data['session_end'] = data[[f\"time{i}\" for i in range(1,11)]].max(axis=1)\n",
    "    data['session_duration'] = (data['session_end'] - data['session_start']).dt.seconds\n",
    "    data['minute'] = data['session_start'].dt.minute\n",
    "    data['hour'] = data['session_start'].dt.hour\n",
    "    data['hour'] = data['hour'].astype('category')\n",
    "    data['day'] = data['session_start'].dt.day\n",
    "    data['day'] = data['day'].astype('category')\n",
    "    data['weekday'] = data['session_start'].dt.dayofweek\n",
    "    data['weekday'] = data['weekday'].astype('category')\n",
    "    data['month'] = data['session_start'].dt.month\n",
    "    del data['session_start']\n",
    "    del data['session_end']"
   ]
  },
  {
   "cell_type": "code",
   "execution_count": 4,
   "id": "e020af6a",
   "metadata": {},
   "outputs": [
    {
     "name": "stdout",
     "output_type": "stream",
     "text": [
      "Wall time: 3.52 s\n"
     ]
    },
    {
     "data": {
      "text/html": [
       "<div>\n",
       "<style scoped>\n",
       "    .dataframe tbody tr th:only-of-type {\n",
       "        vertical-align: middle;\n",
       "    }\n",
       "\n",
       "    .dataframe tbody tr th {\n",
       "        vertical-align: top;\n",
       "    }\n",
       "\n",
       "    .dataframe thead th {\n",
       "        text-align: right;\n",
       "    }\n",
       "</style>\n",
       "<table border=\"1\" class=\"dataframe\">\n",
       "  <thead>\n",
       "    <tr style=\"text-align: right;\">\n",
       "      <th></th>\n",
       "      <th>time1</th>\n",
       "      <th>site1</th>\n",
       "      <th>time2</th>\n",
       "      <th>site2</th>\n",
       "      <th>time3</th>\n",
       "      <th>site3</th>\n",
       "      <th>time4</th>\n",
       "      <th>site4</th>\n",
       "      <th>time5</th>\n",
       "      <th>site5</th>\n",
       "      <th>...</th>\n",
       "      <th>time20</th>\n",
       "      <th>site20</th>\n",
       "      <th>target</th>\n",
       "      <th>number_of_sites</th>\n",
       "      <th>session_duration</th>\n",
       "      <th>minute</th>\n",
       "      <th>hour</th>\n",
       "      <th>day</th>\n",
       "      <th>weekday</th>\n",
       "      <th>month</th>\n",
       "    </tr>\n",
       "  </thead>\n",
       "  <tbody>\n",
       "    <tr>\n",
       "      <th>0</th>\n",
       "      <td>2013-11-15 08:01:09</td>\n",
       "      <td>www.google.fr</td>\n",
       "      <td>2013-11-15 08:01:10</td>\n",
       "      <td>www.google.fr</td>\n",
       "      <td>2013-11-15 08:01:11</td>\n",
       "      <td>apis.google.com</td>\n",
       "      <td>2013-11-15 08:01:12</td>\n",
       "      <td>www.google.com</td>\n",
       "      <td>2013-11-15 08:01:16</td>\n",
       "      <td>www.google.fr</td>\n",
       "      <td>...</td>\n",
       "      <td>NaT</td>\n",
       "      <td>NaN</td>\n",
       "      <td>0</td>\n",
       "      <td>18</td>\n",
       "      <td>57</td>\n",
       "      <td>1</td>\n",
       "      <td>8</td>\n",
       "      <td>15</td>\n",
       "      <td>4</td>\n",
       "      <td>11</td>\n",
       "    </tr>\n",
       "    <tr>\n",
       "      <th>1</th>\n",
       "      <td>2013-11-15 08:04:12</td>\n",
       "      <td>armmf.adobe.com</td>\n",
       "      <td>2013-11-15 08:05:31</td>\n",
       "      <td>www.google.fr</td>\n",
       "      <td>2013-11-15 08:05:32</td>\n",
       "      <td>apis.google.com</td>\n",
       "      <td>2013-11-15 08:05:32</td>\n",
       "      <td>www.google.com</td>\n",
       "      <td>2013-11-15 08:05:35</td>\n",
       "      <td>www.google.fr</td>\n",
       "      <td>...</td>\n",
       "      <td>2013-11-15 08:06:29</td>\n",
       "      <td>www.google.com</td>\n",
       "      <td>0</td>\n",
       "      <td>20</td>\n",
       "      <td>97</td>\n",
       "      <td>4</td>\n",
       "      <td>8</td>\n",
       "      <td>15</td>\n",
       "      <td>4</td>\n",
       "      <td>11</td>\n",
       "    </tr>\n",
       "    <tr>\n",
       "      <th>2</th>\n",
       "      <td>2013-11-15 08:06:29</td>\n",
       "      <td>www.google.fr</td>\n",
       "      <td>2013-11-15 08:06:30</td>\n",
       "      <td>www.google.fr</td>\n",
       "      <td>2013-11-15 08:06:30</td>\n",
       "      <td>ajax.googleapis.com</td>\n",
       "      <td>2013-11-15 08:06:30</td>\n",
       "      <td>www.sol-solution.com</td>\n",
       "      <td>2013-11-15 08:06:31</td>\n",
       "      <td>www.sol-solution.com</td>\n",
       "      <td>...</td>\n",
       "      <td>2013-11-15 08:07:53</td>\n",
       "      <td>www.apogeedigital.com</td>\n",
       "      <td>0</td>\n",
       "      <td>20</td>\n",
       "      <td>47</td>\n",
       "      <td>6</td>\n",
       "      <td>8</td>\n",
       "      <td>15</td>\n",
       "      <td>4</td>\n",
       "      <td>11</td>\n",
       "    </tr>\n",
       "    <tr>\n",
       "      <th>3</th>\n",
       "      <td>2013-11-15 08:07:35</td>\n",
       "      <td>www.google.com</td>\n",
       "      <td>2013-11-15 08:07:35</td>\n",
       "      <td>www.google.fr</td>\n",
       "      <td>2013-11-15 08:07:47</td>\n",
       "      <td>www.google.fr</td>\n",
       "      <td>2013-11-15 08:07:47</td>\n",
       "      <td>apis.google.com</td>\n",
       "      <td>2013-11-15 08:07:47</td>\n",
       "      <td>id.google.fr</td>\n",
       "      <td>...</td>\n",
       "      <td>2013-11-15 08:08:39</td>\n",
       "      <td>blast.ncbi.nlm.nih.gov</td>\n",
       "      <td>0</td>\n",
       "      <td>20</td>\n",
       "      <td>32</td>\n",
       "      <td>7</td>\n",
       "      <td>8</td>\n",
       "      <td>15</td>\n",
       "      <td>4</td>\n",
       "      <td>11</td>\n",
       "    </tr>\n",
       "    <tr>\n",
       "      <th>4</th>\n",
       "      <td>2013-11-15 08:07:54</td>\n",
       "      <td>www.apogeedigital.com</td>\n",
       "      <td>2013-11-15 08:07:55</td>\n",
       "      <td>www.apogeedigital.com</td>\n",
       "      <td>2013-11-15 08:08:00</td>\n",
       "      <td>www.apogeedigital.com</td>\n",
       "      <td>2013-11-15 08:08:01</td>\n",
       "      <td>www.apogeedigital.com</td>\n",
       "      <td>2013-11-15 08:08:02</td>\n",
       "      <td>www.apogeedigital.com</td>\n",
       "      <td>...</td>\n",
       "      <td>2013-11-15 08:08:28</td>\n",
       "      <td>www.apogeedigital.com</td>\n",
       "      <td>0</td>\n",
       "      <td>20</td>\n",
       "      <td>12</td>\n",
       "      <td>7</td>\n",
       "      <td>8</td>\n",
       "      <td>15</td>\n",
       "      <td>4</td>\n",
       "      <td>11</td>\n",
       "    </tr>\n",
       "    <tr>\n",
       "      <th>...</th>\n",
       "      <td>...</td>\n",
       "      <td>...</td>\n",
       "      <td>...</td>\n",
       "      <td>...</td>\n",
       "      <td>...</td>\n",
       "      <td>...</td>\n",
       "      <td>...</td>\n",
       "      <td>...</td>\n",
       "      <td>...</td>\n",
       "      <td>...</td>\n",
       "      <td>...</td>\n",
       "      <td>...</td>\n",
       "      <td>...</td>\n",
       "      <td>...</td>\n",
       "      <td>...</td>\n",
       "      <td>...</td>\n",
       "      <td>...</td>\n",
       "      <td>...</td>\n",
       "      <td>...</td>\n",
       "      <td>...</td>\n",
       "      <td>...</td>\n",
       "    </tr>\n",
       "    <tr>\n",
       "      <th>83261</th>\n",
       "      <td>2014-05-28 19:02:25</td>\n",
       "      <td>www.mangareader.net</td>\n",
       "      <td>2014-05-28 19:02:25</td>\n",
       "      <td>www.facebook.com</td>\n",
       "      <td>2014-05-28 19:02:51</td>\n",
       "      <td>www.mangareader.net</td>\n",
       "      <td>2014-05-28 19:02:52</td>\n",
       "      <td>www.facebook.com</td>\n",
       "      <td>2014-05-28 19:02:53</td>\n",
       "      <td>i6.mangareader.net</td>\n",
       "      <td>...</td>\n",
       "      <td>2014-05-28 19:03:03</td>\n",
       "      <td>www.mangareader.net</td>\n",
       "      <td>0</td>\n",
       "      <td>20</td>\n",
       "      <td>32</td>\n",
       "      <td>2</td>\n",
       "      <td>19</td>\n",
       "      <td>28</td>\n",
       "      <td>2</td>\n",
       "      <td>5</td>\n",
       "    </tr>\n",
       "    <tr>\n",
       "      <th>83262</th>\n",
       "      <td>2014-05-28 19:03:03</td>\n",
       "      <td>i5.mangareader.net</td>\n",
       "      <td>2014-05-28 19:03:04</td>\n",
       "      <td>www.facebook.com</td>\n",
       "      <td>2014-05-28 19:03:04</td>\n",
       "      <td>www.mangareader.net</td>\n",
       "      <td>2014-05-28 19:03:50</td>\n",
       "      <td>www.mangareader.net</td>\n",
       "      <td>2014-05-28 19:03:51</td>\n",
       "      <td>www.mangareader.net</td>\n",
       "      <td>...</td>\n",
       "      <td>2014-05-28 19:05:03</td>\n",
       "      <td>www.mangareader.net</td>\n",
       "      <td>0</td>\n",
       "      <td>20</td>\n",
       "      <td>65</td>\n",
       "      <td>3</td>\n",
       "      <td>19</td>\n",
       "      <td>28</td>\n",
       "      <td>2</td>\n",
       "      <td>5</td>\n",
       "    </tr>\n",
       "    <tr>\n",
       "      <th>83263</th>\n",
       "      <td>2014-05-28 19:05:35</td>\n",
       "      <td>www.mangareader.net</td>\n",
       "      <td>2014-05-28 19:05:36</td>\n",
       "      <td>www.facebook.com</td>\n",
       "      <td>2014-05-28 19:05:36</td>\n",
       "      <td>www.mangareader.net</td>\n",
       "      <td>2014-05-28 19:06:01</td>\n",
       "      <td>www.mangareader.net</td>\n",
       "      <td>2014-05-28 19:06:02</td>\n",
       "      <td>www.mangareader.net</td>\n",
       "      <td>...</td>\n",
       "      <td>2014-05-28 19:07:25</td>\n",
       "      <td>www.facebook.com</td>\n",
       "      <td>0</td>\n",
       "      <td>20</td>\n",
       "      <td>85</td>\n",
       "      <td>5</td>\n",
       "      <td>19</td>\n",
       "      <td>28</td>\n",
       "      <td>2</td>\n",
       "      <td>5</td>\n",
       "    </tr>\n",
       "    <tr>\n",
       "      <th>83264</th>\n",
       "      <td>2014-05-28 19:07:38</td>\n",
       "      <td>www.mangareader.net</td>\n",
       "      <td>2014-05-28 19:07:39</td>\n",
       "      <td>www.mangareader.net</td>\n",
       "      <td>2014-05-28 19:07:40</td>\n",
       "      <td>www.facebook.com</td>\n",
       "      <td>2014-05-28 19:07:46</td>\n",
       "      <td>www.mangareader.net</td>\n",
       "      <td>2014-05-28 19:07:47</td>\n",
       "      <td>www.mangareader.net</td>\n",
       "      <td>...</td>\n",
       "      <td>2014-05-28 19:10:00</td>\n",
       "      <td>www.facebook.com</td>\n",
       "      <td>0</td>\n",
       "      <td>20</td>\n",
       "      <td>28</td>\n",
       "      <td>7</td>\n",
       "      <td>19</td>\n",
       "      <td>28</td>\n",
       "      <td>2</td>\n",
       "      <td>5</td>\n",
       "    </tr>\n",
       "    <tr>\n",
       "      <th>83265</th>\n",
       "      <td>2014-05-28 19:10:01</td>\n",
       "      <td>i3.mangareader.net</td>\n",
       "      <td>2014-05-28 19:10:14</td>\n",
       "      <td>www.mangareader.net</td>\n",
       "      <td>2014-05-28 19:10:15</td>\n",
       "      <td>www.facebook.com</td>\n",
       "      <td>2014-05-28 19:10:15</td>\n",
       "      <td>www.mangareader.net</td>\n",
       "      <td>NaT</td>\n",
       "      <td>NaN</td>\n",
       "      <td>...</td>\n",
       "      <td>NaT</td>\n",
       "      <td>NaN</td>\n",
       "      <td>0</td>\n",
       "      <td>4</td>\n",
       "      <td>14</td>\n",
       "      <td>10</td>\n",
       "      <td>19</td>\n",
       "      <td>28</td>\n",
       "      <td>2</td>\n",
       "      <td>5</td>\n",
       "    </tr>\n",
       "  </tbody>\n",
       "</table>\n",
       "<p>83266 rows × 48 columns</p>\n",
       "</div>"
      ],
      "text/plain": [
       "                    time1                  site1               time2  \\\n",
       "0     2013-11-15 08:01:09          www.google.fr 2013-11-15 08:01:10   \n",
       "1     2013-11-15 08:04:12        armmf.adobe.com 2013-11-15 08:05:31   \n",
       "2     2013-11-15 08:06:29          www.google.fr 2013-11-15 08:06:30   \n",
       "3     2013-11-15 08:07:35         www.google.com 2013-11-15 08:07:35   \n",
       "4     2013-11-15 08:07:54  www.apogeedigital.com 2013-11-15 08:07:55   \n",
       "...                   ...                    ...                 ...   \n",
       "83261 2014-05-28 19:02:25    www.mangareader.net 2014-05-28 19:02:25   \n",
       "83262 2014-05-28 19:03:03     i5.mangareader.net 2014-05-28 19:03:04   \n",
       "83263 2014-05-28 19:05:35    www.mangareader.net 2014-05-28 19:05:36   \n",
       "83264 2014-05-28 19:07:38    www.mangareader.net 2014-05-28 19:07:39   \n",
       "83265 2014-05-28 19:10:01     i3.mangareader.net 2014-05-28 19:10:14   \n",
       "\n",
       "                       site2               time3                  site3  \\\n",
       "0              www.google.fr 2013-11-15 08:01:11        apis.google.com   \n",
       "1              www.google.fr 2013-11-15 08:05:32        apis.google.com   \n",
       "2              www.google.fr 2013-11-15 08:06:30    ajax.googleapis.com   \n",
       "3              www.google.fr 2013-11-15 08:07:47          www.google.fr   \n",
       "4      www.apogeedigital.com 2013-11-15 08:08:00  www.apogeedigital.com   \n",
       "...                      ...                 ...                    ...   \n",
       "83261       www.facebook.com 2014-05-28 19:02:51    www.mangareader.net   \n",
       "83262       www.facebook.com 2014-05-28 19:03:04    www.mangareader.net   \n",
       "83263       www.facebook.com 2014-05-28 19:05:36    www.mangareader.net   \n",
       "83264    www.mangareader.net 2014-05-28 19:07:40       www.facebook.com   \n",
       "83265    www.mangareader.net 2014-05-28 19:10:15       www.facebook.com   \n",
       "\n",
       "                    time4                  site4               time5  \\\n",
       "0     2013-11-15 08:01:12         www.google.com 2013-11-15 08:01:16   \n",
       "1     2013-11-15 08:05:32         www.google.com 2013-11-15 08:05:35   \n",
       "2     2013-11-15 08:06:30   www.sol-solution.com 2013-11-15 08:06:31   \n",
       "3     2013-11-15 08:07:47        apis.google.com 2013-11-15 08:07:47   \n",
       "4     2013-11-15 08:08:01  www.apogeedigital.com 2013-11-15 08:08:02   \n",
       "...                   ...                    ...                 ...   \n",
       "83261 2014-05-28 19:02:52       www.facebook.com 2014-05-28 19:02:53   \n",
       "83262 2014-05-28 19:03:50    www.mangareader.net 2014-05-28 19:03:51   \n",
       "83263 2014-05-28 19:06:01    www.mangareader.net 2014-05-28 19:06:02   \n",
       "83264 2014-05-28 19:07:46    www.mangareader.net 2014-05-28 19:07:47   \n",
       "83265 2014-05-28 19:10:15    www.mangareader.net                 NaT   \n",
       "\n",
       "                       site5  ...              time20                  site20  \\\n",
       "0              www.google.fr  ...                 NaT                     NaN   \n",
       "1              www.google.fr  ... 2013-11-15 08:06:29          www.google.com   \n",
       "2       www.sol-solution.com  ... 2013-11-15 08:07:53   www.apogeedigital.com   \n",
       "3               id.google.fr  ... 2013-11-15 08:08:39  blast.ncbi.nlm.nih.gov   \n",
       "4      www.apogeedigital.com  ... 2013-11-15 08:08:28   www.apogeedigital.com   \n",
       "...                      ...  ...                 ...                     ...   \n",
       "83261     i6.mangareader.net  ... 2014-05-28 19:03:03     www.mangareader.net   \n",
       "83262    www.mangareader.net  ... 2014-05-28 19:05:03     www.mangareader.net   \n",
       "83263    www.mangareader.net  ... 2014-05-28 19:07:25        www.facebook.com   \n",
       "83264    www.mangareader.net  ... 2014-05-28 19:10:00        www.facebook.com   \n",
       "83265                    NaN  ...                 NaT                     NaN   \n",
       "\n",
       "      target number_of_sites session_duration minute hour day weekday month  \n",
       "0          0              18               57      1    8  15       4    11  \n",
       "1          0              20               97      4    8  15       4    11  \n",
       "2          0              20               47      6    8  15       4    11  \n",
       "3          0              20               32      7    8  15       4    11  \n",
       "4          0              20               12      7    8  15       4    11  \n",
       "...      ...             ...              ...    ...  ...  ..     ...   ...  \n",
       "83261      0              20               32      2   19  28       2     5  \n",
       "83262      0              20               65      3   19  28       2     5  \n",
       "83263      0              20               85      5   19  28       2     5  \n",
       "83264      0              20               28      7   19  28       2     5  \n",
       "83265      0               4               14     10   19  28       2     5  \n",
       "\n",
       "[83266 rows x 48 columns]"
      ]
     },
     "execution_count": 4,
     "metadata": {},
     "output_type": "execute_result"
    }
   ],
   "source": [
    "%%time\n",
    "create_features(data)\n",
    "data"
   ]
  },
  {
   "cell_type": "markdown",
   "id": "635fb6ab",
   "metadata": {},
   "source": [
    "Построим графики и попробуем выявить закономерности"
   ]
  },
  {
   "cell_type": "code",
   "execution_count": 69,
   "id": "b880f2a1",
   "metadata": {},
   "outputs": [
    {
     "data": {
      "image/png": "[encoded data removed]",
      "text/plain": [
       "<Figure size 1080x360 with 2 Axes>"
      ]
     },
     "metadata": {
      "needs_background": "light"
     },
     "output_type": "display_data"
    }
   ],
   "source": [
    "plt.subplots(1, 2, figsize = (15, 5)) \n",
    "\n",
    "plt.subplot(1, 2, 1)\n",
    "sns.countplot(data[data.target == 1].hour)\n",
    "plt.title(\"Элис\")\n",
    "plt.xlabel('Час открытия сессии')\n",
    "          \n",
    "plt.subplot(1, 2, 2)\n",
    "sns.countplot(data[data.target == 0].hour)\n",
    "plt.title('Другие')\n",
    "plt.xlabel('Час открытия сессии');"
   ]
  },
  {
   "cell_type": "markdown",
   "id": "caaea78f",
   "metadata": {},
   "source": [
    "Можно отметить, что чаще всего Элис выходит в 10, 11, 13, 14 и 15 часах. Для того, чтобы учитывать эту закономерность, создадим признак *favorite_hours*. Он будет равен 1, если сессия начата в 10, 11, 13, 14 и 15 часах."
   ]
  },
  {
   "cell_type": "code",
   "execution_count": 5,
   "id": "dc4eda49",
   "metadata": {},
   "outputs": [
    {
     "data": {
      "text/html": [
       "<div>\n",
       "<style scoped>\n",
       "    .dataframe tbody tr th:only-of-type {\n",
       "        vertical-align: middle;\n",
       "    }\n",
       "\n",
       "    .dataframe tbody tr th {\n",
       "        vertical-align: top;\n",
       "    }\n",
       "\n",
       "    .dataframe thead th {\n",
       "        text-align: right;\n",
       "    }\n",
       "</style>\n",
       "<table border=\"1\" class=\"dataframe\">\n",
       "  <thead>\n",
       "    <tr style=\"text-align: right;\">\n",
       "      <th></th>\n",
       "      <th>time1</th>\n",
       "      <th>site1</th>\n",
       "      <th>time2</th>\n",
       "      <th>site2</th>\n",
       "      <th>time3</th>\n",
       "      <th>site3</th>\n",
       "      <th>time4</th>\n",
       "      <th>site4</th>\n",
       "      <th>time5</th>\n",
       "      <th>site5</th>\n",
       "      <th>...</th>\n",
       "      <th>site20</th>\n",
       "      <th>target</th>\n",
       "      <th>number_of_sites</th>\n",
       "      <th>session_duration</th>\n",
       "      <th>minute</th>\n",
       "      <th>hour</th>\n",
       "      <th>day</th>\n",
       "      <th>weekday</th>\n",
       "      <th>month</th>\n",
       "      <th>favourite_hour</th>\n",
       "    </tr>\n",
       "  </thead>\n",
       "  <tbody>\n",
       "    <tr>\n",
       "      <th>0</th>\n",
       "      <td>2013-11-15 08:01:09</td>\n",
       "      <td>www.google.fr</td>\n",
       "      <td>2013-11-15 08:01:10</td>\n",
       "      <td>www.google.fr</td>\n",
       "      <td>2013-11-15 08:01:11</td>\n",
       "      <td>apis.google.com</td>\n",
       "      <td>2013-11-15 08:01:12</td>\n",
       "      <td>www.google.com</td>\n",
       "      <td>2013-11-15 08:01:16</td>\n",
       "      <td>www.google.fr</td>\n",
       "      <td>...</td>\n",
       "      <td>NaN</td>\n",
       "      <td>0</td>\n",
       "      <td>18</td>\n",
       "      <td>57</td>\n",
       "      <td>1</td>\n",
       "      <td>8</td>\n",
       "      <td>15</td>\n",
       "      <td>4</td>\n",
       "      <td>11</td>\n",
       "      <td>0</td>\n",
       "    </tr>\n",
       "    <tr>\n",
       "      <th>1</th>\n",
       "      <td>2013-11-15 08:04:12</td>\n",
       "      <td>armmf.adobe.com</td>\n",
       "      <td>2013-11-15 08:05:31</td>\n",
       "      <td>www.google.fr</td>\n",
       "      <td>2013-11-15 08:05:32</td>\n",
       "      <td>apis.google.com</td>\n",
       "      <td>2013-11-15 08:05:32</td>\n",
       "      <td>www.google.com</td>\n",
       "      <td>2013-11-15 08:05:35</td>\n",
       "      <td>www.google.fr</td>\n",
       "      <td>...</td>\n",
       "      <td>www.google.com</td>\n",
       "      <td>0</td>\n",
       "      <td>20</td>\n",
       "      <td>97</td>\n",
       "      <td>4</td>\n",
       "      <td>8</td>\n",
       "      <td>15</td>\n",
       "      <td>4</td>\n",
       "      <td>11</td>\n",
       "      <td>0</td>\n",
       "    </tr>\n",
       "    <tr>\n",
       "      <th>2</th>\n",
       "      <td>2013-11-15 08:06:29</td>\n",
       "      <td>www.google.fr</td>\n",
       "      <td>2013-11-15 08:06:30</td>\n",
       "      <td>www.google.fr</td>\n",
       "      <td>2013-11-15 08:06:30</td>\n",
       "      <td>ajax.googleapis.com</td>\n",
       "      <td>2013-11-15 08:06:30</td>\n",
       "      <td>www.sol-solution.com</td>\n",
       "      <td>2013-11-15 08:06:31</td>\n",
       "      <td>www.sol-solution.com</td>\n",
       "      <td>...</td>\n",
       "      <td>www.apogeedigital.com</td>\n",
       "      <td>0</td>\n",
       "      <td>20</td>\n",
       "      <td>47</td>\n",
       "      <td>6</td>\n",
       "      <td>8</td>\n",
       "      <td>15</td>\n",
       "      <td>4</td>\n",
       "      <td>11</td>\n",
       "      <td>0</td>\n",
       "    </tr>\n",
       "    <tr>\n",
       "      <th>3</th>\n",
       "      <td>2013-11-15 08:07:35</td>\n",
       "      <td>www.google.com</td>\n",
       "      <td>2013-11-15 08:07:35</td>\n",
       "      <td>www.google.fr</td>\n",
       "      <td>2013-11-15 08:07:47</td>\n",
       "      <td>www.google.fr</td>\n",
       "      <td>2013-11-15 08:07:47</td>\n",
       "      <td>apis.google.com</td>\n",
       "      <td>2013-11-15 08:07:47</td>\n",
       "      <td>id.google.fr</td>\n",
       "      <td>...</td>\n",
       "      <td>blast.ncbi.nlm.nih.gov</td>\n",
       "      <td>0</td>\n",
       "      <td>20</td>\n",
       "      <td>32</td>\n",
       "      <td>7</td>\n",
       "      <td>8</td>\n",
       "      <td>15</td>\n",
       "      <td>4</td>\n",
       "      <td>11</td>\n",
       "      <td>0</td>\n",
       "    </tr>\n",
       "    <tr>\n",
       "      <th>4</th>\n",
       "      <td>2013-11-15 08:07:54</td>\n",
       "      <td>www.apogeedigital.com</td>\n",
       "      <td>2013-11-15 08:07:55</td>\n",
       "      <td>www.apogeedigital.com</td>\n",
       "      <td>2013-11-15 08:08:00</td>\n",
       "      <td>www.apogeedigital.com</td>\n",
       "      <td>2013-11-15 08:08:01</td>\n",
       "      <td>www.apogeedigital.com</td>\n",
       "      <td>2013-11-15 08:08:02</td>\n",
       "      <td>www.apogeedigital.com</td>\n",
       "      <td>...</td>\n",
       "      <td>www.apogeedigital.com</td>\n",
       "      <td>0</td>\n",
       "      <td>20</td>\n",
       "      <td>12</td>\n",
       "      <td>7</td>\n",
       "      <td>8</td>\n",
       "      <td>15</td>\n",
       "      <td>4</td>\n",
       "      <td>11</td>\n",
       "      <td>0</td>\n",
       "    </tr>\n",
       "    <tr>\n",
       "      <th>...</th>\n",
       "      <td>...</td>\n",
       "      <td>...</td>\n",
       "      <td>...</td>\n",
       "      <td>...</td>\n",
       "      <td>...</td>\n",
       "      <td>...</td>\n",
       "      <td>...</td>\n",
       "      <td>...</td>\n",
       "      <td>...</td>\n",
       "      <td>...</td>\n",
       "      <td>...</td>\n",
       "      <td>...</td>\n",
       "      <td>...</td>\n",
       "      <td>...</td>\n",
       "      <td>...</td>\n",
       "      <td>...</td>\n",
       "      <td>...</td>\n",
       "      <td>...</td>\n",
       "      <td>...</td>\n",
       "      <td>...</td>\n",
       "      <td>...</td>\n",
       "    </tr>\n",
       "    <tr>\n",
       "      <th>83261</th>\n",
       "      <td>2014-05-28 19:02:25</td>\n",
       "      <td>www.mangareader.net</td>\n",
       "      <td>2014-05-28 19:02:25</td>\n",
       "      <td>www.facebook.com</td>\n",
       "      <td>2014-05-28 19:02:51</td>\n",
       "      <td>www.mangareader.net</td>\n",
       "      <td>2014-05-28 19:02:52</td>\n",
       "      <td>www.facebook.com</td>\n",
       "      <td>2014-05-28 19:02:53</td>\n",
       "      <td>i6.mangareader.net</td>\n",
       "      <td>...</td>\n",
       "      <td>www.mangareader.net</td>\n",
       "      <td>0</td>\n",
       "      <td>20</td>\n",
       "      <td>32</td>\n",
       "      <td>2</td>\n",
       "      <td>19</td>\n",
       "      <td>28</td>\n",
       "      <td>2</td>\n",
       "      <td>5</td>\n",
       "      <td>0</td>\n",
       "    </tr>\n",
       "    <tr>\n",
       "      <th>83262</th>\n",
       "      <td>2014-05-28 19:03:03</td>\n",
       "      <td>i5.mangareader.net</td>\n",
       "      <td>2014-05-28 19:03:04</td>\n",
       "      <td>www.facebook.com</td>\n",
       "      <td>2014-05-28 19:03:04</td>\n",
       "      <td>www.mangareader.net</td>\n",
       "      <td>2014-05-28 19:03:50</td>\n",
       "      <td>www.mangareader.net</td>\n",
       "      <td>2014-05-28 19:03:51</td>\n",
       "      <td>www.mangareader.net</td>\n",
       "      <td>...</td>\n",
       "      <td>www.mangareader.net</td>\n",
       "      <td>0</td>\n",
       "      <td>20</td>\n",
       "      <td>65</td>\n",
       "      <td>3</td>\n",
       "      <td>19</td>\n",
       "      <td>28</td>\n",
       "      <td>2</td>\n",
       "      <td>5</td>\n",
       "      <td>0</td>\n",
       "    </tr>\n",
       "    <tr>\n",
       "      <th>83263</th>\n",
       "      <td>2014-05-28 19:05:35</td>\n",
       "      <td>www.mangareader.net</td>\n",
       "      <td>2014-05-28 19:05:36</td>\n",
       "      <td>www.facebook.com</td>\n",
       "      <td>2014-05-28 19:05:36</td>\n",
       "      <td>www.mangareader.net</td>\n",
       "      <td>2014-05-28 19:06:01</td>\n",
       "      <td>www.mangareader.net</td>\n",
       "      <td>2014-05-28 19:06:02</td>\n",
       "      <td>www.mangareader.net</td>\n",
       "      <td>...</td>\n",
       "      <td>www.facebook.com</td>\n",
       "      <td>0</td>\n",
       "      <td>20</td>\n",
       "      <td>85</td>\n",
       "      <td>5</td>\n",
       "      <td>19</td>\n",
       "      <td>28</td>\n",
       "      <td>2</td>\n",
       "      <td>5</td>\n",
       "      <td>0</td>\n",
       "    </tr>\n",
       "    <tr>\n",
       "      <th>83264</th>\n",
       "      <td>2014-05-28 19:07:38</td>\n",
       "      <td>www.mangareader.net</td>\n",
       "      <td>2014-05-28 19:07:39</td>\n",
       "      <td>www.mangareader.net</td>\n",
       "      <td>2014-05-28 19:07:40</td>\n",
       "      <td>www.facebook.com</td>\n",
       "      <td>2014-05-28 19:07:46</td>\n",
       "      <td>www.mangareader.net</td>\n",
       "      <td>2014-05-28 19:07:47</td>\n",
       "      <td>www.mangareader.net</td>\n",
       "      <td>...</td>\n",
       "      <td>www.facebook.com</td>\n",
       "      <td>0</td>\n",
       "      <td>20</td>\n",
       "      <td>28</td>\n",
       "      <td>7</td>\n",
       "      <td>19</td>\n",
       "      <td>28</td>\n",
       "      <td>2</td>\n",
       "      <td>5</td>\n",
       "      <td>0</td>\n",
       "    </tr>\n",
       "    <tr>\n",
       "      <th>83265</th>\n",
       "      <td>2014-05-28 19:10:01</td>\n",
       "      <td>i3.mangareader.net</td>\n",
       "      <td>2014-05-28 19:10:14</td>\n",
       "      <td>www.mangareader.net</td>\n",
       "      <td>2014-05-28 19:10:15</td>\n",
       "      <td>www.facebook.com</td>\n",
       "      <td>2014-05-28 19:10:15</td>\n",
       "      <td>www.mangareader.net</td>\n",
       "      <td>NaT</td>\n",
       "      <td>NaN</td>\n",
       "      <td>...</td>\n",
       "      <td>NaN</td>\n",
       "      <td>0</td>\n",
       "      <td>4</td>\n",
       "      <td>14</td>\n",
       "      <td>10</td>\n",
       "      <td>19</td>\n",
       "      <td>28</td>\n",
       "      <td>2</td>\n",
       "      <td>5</td>\n",
       "      <td>0</td>\n",
       "    </tr>\n",
       "  </tbody>\n",
       "</table>\n",
       "<p>83266 rows × 49 columns</p>\n",
       "</div>"
      ],
      "text/plain": [
       "                    time1                  site1               time2  \\\n",
       "0     2013-11-15 08:01:09          www.google.fr 2013-11-15 08:01:10   \n",
       "1     2013-11-15 08:04:12        armmf.adobe.com 2013-11-15 08:05:31   \n",
       "2     2013-11-15 08:06:29          www.google.fr 2013-11-15 08:06:30   \n",
       "3     2013-11-15 08:07:35         www.google.com 2013-11-15 08:07:35   \n",
       "4     2013-11-15 08:07:54  www.apogeedigital.com 2013-11-15 08:07:55   \n",
       "...                   ...                    ...                 ...   \n",
       "83261 2014-05-28 19:02:25    www.mangareader.net 2014-05-28 19:02:25   \n",
       "83262 2014-05-28 19:03:03     i5.mangareader.net 2014-05-28 19:03:04   \n",
       "83263 2014-05-28 19:05:35    www.mangareader.net 2014-05-28 19:05:36   \n",
       "83264 2014-05-28 19:07:38    www.mangareader.net 2014-05-28 19:07:39   \n",
       "83265 2014-05-28 19:10:01     i3.mangareader.net 2014-05-28 19:10:14   \n",
       "\n",
       "                       site2               time3                  site3  \\\n",
       "0              www.google.fr 2013-11-15 08:01:11        apis.google.com   \n",
       "1              www.google.fr 2013-11-15 08:05:32        apis.google.com   \n",
       "2              www.google.fr 2013-11-15 08:06:30    ajax.googleapis.com   \n",
       "3              www.google.fr 2013-11-15 08:07:47          www.google.fr   \n",
       "4      www.apogeedigital.com 2013-11-15 08:08:00  www.apogeedigital.com   \n",
       "...                      ...                 ...                    ...   \n",
       "83261       www.facebook.com 2014-05-28 19:02:51    www.mangareader.net   \n",
       "83262       www.facebook.com 2014-05-28 19:03:04    www.mangareader.net   \n",
       "83263       www.facebook.com 2014-05-28 19:05:36    www.mangareader.net   \n",
       "83264    www.mangareader.net 2014-05-28 19:07:40       www.facebook.com   \n",
       "83265    www.mangareader.net 2014-05-28 19:10:15       www.facebook.com   \n",
       "\n",
       "                    time4                  site4               time5  \\\n",
       "0     2013-11-15 08:01:12         www.google.com 2013-11-15 08:01:16   \n",
       "1     2013-11-15 08:05:32         www.google.com 2013-11-15 08:05:35   \n",
       "2     2013-11-15 08:06:30   www.sol-solution.com 2013-11-15 08:06:31   \n",
       "3     2013-11-15 08:07:47        apis.google.com 2013-11-15 08:07:47   \n",
       "4     2013-11-15 08:08:01  www.apogeedigital.com 2013-11-15 08:08:02   \n",
       "...                   ...                    ...                 ...   \n",
       "83261 2014-05-28 19:02:52       www.facebook.com 2014-05-28 19:02:53   \n",
       "83262 2014-05-28 19:03:50    www.mangareader.net 2014-05-28 19:03:51   \n",
       "83263 2014-05-28 19:06:01    www.mangareader.net 2014-05-28 19:06:02   \n",
       "83264 2014-05-28 19:07:46    www.mangareader.net 2014-05-28 19:07:47   \n",
       "83265 2014-05-28 19:10:15    www.mangareader.net                 NaT   \n",
       "\n",
       "                       site5  ...                  site20 target  \\\n",
       "0              www.google.fr  ...                     NaN      0   \n",
       "1              www.google.fr  ...          www.google.com      0   \n",
       "2       www.sol-solution.com  ...   www.apogeedigital.com      0   \n",
       "3               id.google.fr  ...  blast.ncbi.nlm.nih.gov      0   \n",
       "4      www.apogeedigital.com  ...   www.apogeedigital.com      0   \n",
       "...                      ...  ...                     ...    ...   \n",
       "83261     i6.mangareader.net  ...     www.mangareader.net      0   \n",
       "83262    www.mangareader.net  ...     www.mangareader.net      0   \n",
       "83263    www.mangareader.net  ...        www.facebook.com      0   \n",
       "83264    www.mangareader.net  ...        www.facebook.com      0   \n",
       "83265                    NaN  ...                     NaN      0   \n",
       "\n",
       "      number_of_sites session_duration minute hour day weekday month  \\\n",
       "0                  18               57      1    8  15       4    11   \n",
       "1                  20               97      4    8  15       4    11   \n",
       "2                  20               47      6    8  15       4    11   \n",
       "3                  20               32      7    8  15       4    11   \n",
       "4                  20               12      7    8  15       4    11   \n",
       "...               ...              ...    ...  ...  ..     ...   ...   \n",
       "83261              20               32      2   19  28       2     5   \n",
       "83262              20               65      3   19  28       2     5   \n",
       "83263              20               85      5   19  28       2     5   \n",
       "83264              20               28      7   19  28       2     5   \n",
       "83265               4               14     10   19  28       2     5   \n",
       "\n",
       "      favourite_hour  \n",
       "0                  0  \n",
       "1                  0  \n",
       "2                  0  \n",
       "3                  0  \n",
       "4                  0  \n",
       "...              ...  \n",
       "83261              0  \n",
       "83262              0  \n",
       "83263              0  \n",
       "83264              0  \n",
       "83265              0  \n",
       "\n",
       "[83266 rows x 49 columns]"
      ]
     },
     "execution_count": 5,
     "metadata": {},
     "output_type": "execute_result"
    }
   ],
   "source": [
    "data['favourite_hour'] = data['hour'].apply(lambda x: (x >= 10) & (x <= 11) | (x >= 13) & (x <= 15)).astype('int')\n",
    "data"
   ]
  },
  {
   "cell_type": "code",
   "execution_count": 71,
   "id": "f4f9f609",
   "metadata": {},
   "outputs": [
    {
     "data": {
      "image/png": "[encoded data removed]",
      "text/plain": [
       "<Figure size 1080x360 with 2 Axes>"
      ]
     },
     "metadata": {
      "needs_background": "light"
     },
     "output_type": "display_data"
    }
   ],
   "source": [
    "plt.subplots(1, 2, figsize = (15, 5)) \n",
    "\n",
    "plt.subplot(1, 2, 1)\n",
    "sns.countplot(data[data.target == 1].weekday)\n",
    "plt.title(\"Элис\")\n",
    "plt.xlabel('День недели открытия сессии')\n",
    "          \n",
    "plt.subplot(1, 2, 2)\n",
    "sns.countplot(data[data.target == 0].weekday)\n",
    "plt.title('Другие')\n",
    "plt.xlabel('День недели открытия сессии');"
   ]
  },
  {
   "cell_type": "markdown",
   "id": "3c2493cd",
   "metadata": {},
   "source": [
    "Как видно, Элис не посещает интернет по выходным. Также создадим признак *favorite_weekdays*, который равен 1, если днем недели сессии является: понедельник, вторник среда, четверг или пятница."
   ]
  },
  {
   "cell_type": "code",
   "execution_count": 6,
   "id": "a00471f7",
   "metadata": {},
   "outputs": [
    {
     "data": {
      "text/html": [
       "<div>\n",
       "<style scoped>\n",
       "    .dataframe tbody tr th:only-of-type {\n",
       "        vertical-align: middle;\n",
       "    }\n",
       "\n",
       "    .dataframe tbody tr th {\n",
       "        vertical-align: top;\n",
       "    }\n",
       "\n",
       "    .dataframe thead th {\n",
       "        text-align: right;\n",
       "    }\n",
       "</style>\n",
       "<table border=\"1\" class=\"dataframe\">\n",
       "  <thead>\n",
       "    <tr style=\"text-align: right;\">\n",
       "      <th></th>\n",
       "      <th>time1</th>\n",
       "      <th>site1</th>\n",
       "      <th>time2</th>\n",
       "      <th>site2</th>\n",
       "      <th>time3</th>\n",
       "      <th>site3</th>\n",
       "      <th>time4</th>\n",
       "      <th>site4</th>\n",
       "      <th>time5</th>\n",
       "      <th>site5</th>\n",
       "      <th>...</th>\n",
       "      <th>target</th>\n",
       "      <th>number_of_sites</th>\n",
       "      <th>session_duration</th>\n",
       "      <th>minute</th>\n",
       "      <th>hour</th>\n",
       "      <th>day</th>\n",
       "      <th>weekday</th>\n",
       "      <th>month</th>\n",
       "      <th>favourite_hour</th>\n",
       "      <th>favourite_weekday</th>\n",
       "    </tr>\n",
       "  </thead>\n",
       "  <tbody>\n",
       "    <tr>\n",
       "      <th>0</th>\n",
       "      <td>2013-11-15 08:01:09</td>\n",
       "      <td>www.google.fr</td>\n",
       "      <td>2013-11-15 08:01:10</td>\n",
       "      <td>www.google.fr</td>\n",
       "      <td>2013-11-15 08:01:11</td>\n",
       "      <td>apis.google.com</td>\n",
       "      <td>2013-11-15 08:01:12</td>\n",
       "      <td>www.google.com</td>\n",
       "      <td>2013-11-15 08:01:16</td>\n",
       "      <td>www.google.fr</td>\n",
       "      <td>...</td>\n",
       "      <td>0</td>\n",
       "      <td>18</td>\n",
       "      <td>57</td>\n",
       "      <td>1</td>\n",
       "      <td>8</td>\n",
       "      <td>15</td>\n",
       "      <td>4</td>\n",
       "      <td>11</td>\n",
       "      <td>0</td>\n",
       "      <td>1</td>\n",
       "    </tr>\n",
       "    <tr>\n",
       "      <th>1</th>\n",
       "      <td>2013-11-15 08:04:12</td>\n",
       "      <td>armmf.adobe.com</td>\n",
       "      <td>2013-11-15 08:05:31</td>\n",
       "      <td>www.google.fr</td>\n",
       "      <td>2013-11-15 08:05:32</td>\n",
       "      <td>apis.google.com</td>\n",
       "      <td>2013-11-15 08:05:32</td>\n",
       "      <td>www.google.com</td>\n",
       "      <td>2013-11-15 08:05:35</td>\n",
       "      <td>www.google.fr</td>\n",
       "      <td>...</td>\n",
       "      <td>0</td>\n",
       "      <td>20</td>\n",
       "      <td>97</td>\n",
       "      <td>4</td>\n",
       "      <td>8</td>\n",
       "      <td>15</td>\n",
       "      <td>4</td>\n",
       "      <td>11</td>\n",
       "      <td>0</td>\n",
       "      <td>1</td>\n",
       "    </tr>\n",
       "    <tr>\n",
       "      <th>2</th>\n",
       "      <td>2013-11-15 08:06:29</td>\n",
       "      <td>www.google.fr</td>\n",
       "      <td>2013-11-15 08:06:30</td>\n",
       "      <td>www.google.fr</td>\n",
       "      <td>2013-11-15 08:06:30</td>\n",
       "      <td>ajax.googleapis.com</td>\n",
       "      <td>2013-11-15 08:06:30</td>\n",
       "      <td>www.sol-solution.com</td>\n",
       "      <td>2013-11-15 08:06:31</td>\n",
       "      <td>www.sol-solution.com</td>\n",
       "      <td>...</td>\n",
       "      <td>0</td>\n",
       "      <td>20</td>\n",
       "      <td>47</td>\n",
       "      <td>6</td>\n",
       "      <td>8</td>\n",
       "      <td>15</td>\n",
       "      <td>4</td>\n",
       "      <td>11</td>\n",
       "      <td>0</td>\n",
       "      <td>1</td>\n",
       "    </tr>\n",
       "    <tr>\n",
       "      <th>3</th>\n",
       "      <td>2013-11-15 08:07:35</td>\n",
       "      <td>www.google.com</td>\n",
       "      <td>2013-11-15 08:07:35</td>\n",
       "      <td>www.google.fr</td>\n",
       "      <td>2013-11-15 08:07:47</td>\n",
       "      <td>www.google.fr</td>\n",
       "      <td>2013-11-15 08:07:47</td>\n",
       "      <td>apis.google.com</td>\n",
       "      <td>2013-11-15 08:07:47</td>\n",
       "      <td>id.google.fr</td>\n",
       "      <td>...</td>\n",
       "      <td>0</td>\n",
       "      <td>20</td>\n",
       "      <td>32</td>\n",
       "      <td>7</td>\n",
       "      <td>8</td>\n",
       "      <td>15</td>\n",
       "      <td>4</td>\n",
       "      <td>11</td>\n",
       "      <td>0</td>\n",
       "      <td>1</td>\n",
       "    </tr>\n",
       "    <tr>\n",
       "      <th>4</th>\n",
       "      <td>2013-11-15 08:07:54</td>\n",
       "      <td>www.apogeedigital.com</td>\n",
       "      <td>2013-11-15 08:07:55</td>\n",
       "      <td>www.apogeedigital.com</td>\n",
       "      <td>2013-11-15 08:08:00</td>\n",
       "      <td>www.apogeedigital.com</td>\n",
       "      <td>2013-11-15 08:08:01</td>\n",
       "      <td>www.apogeedigital.com</td>\n",
       "      <td>2013-11-15 08:08:02</td>\n",
       "      <td>www.apogeedigital.com</td>\n",
       "      <td>...</td>\n",
       "      <td>0</td>\n",
       "      <td>20</td>\n",
       "      <td>12</td>\n",
       "      <td>7</td>\n",
       "      <td>8</td>\n",
       "      <td>15</td>\n",
       "      <td>4</td>\n",
       "      <td>11</td>\n",
       "      <td>0</td>\n",
       "      <td>1</td>\n",
       "    </tr>\n",
       "    <tr>\n",
       "      <th>...</th>\n",
       "      <td>...</td>\n",
       "      <td>...</td>\n",
       "      <td>...</td>\n",
       "      <td>...</td>\n",
       "      <td>...</td>\n",
       "      <td>...</td>\n",
       "      <td>...</td>\n",
       "      <td>...</td>\n",
       "      <td>...</td>\n",
       "      <td>...</td>\n",
       "      <td>...</td>\n",
       "      <td>...</td>\n",
       "      <td>...</td>\n",
       "      <td>...</td>\n",
       "      <td>...</td>\n",
       "      <td>...</td>\n",
       "      <td>...</td>\n",
       "      <td>...</td>\n",
       "      <td>...</td>\n",
       "      <td>...</td>\n",
       "      <td>...</td>\n",
       "    </tr>\n",
       "    <tr>\n",
       "      <th>83261</th>\n",
       "      <td>2014-05-28 19:02:25</td>\n",
       "      <td>www.mangareader.net</td>\n",
       "      <td>2014-05-28 19:02:25</td>\n",
       "      <td>www.facebook.com</td>\n",
       "      <td>2014-05-28 19:02:51</td>\n",
       "      <td>www.mangareader.net</td>\n",
       "      <td>2014-05-28 19:02:52</td>\n",
       "      <td>www.facebook.com</td>\n",
       "      <td>2014-05-28 19:02:53</td>\n",
       "      <td>i6.mangareader.net</td>\n",
       "      <td>...</td>\n",
       "      <td>0</td>\n",
       "      <td>20</td>\n",
       "      <td>32</td>\n",
       "      <td>2</td>\n",
       "      <td>19</td>\n",
       "      <td>28</td>\n",
       "      <td>2</td>\n",
       "      <td>5</td>\n",
       "      <td>0</td>\n",
       "      <td>1</td>\n",
       "    </tr>\n",
       "    <tr>\n",
       "      <th>83262</th>\n",
       "      <td>2014-05-28 19:03:03</td>\n",
       "      <td>i5.mangareader.net</td>\n",
       "      <td>2014-05-28 19:03:04</td>\n",
       "      <td>www.facebook.com</td>\n",
       "      <td>2014-05-28 19:03:04</td>\n",
       "      <td>www.mangareader.net</td>\n",
       "      <td>2014-05-28 19:03:50</td>\n",
       "      <td>www.mangareader.net</td>\n",
       "      <td>2014-05-28 19:03:51</td>\n",
       "      <td>www.mangareader.net</td>\n",
       "      <td>...</td>\n",
       "      <td>0</td>\n",
       "      <td>20</td>\n",
       "      <td>65</td>\n",
       "      <td>3</td>\n",
       "      <td>19</td>\n",
       "      <td>28</td>\n",
       "      <td>2</td>\n",
       "      <td>5</td>\n",
       "      <td>0</td>\n",
       "      <td>1</td>\n",
       "    </tr>\n",
       "    <tr>\n",
       "      <th>83263</th>\n",
       "      <td>2014-05-28 19:05:35</td>\n",
       "      <td>www.mangareader.net</td>\n",
       "      <td>2014-05-28 19:05:36</td>\n",
       "      <td>www.facebook.com</td>\n",
       "      <td>2014-05-28 19:05:36</td>\n",
       "      <td>www.mangareader.net</td>\n",
       "      <td>2014-05-28 19:06:01</td>\n",
       "      <td>www.mangareader.net</td>\n",
       "      <td>2014-05-28 19:06:02</td>\n",
       "      <td>www.mangareader.net</td>\n",
       "      <td>...</td>\n",
       "      <td>0</td>\n",
       "      <td>20</td>\n",
       "      <td>85</td>\n",
       "      <td>5</td>\n",
       "      <td>19</td>\n",
       "      <td>28</td>\n",
       "      <td>2</td>\n",
       "      <td>5</td>\n",
       "      <td>0</td>\n",
       "      <td>1</td>\n",
       "    </tr>\n",
       "    <tr>\n",
       "      <th>83264</th>\n",
       "      <td>2014-05-28 19:07:38</td>\n",
       "      <td>www.mangareader.net</td>\n",
       "      <td>2014-05-28 19:07:39</td>\n",
       "      <td>www.mangareader.net</td>\n",
       "      <td>2014-05-28 19:07:40</td>\n",
       "      <td>www.facebook.com</td>\n",
       "      <td>2014-05-28 19:07:46</td>\n",
       "      <td>www.mangareader.net</td>\n",
       "      <td>2014-05-28 19:07:47</td>\n",
       "      <td>www.mangareader.net</td>\n",
       "      <td>...</td>\n",
       "      <td>0</td>\n",
       "      <td>20</td>\n",
       "      <td>28</td>\n",
       "      <td>7</td>\n",
       "      <td>19</td>\n",
       "      <td>28</td>\n",
       "      <td>2</td>\n",
       "      <td>5</td>\n",
       "      <td>0</td>\n",
       "      <td>1</td>\n",
       "    </tr>\n",
       "    <tr>\n",
       "      <th>83265</th>\n",
       "      <td>2014-05-28 19:10:01</td>\n",
       "      <td>i3.mangareader.net</td>\n",
       "      <td>2014-05-28 19:10:14</td>\n",
       "      <td>www.mangareader.net</td>\n",
       "      <td>2014-05-28 19:10:15</td>\n",
       "      <td>www.facebook.com</td>\n",
       "      <td>2014-05-28 19:10:15</td>\n",
       "      <td>www.mangareader.net</td>\n",
       "      <td>NaT</td>\n",
       "      <td>NaN</td>\n",
       "      <td>...</td>\n",
       "      <td>0</td>\n",
       "      <td>4</td>\n",
       "      <td>14</td>\n",
       "      <td>10</td>\n",
       "      <td>19</td>\n",
       "      <td>28</td>\n",
       "      <td>2</td>\n",
       "      <td>5</td>\n",
       "      <td>0</td>\n",
       "      <td>1</td>\n",
       "    </tr>\n",
       "  </tbody>\n",
       "</table>\n",
       "<p>83266 rows × 50 columns</p>\n",
       "</div>"
      ],
      "text/plain": [
       "                    time1                  site1               time2  \\\n",
       "0     2013-11-15 08:01:09          www.google.fr 2013-11-15 08:01:10   \n",
       "1     2013-11-15 08:04:12        armmf.adobe.com 2013-11-15 08:05:31   \n",
       "2     2013-11-15 08:06:29          www.google.fr 2013-11-15 08:06:30   \n",
       "3     2013-11-15 08:07:35         www.google.com 2013-11-15 08:07:35   \n",
       "4     2013-11-15 08:07:54  www.apogeedigital.com 2013-11-15 08:07:55   \n",
       "...                   ...                    ...                 ...   \n",
       "83261 2014-05-28 19:02:25    www.mangareader.net 2014-05-28 19:02:25   \n",
       "83262 2014-05-28 19:03:03     i5.mangareader.net 2014-05-28 19:03:04   \n",
       "83263 2014-05-28 19:05:35    www.mangareader.net 2014-05-28 19:05:36   \n",
       "83264 2014-05-28 19:07:38    www.mangareader.net 2014-05-28 19:07:39   \n",
       "83265 2014-05-28 19:10:01     i3.mangareader.net 2014-05-28 19:10:14   \n",
       "\n",
       "                       site2               time3                  site3  \\\n",
       "0              www.google.fr 2013-11-15 08:01:11        apis.google.com   \n",
       "1              www.google.fr 2013-11-15 08:05:32        apis.google.com   \n",
       "2              www.google.fr 2013-11-15 08:06:30    ajax.googleapis.com   \n",
       "3              www.google.fr 2013-11-15 08:07:47          www.google.fr   \n",
       "4      www.apogeedigital.com 2013-11-15 08:08:00  www.apogeedigital.com   \n",
       "...                      ...                 ...                    ...   \n",
       "83261       www.facebook.com 2014-05-28 19:02:51    www.mangareader.net   \n",
       "83262       www.facebook.com 2014-05-28 19:03:04    www.mangareader.net   \n",
       "83263       www.facebook.com 2014-05-28 19:05:36    www.mangareader.net   \n",
       "83264    www.mangareader.net 2014-05-28 19:07:40       www.facebook.com   \n",
       "83265    www.mangareader.net 2014-05-28 19:10:15       www.facebook.com   \n",
       "\n",
       "                    time4                  site4               time5  \\\n",
       "0     2013-11-15 08:01:12         www.google.com 2013-11-15 08:01:16   \n",
       "1     2013-11-15 08:05:32         www.google.com 2013-11-15 08:05:35   \n",
       "2     2013-11-15 08:06:30   www.sol-solution.com 2013-11-15 08:06:31   \n",
       "3     2013-11-15 08:07:47        apis.google.com 2013-11-15 08:07:47   \n",
       "4     2013-11-15 08:08:01  www.apogeedigital.com 2013-11-15 08:08:02   \n",
       "...                   ...                    ...                 ...   \n",
       "83261 2014-05-28 19:02:52       www.facebook.com 2014-05-28 19:02:53   \n",
       "83262 2014-05-28 19:03:50    www.mangareader.net 2014-05-28 19:03:51   \n",
       "83263 2014-05-28 19:06:01    www.mangareader.net 2014-05-28 19:06:02   \n",
       "83264 2014-05-28 19:07:46    www.mangareader.net 2014-05-28 19:07:47   \n",
       "83265 2014-05-28 19:10:15    www.mangareader.net                 NaT   \n",
       "\n",
       "                       site5  ... target number_of_sites session_duration  \\\n",
       "0              www.google.fr  ...      0              18               57   \n",
       "1              www.google.fr  ...      0              20               97   \n",
       "2       www.sol-solution.com  ...      0              20               47   \n",
       "3               id.google.fr  ...      0              20               32   \n",
       "4      www.apogeedigital.com  ...      0              20               12   \n",
       "...                      ...  ...    ...             ...              ...   \n",
       "83261     i6.mangareader.net  ...      0              20               32   \n",
       "83262    www.mangareader.net  ...      0              20               65   \n",
       "83263    www.mangareader.net  ...      0              20               85   \n",
       "83264    www.mangareader.net  ...      0              20               28   \n",
       "83265                    NaN  ...      0               4               14   \n",
       "\n",
       "      minute hour day weekday month favourite_hour favourite_weekday  \n",
       "0          1    8  15       4    11              0                 1  \n",
       "1          4    8  15       4    11              0                 1  \n",
       "2          6    8  15       4    11              0                 1  \n",
       "3          7    8  15       4    11              0                 1  \n",
       "4          7    8  15       4    11              0                 1  \n",
       "...      ...  ...  ..     ...   ...            ...               ...  \n",
       "83261      2   19  28       2     5              0                 1  \n",
       "83262      3   19  28       2     5              0                 1  \n",
       "83263      5   19  28       2     5              0                 1  \n",
       "83264      7   19  28       2     5              0                 1  \n",
       "83265     10   19  28       2     5              0                 1  \n",
       "\n",
       "[83266 rows x 50 columns]"
      ]
     },
     "execution_count": 6,
     "metadata": {},
     "output_type": "execute_result"
    }
   ],
   "source": [
    "data['favourite_weekday'] = data['weekday'].apply(lambda x: (x >= 0) & (x <= 4)).astype('int')\n",
    "data"
   ]
  },
  {
   "cell_type": "code",
   "execution_count": 78,
   "id": "08ba6ad7",
   "metadata": {},
   "outputs": [
    {
     "data": {
      "image/png": "[encoded data removed]",
      "text/plain": [
       "<Figure size 1080x360 with 2 Axes>"
      ]
     },
     "metadata": {
      "needs_background": "light"
     },
     "output_type": "display_data"
    }
   ],
   "source": [
    "plt.subplots(1, 2, figsize = (15, 5)) \n",
    "\n",
    "plt.subplot(1, 2, 1)\n",
    "sns.countplot(data[data.target == 1].day)\n",
    "plt.title(\"Элис\")\n",
    "plt.xlabel('День открытия сессии')\n",
    "          \n",
    "plt.subplot(1, 2, 2)\n",
    "sns.countplot(data[data.target == 0].day)\n",
    "plt.title('Другие')\n",
    "plt.xlabel('День открытия сессии');"
   ]
  },
  {
   "cell_type": "markdown",
   "id": "6f502e93",
   "metadata": {},
   "source": [
    "По диаграммам видно, что Элис выходит в интернет 3, 5, 9, 19, 26, 27, 28, и 31 числа. Возможно, некоторые данные были утрачены из программного сбоя или еще каким-либо причинам. Тем не менее, эту закономерность неоходимо использовать в модели, поэтому создадим признак *favorite_days*, который равен 1, если день открытия сессии равен одному из вышеперечисленных дней."
   ]
  },
  {
   "cell_type": "code",
   "execution_count": 7,
   "id": "4b9e155d",
   "metadata": {},
   "outputs": [
    {
     "data": {
      "text/html": [
       "<div>\n",
       "<style scoped>\n",
       "    .dataframe tbody tr th:only-of-type {\n",
       "        vertical-align: middle;\n",
       "    }\n",
       "\n",
       "    .dataframe tbody tr th {\n",
       "        vertical-align: top;\n",
       "    }\n",
       "\n",
       "    .dataframe thead th {\n",
       "        text-align: right;\n",
       "    }\n",
       "</style>\n",
       "<table border=\"1\" class=\"dataframe\">\n",
       "  <thead>\n",
       "    <tr style=\"text-align: right;\">\n",
       "      <th></th>\n",
       "      <th>time1</th>\n",
       "      <th>site1</th>\n",
       "      <th>time2</th>\n",
       "      <th>site2</th>\n",
       "      <th>time3</th>\n",
       "      <th>site3</th>\n",
       "      <th>time4</th>\n",
       "      <th>site4</th>\n",
       "      <th>time5</th>\n",
       "      <th>site5</th>\n",
       "      <th>...</th>\n",
       "      <th>number_of_sites</th>\n",
       "      <th>session_duration</th>\n",
       "      <th>minute</th>\n",
       "      <th>hour</th>\n",
       "      <th>day</th>\n",
       "      <th>weekday</th>\n",
       "      <th>month</th>\n",
       "      <th>favourite_hour</th>\n",
       "      <th>favourite_weekday</th>\n",
       "      <th>favourite_day</th>\n",
       "    </tr>\n",
       "  </thead>\n",
       "  <tbody>\n",
       "    <tr>\n",
       "      <th>0</th>\n",
       "      <td>2013-11-15 08:01:09</td>\n",
       "      <td>www.google.fr</td>\n",
       "      <td>2013-11-15 08:01:10</td>\n",
       "      <td>www.google.fr</td>\n",
       "      <td>2013-11-15 08:01:11</td>\n",
       "      <td>apis.google.com</td>\n",
       "      <td>2013-11-15 08:01:12</td>\n",
       "      <td>www.google.com</td>\n",
       "      <td>2013-11-15 08:01:16</td>\n",
       "      <td>www.google.fr</td>\n",
       "      <td>...</td>\n",
       "      <td>18</td>\n",
       "      <td>57</td>\n",
       "      <td>1</td>\n",
       "      <td>8</td>\n",
       "      <td>15</td>\n",
       "      <td>4</td>\n",
       "      <td>11</td>\n",
       "      <td>0</td>\n",
       "      <td>1</td>\n",
       "      <td>0</td>\n",
       "    </tr>\n",
       "    <tr>\n",
       "      <th>1</th>\n",
       "      <td>2013-11-15 08:04:12</td>\n",
       "      <td>armmf.adobe.com</td>\n",
       "      <td>2013-11-15 08:05:31</td>\n",
       "      <td>www.google.fr</td>\n",
       "      <td>2013-11-15 08:05:32</td>\n",
       "      <td>apis.google.com</td>\n",
       "      <td>2013-11-15 08:05:32</td>\n",
       "      <td>www.google.com</td>\n",
       "      <td>2013-11-15 08:05:35</td>\n",
       "      <td>www.google.fr</td>\n",
       "      <td>...</td>\n",
       "      <td>20</td>\n",
       "      <td>97</td>\n",
       "      <td>4</td>\n",
       "      <td>8</td>\n",
       "      <td>15</td>\n",
       "      <td>4</td>\n",
       "      <td>11</td>\n",
       "      <td>0</td>\n",
       "      <td>1</td>\n",
       "      <td>0</td>\n",
       "    </tr>\n",
       "    <tr>\n",
       "      <th>2</th>\n",
       "      <td>2013-11-15 08:06:29</td>\n",
       "      <td>www.google.fr</td>\n",
       "      <td>2013-11-15 08:06:30</td>\n",
       "      <td>www.google.fr</td>\n",
       "      <td>2013-11-15 08:06:30</td>\n",
       "      <td>ajax.googleapis.com</td>\n",
       "      <td>2013-11-15 08:06:30</td>\n",
       "      <td>www.sol-solution.com</td>\n",
       "      <td>2013-11-15 08:06:31</td>\n",
       "      <td>www.sol-solution.com</td>\n",
       "      <td>...</td>\n",
       "      <td>20</td>\n",
       "      <td>47</td>\n",
       "      <td>6</td>\n",
       "      <td>8</td>\n",
       "      <td>15</td>\n",
       "      <td>4</td>\n",
       "      <td>11</td>\n",
       "      <td>0</td>\n",
       "      <td>1</td>\n",
       "      <td>0</td>\n",
       "    </tr>\n",
       "    <tr>\n",
       "      <th>3</th>\n",
       "      <td>2013-11-15 08:07:35</td>\n",
       "      <td>www.google.com</td>\n",
       "      <td>2013-11-15 08:07:35</td>\n",
       "      <td>www.google.fr</td>\n",
       "      <td>2013-11-15 08:07:47</td>\n",
       "      <td>www.google.fr</td>\n",
       "      <td>2013-11-15 08:07:47</td>\n",
       "      <td>apis.google.com</td>\n",
       "      <td>2013-11-15 08:07:47</td>\n",
       "      <td>id.google.fr</td>\n",
       "      <td>...</td>\n",
       "      <td>20</td>\n",
       "      <td>32</td>\n",
       "      <td>7</td>\n",
       "      <td>8</td>\n",
       "      <td>15</td>\n",
       "      <td>4</td>\n",
       "      <td>11</td>\n",
       "      <td>0</td>\n",
       "      <td>1</td>\n",
       "      <td>0</td>\n",
       "    </tr>\n",
       "    <tr>\n",
       "      <th>4</th>\n",
       "      <td>2013-11-15 08:07:54</td>\n",
       "      <td>www.apogeedigital.com</td>\n",
       "      <td>2013-11-15 08:07:55</td>\n",
       "      <td>www.apogeedigital.com</td>\n",
       "      <td>2013-11-15 08:08:00</td>\n",
       "      <td>www.apogeedigital.com</td>\n",
       "      <td>2013-11-15 08:08:01</td>\n",
       "      <td>www.apogeedigital.com</td>\n",
       "      <td>2013-11-15 08:08:02</td>\n",
       "      <td>www.apogeedigital.com</td>\n",
       "      <td>...</td>\n",
       "      <td>20</td>\n",
       "      <td>12</td>\n",
       "      <td>7</td>\n",
       "      <td>8</td>\n",
       "      <td>15</td>\n",
       "      <td>4</td>\n",
       "      <td>11</td>\n",
       "      <td>0</td>\n",
       "      <td>1</td>\n",
       "      <td>0</td>\n",
       "    </tr>\n",
       "    <tr>\n",
       "      <th>...</th>\n",
       "      <td>...</td>\n",
       "      <td>...</td>\n",
       "      <td>...</td>\n",
       "      <td>...</td>\n",
       "      <td>...</td>\n",
       "      <td>...</td>\n",
       "      <td>...</td>\n",
       "      <td>...</td>\n",
       "      <td>...</td>\n",
       "      <td>...</td>\n",
       "      <td>...</td>\n",
       "      <td>...</td>\n",
       "      <td>...</td>\n",
       "      <td>...</td>\n",
       "      <td>...</td>\n",
       "      <td>...</td>\n",
       "      <td>...</td>\n",
       "      <td>...</td>\n",
       "      <td>...</td>\n",
       "      <td>...</td>\n",
       "      <td>...</td>\n",
       "    </tr>\n",
       "    <tr>\n",
       "      <th>83261</th>\n",
       "      <td>2014-05-28 19:02:25</td>\n",
       "      <td>www.mangareader.net</td>\n",
       "      <td>2014-05-28 19:02:25</td>\n",
       "      <td>www.facebook.com</td>\n",
       "      <td>2014-05-28 19:02:51</td>\n",
       "      <td>www.mangareader.net</td>\n",
       "      <td>2014-05-28 19:02:52</td>\n",
       "      <td>www.facebook.com</td>\n",
       "      <td>2014-05-28 19:02:53</td>\n",
       "      <td>i6.mangareader.net</td>\n",
       "      <td>...</td>\n",
       "      <td>20</td>\n",
       "      <td>32</td>\n",
       "      <td>2</td>\n",
       "      <td>19</td>\n",
       "      <td>28</td>\n",
       "      <td>2</td>\n",
       "      <td>5</td>\n",
       "      <td>0</td>\n",
       "      <td>1</td>\n",
       "      <td>1</td>\n",
       "    </tr>\n",
       "    <tr>\n",
       "      <th>83262</th>\n",
       "      <td>2014-05-28 19:03:03</td>\n",
       "      <td>i5.mangareader.net</td>\n",
       "      <td>2014-05-28 19:03:04</td>\n",
       "      <td>www.facebook.com</td>\n",
       "      <td>2014-05-28 19:03:04</td>\n",
       "      <td>www.mangareader.net</td>\n",
       "      <td>2014-05-28 19:03:50</td>\n",
       "      <td>www.mangareader.net</td>\n",
       "      <td>2014-05-28 19:03:51</td>\n",
       "      <td>www.mangareader.net</td>\n",
       "      <td>...</td>\n",
       "      <td>20</td>\n",
       "      <td>65</td>\n",
       "      <td>3</td>\n",
       "      <td>19</td>\n",
       "      <td>28</td>\n",
       "      <td>2</td>\n",
       "      <td>5</td>\n",
       "      <td>0</td>\n",
       "      <td>1</td>\n",
       "      <td>1</td>\n",
       "    </tr>\n",
       "    <tr>\n",
       "      <th>83263</th>\n",
       "      <td>2014-05-28 19:05:35</td>\n",
       "      <td>www.mangareader.net</td>\n",
       "      <td>2014-05-28 19:05:36</td>\n",
       "      <td>www.facebook.com</td>\n",
       "      <td>2014-05-28 19:05:36</td>\n",
       "      <td>www.mangareader.net</td>\n",
       "      <td>2014-05-28 19:06:01</td>\n",
       "      <td>www.mangareader.net</td>\n",
       "      <td>2014-05-28 19:06:02</td>\n",
       "      <td>www.mangareader.net</td>\n",
       "      <td>...</td>\n",
       "      <td>20</td>\n",
       "      <td>85</td>\n",
       "      <td>5</td>\n",
       "      <td>19</td>\n",
       "      <td>28</td>\n",
       "      <td>2</td>\n",
       "      <td>5</td>\n",
       "      <td>0</td>\n",
       "      <td>1</td>\n",
       "      <td>1</td>\n",
       "    </tr>\n",
       "    <tr>\n",
       "      <th>83264</th>\n",
       "      <td>2014-05-28 19:07:38</td>\n",
       "      <td>www.mangareader.net</td>\n",
       "      <td>2014-05-28 19:07:39</td>\n",
       "      <td>www.mangareader.net</td>\n",
       "      <td>2014-05-28 19:07:40</td>\n",
       "      <td>www.facebook.com</td>\n",
       "      <td>2014-05-28 19:07:46</td>\n",
       "      <td>www.mangareader.net</td>\n",
       "      <td>2014-05-28 19:07:47</td>\n",
       "      <td>www.mangareader.net</td>\n",
       "      <td>...</td>\n",
       "      <td>20</td>\n",
       "      <td>28</td>\n",
       "      <td>7</td>\n",
       "      <td>19</td>\n",
       "      <td>28</td>\n",
       "      <td>2</td>\n",
       "      <td>5</td>\n",
       "      <td>0</td>\n",
       "      <td>1</td>\n",
       "      <td>1</td>\n",
       "    </tr>\n",
       "    <tr>\n",
       "      <th>83265</th>\n",
       "      <td>2014-05-28 19:10:01</td>\n",
       "      <td>i3.mangareader.net</td>\n",
       "      <td>2014-05-28 19:10:14</td>\n",
       "      <td>www.mangareader.net</td>\n",
       "      <td>2014-05-28 19:10:15</td>\n",
       "      <td>www.facebook.com</td>\n",
       "      <td>2014-05-28 19:10:15</td>\n",
       "      <td>www.mangareader.net</td>\n",
       "      <td>NaT</td>\n",
       "      <td>NaN</td>\n",
       "      <td>...</td>\n",
       "      <td>4</td>\n",
       "      <td>14</td>\n",
       "      <td>10</td>\n",
       "      <td>19</td>\n",
       "      <td>28</td>\n",
       "      <td>2</td>\n",
       "      <td>5</td>\n",
       "      <td>0</td>\n",
       "      <td>1</td>\n",
       "      <td>1</td>\n",
       "    </tr>\n",
       "  </tbody>\n",
       "</table>\n",
       "<p>83266 rows × 51 columns</p>\n",
       "</div>"
      ],
      "text/plain": [
       "                    time1                  site1               time2  \\\n",
       "0     2013-11-15 08:01:09          www.google.fr 2013-11-15 08:01:10   \n",
       "1     2013-11-15 08:04:12        armmf.adobe.com 2013-11-15 08:05:31   \n",
       "2     2013-11-15 08:06:29          www.google.fr 2013-11-15 08:06:30   \n",
       "3     2013-11-15 08:07:35         www.google.com 2013-11-15 08:07:35   \n",
       "4     2013-11-15 08:07:54  www.apogeedigital.com 2013-11-15 08:07:55   \n",
       "...                   ...                    ...                 ...   \n",
       "83261 2014-05-28 19:02:25    www.mangareader.net 2014-05-28 19:02:25   \n",
       "83262 2014-05-28 19:03:03     i5.mangareader.net 2014-05-28 19:03:04   \n",
       "83263 2014-05-28 19:05:35    www.mangareader.net 2014-05-28 19:05:36   \n",
       "83264 2014-05-28 19:07:38    www.mangareader.net 2014-05-28 19:07:39   \n",
       "83265 2014-05-28 19:10:01     i3.mangareader.net 2014-05-28 19:10:14   \n",
       "\n",
       "                       site2               time3                  site3  \\\n",
       "0              www.google.fr 2013-11-15 08:01:11        apis.google.com   \n",
       "1              www.google.fr 2013-11-15 08:05:32        apis.google.com   \n",
       "2              www.google.fr 2013-11-15 08:06:30    ajax.googleapis.com   \n",
       "3              www.google.fr 2013-11-15 08:07:47          www.google.fr   \n",
       "4      www.apogeedigital.com 2013-11-15 08:08:00  www.apogeedigital.com   \n",
       "...                      ...                 ...                    ...   \n",
       "83261       www.facebook.com 2014-05-28 19:02:51    www.mangareader.net   \n",
       "83262       www.facebook.com 2014-05-28 19:03:04    www.mangareader.net   \n",
       "83263       www.facebook.com 2014-05-28 19:05:36    www.mangareader.net   \n",
       "83264    www.mangareader.net 2014-05-28 19:07:40       www.facebook.com   \n",
       "83265    www.mangareader.net 2014-05-28 19:10:15       www.facebook.com   \n",
       "\n",
       "                    time4                  site4               time5  \\\n",
       "0     2013-11-15 08:01:12         www.google.com 2013-11-15 08:01:16   \n",
       "1     2013-11-15 08:05:32         www.google.com 2013-11-15 08:05:35   \n",
       "2     2013-11-15 08:06:30   www.sol-solution.com 2013-11-15 08:06:31   \n",
       "3     2013-11-15 08:07:47        apis.google.com 2013-11-15 08:07:47   \n",
       "4     2013-11-15 08:08:01  www.apogeedigital.com 2013-11-15 08:08:02   \n",
       "...                   ...                    ...                 ...   \n",
       "83261 2014-05-28 19:02:52       www.facebook.com 2014-05-28 19:02:53   \n",
       "83262 2014-05-28 19:03:50    www.mangareader.net 2014-05-28 19:03:51   \n",
       "83263 2014-05-28 19:06:01    www.mangareader.net 2014-05-28 19:06:02   \n",
       "83264 2014-05-28 19:07:46    www.mangareader.net 2014-05-28 19:07:47   \n",
       "83265 2014-05-28 19:10:15    www.mangareader.net                 NaT   \n",
       "\n",
       "                       site5  ... number_of_sites session_duration minute  \\\n",
       "0              www.google.fr  ...              18               57      1   \n",
       "1              www.google.fr  ...              20               97      4   \n",
       "2       www.sol-solution.com  ...              20               47      6   \n",
       "3               id.google.fr  ...              20               32      7   \n",
       "4      www.apogeedigital.com  ...              20               12      7   \n",
       "...                      ...  ...             ...              ...    ...   \n",
       "83261     i6.mangareader.net  ...              20               32      2   \n",
       "83262    www.mangareader.net  ...              20               65      3   \n",
       "83263    www.mangareader.net  ...              20               85      5   \n",
       "83264    www.mangareader.net  ...              20               28      7   \n",
       "83265                    NaN  ...               4               14     10   \n",
       "\n",
       "      hour day weekday month favourite_hour favourite_weekday favourite_day  \n",
       "0        8  15       4    11              0                 1             0  \n",
       "1        8  15       4    11              0                 1             0  \n",
       "2        8  15       4    11              0                 1             0  \n",
       "3        8  15       4    11              0                 1             0  \n",
       "4        8  15       4    11              0                 1             0  \n",
       "...    ...  ..     ...   ...            ...               ...           ...  \n",
       "83261   19  28       2     5              0                 1             1  \n",
       "83262   19  28       2     5              0                 1             1  \n",
       "83263   19  28       2     5              0                 1             1  \n",
       "83264   19  28       2     5              0                 1             1  \n",
       "83265   19  28       2     5              0                 1             1  \n",
       "\n",
       "[83266 rows x 51 columns]"
      ]
     },
     "execution_count": 7,
     "metadata": {},
     "output_type": "execute_result"
    }
   ],
   "source": [
    "data['favourite_day'] = data['day'].apply(lambda x: (x == 3) | (x == 5) | (x == 9) | (x == 19) | (x == 26) | (x == 27) | (x == 28) | (x == 31)).astype('int')\n",
    "data"
   ]
  },
  {
   "cell_type": "code",
   "execution_count": 73,
   "id": "5ea31c11",
   "metadata": {},
   "outputs": [
    {
     "data": {
      "image/png": "[encoded data removed]",
      "text/plain": [
       "<Figure size 1080x360 with 2 Axes>"
      ]
     },
     "metadata": {
      "needs_background": "light"
     },
     "output_type": "display_data"
    }
   ],
   "source": [
    "plt.subplots(1, 2, figsize = (15, 5)) \n",
    "\n",
    "plt.subplot(1, 2, 1)\n",
    "sns.countplot(data[data.target == 1].month)\n",
    "plt.title(\"Элис\")\n",
    "plt.xlabel('Месяц открытия сессии')\n",
    "          \n",
    "plt.subplot(1, 2, 2)\n",
    "sns.countplot(data[data.target == 0].month)\n",
    "plt.title('Другие')\n",
    "plt.xlabel('Месяц открытия сессии');"
   ]
  },
  {
   "cell_type": "markdown",
   "id": "5be8aaed",
   "metadata": {},
   "source": [
    "Из вышеприведенных диаграмм заметна странная закономерность или какая-то аномалия. По ним можно сделать вывод, что Элис выходит в интернет только в марте, ноябре и декабре. Возможно, что это ошибка в данных, но тем не менее это нужно учитывать в модели. Создадим признак *favorite_month*. Он равен 1, если сессия открыта в марте, ноябре или декабре."
   ]
  },
  {
   "cell_type": "code",
   "execution_count": 8,
   "id": "18236348",
   "metadata": {},
   "outputs": [
    {
     "data": {
      "text/html": [
       "<div>\n",
       "<style scoped>\n",
       "    .dataframe tbody tr th:only-of-type {\n",
       "        vertical-align: middle;\n",
       "    }\n",
       "\n",
       "    .dataframe tbody tr th {\n",
       "        vertical-align: top;\n",
       "    }\n",
       "\n",
       "    .dataframe thead th {\n",
       "        text-align: right;\n",
       "    }\n",
       "</style>\n",
       "<table border=\"1\" class=\"dataframe\">\n",
       "  <thead>\n",
       "    <tr style=\"text-align: right;\">\n",
       "      <th></th>\n",
       "      <th>time1</th>\n",
       "      <th>site1</th>\n",
       "      <th>time2</th>\n",
       "      <th>site2</th>\n",
       "      <th>time3</th>\n",
       "      <th>site3</th>\n",
       "      <th>time4</th>\n",
       "      <th>site4</th>\n",
       "      <th>time5</th>\n",
       "      <th>site5</th>\n",
       "      <th>...</th>\n",
       "      <th>session_duration</th>\n",
       "      <th>minute</th>\n",
       "      <th>hour</th>\n",
       "      <th>day</th>\n",
       "      <th>weekday</th>\n",
       "      <th>month</th>\n",
       "      <th>favourite_hour</th>\n",
       "      <th>favourite_weekday</th>\n",
       "      <th>favourite_day</th>\n",
       "      <th>favourite_month</th>\n",
       "    </tr>\n",
       "  </thead>\n",
       "  <tbody>\n",
       "    <tr>\n",
       "      <th>0</th>\n",
       "      <td>2013-11-15 08:01:09</td>\n",
       "      <td>www.google.fr</td>\n",
       "      <td>2013-11-15 08:01:10</td>\n",
       "      <td>www.google.fr</td>\n",
       "      <td>2013-11-15 08:01:11</td>\n",
       "      <td>apis.google.com</td>\n",
       "      <td>2013-11-15 08:01:12</td>\n",
       "      <td>www.google.com</td>\n",
       "      <td>2013-11-15 08:01:16</td>\n",
       "      <td>www.google.fr</td>\n",
       "      <td>...</td>\n",
       "      <td>57</td>\n",
       "      <td>1</td>\n",
       "      <td>8</td>\n",
       "      <td>15</td>\n",
       "      <td>4</td>\n",
       "      <td>11</td>\n",
       "      <td>0</td>\n",
       "      <td>1</td>\n",
       "      <td>0</td>\n",
       "      <td>1</td>\n",
       "    </tr>\n",
       "    <tr>\n",
       "      <th>1</th>\n",
       "      <td>2013-11-15 08:04:12</td>\n",
       "      <td>armmf.adobe.com</td>\n",
       "      <td>2013-11-15 08:05:31</td>\n",
       "      <td>www.google.fr</td>\n",
       "      <td>2013-11-15 08:05:32</td>\n",
       "      <td>apis.google.com</td>\n",
       "      <td>2013-11-15 08:05:32</td>\n",
       "      <td>www.google.com</td>\n",
       "      <td>2013-11-15 08:05:35</td>\n",
       "      <td>www.google.fr</td>\n",
       "      <td>...</td>\n",
       "      <td>97</td>\n",
       "      <td>4</td>\n",
       "      <td>8</td>\n",
       "      <td>15</td>\n",
       "      <td>4</td>\n",
       "      <td>11</td>\n",
       "      <td>0</td>\n",
       "      <td>1</td>\n",
       "      <td>0</td>\n",
       "      <td>1</td>\n",
       "    </tr>\n",
       "    <tr>\n",
       "      <th>2</th>\n",
       "      <td>2013-11-15 08:06:29</td>\n",
       "      <td>www.google.fr</td>\n",
       "      <td>2013-11-15 08:06:30</td>\n",
       "      <td>www.google.fr</td>\n",
       "      <td>2013-11-15 08:06:30</td>\n",
       "      <td>ajax.googleapis.com</td>\n",
       "      <td>2013-11-15 08:06:30</td>\n",
       "      <td>www.sol-solution.com</td>\n",
       "      <td>2013-11-15 08:06:31</td>\n",
       "      <td>www.sol-solution.com</td>\n",
       "      <td>...</td>\n",
       "      <td>47</td>\n",
       "      <td>6</td>\n",
       "      <td>8</td>\n",
       "      <td>15</td>\n",
       "      <td>4</td>\n",
       "      <td>11</td>\n",
       "      <td>0</td>\n",
       "      <td>1</td>\n",
       "      <td>0</td>\n",
       "      <td>1</td>\n",
       "    </tr>\n",
       "    <tr>\n",
       "      <th>3</th>\n",
       "      <td>2013-11-15 08:07:35</td>\n",
       "      <td>www.google.com</td>\n",
       "      <td>2013-11-15 08:07:35</td>\n",
       "      <td>www.google.fr</td>\n",
       "      <td>2013-11-15 08:07:47</td>\n",
       "      <td>www.google.fr</td>\n",
       "      <td>2013-11-15 08:07:47</td>\n",
       "      <td>apis.google.com</td>\n",
       "      <td>2013-11-15 08:07:47</td>\n",
       "      <td>id.google.fr</td>\n",
       "      <td>...</td>\n",
       "      <td>32</td>\n",
       "      <td>7</td>\n",
       "      <td>8</td>\n",
       "      <td>15</td>\n",
       "      <td>4</td>\n",
       "      <td>11</td>\n",
       "      <td>0</td>\n",
       "      <td>1</td>\n",
       "      <td>0</td>\n",
       "      <td>1</td>\n",
       "    </tr>\n",
       "    <tr>\n",
       "      <th>4</th>\n",
       "      <td>2013-11-15 08:07:54</td>\n",
       "      <td>www.apogeedigital.com</td>\n",
       "      <td>2013-11-15 08:07:55</td>\n",
       "      <td>www.apogeedigital.com</td>\n",
       "      <td>2013-11-15 08:08:00</td>\n",
       "      <td>www.apogeedigital.com</td>\n",
       "      <td>2013-11-15 08:08:01</td>\n",
       "      <td>www.apogeedigital.com</td>\n",
       "      <td>2013-11-15 08:08:02</td>\n",
       "      <td>www.apogeedigital.com</td>\n",
       "      <td>...</td>\n",
       "      <td>12</td>\n",
       "      <td>7</td>\n",
       "      <td>8</td>\n",
       "      <td>15</td>\n",
       "      <td>4</td>\n",
       "      <td>11</td>\n",
       "      <td>0</td>\n",
       "      <td>1</td>\n",
       "      <td>0</td>\n",
       "      <td>1</td>\n",
       "    </tr>\n",
       "    <tr>\n",
       "      <th>...</th>\n",
       "      <td>...</td>\n",
       "      <td>...</td>\n",
       "      <td>...</td>\n",
       "      <td>...</td>\n",
       "      <td>...</td>\n",
       "      <td>...</td>\n",
       "      <td>...</td>\n",
       "      <td>...</td>\n",
       "      <td>...</td>\n",
       "      <td>...</td>\n",
       "      <td>...</td>\n",
       "      <td>...</td>\n",
       "      <td>...</td>\n",
       "      <td>...</td>\n",
       "      <td>...</td>\n",
       "      <td>...</td>\n",
       "      <td>...</td>\n",
       "      <td>...</td>\n",
       "      <td>...</td>\n",
       "      <td>...</td>\n",
       "      <td>...</td>\n",
       "    </tr>\n",
       "    <tr>\n",
       "      <th>83261</th>\n",
       "      <td>2014-05-28 19:02:25</td>\n",
       "      <td>www.mangareader.net</td>\n",
       "      <td>2014-05-28 19:02:25</td>\n",
       "      <td>www.facebook.com</td>\n",
       "      <td>2014-05-28 19:02:51</td>\n",
       "      <td>www.mangareader.net</td>\n",
       "      <td>2014-05-28 19:02:52</td>\n",
       "      <td>www.facebook.com</td>\n",
       "      <td>2014-05-28 19:02:53</td>\n",
       "      <td>i6.mangareader.net</td>\n",
       "      <td>...</td>\n",
       "      <td>32</td>\n",
       "      <td>2</td>\n",
       "      <td>19</td>\n",
       "      <td>28</td>\n",
       "      <td>2</td>\n",
       "      <td>5</td>\n",
       "      <td>0</td>\n",
       "      <td>1</td>\n",
       "      <td>1</td>\n",
       "      <td>0</td>\n",
       "    </tr>\n",
       "    <tr>\n",
       "      <th>83262</th>\n",
       "      <td>2014-05-28 19:03:03</td>\n",
       "      <td>i5.mangareader.net</td>\n",
       "      <td>2014-05-28 19:03:04</td>\n",
       "      <td>www.facebook.com</td>\n",
       "      <td>2014-05-28 19:03:04</td>\n",
       "      <td>www.mangareader.net</td>\n",
       "      <td>2014-05-28 19:03:50</td>\n",
       "      <td>www.mangareader.net</td>\n",
       "      <td>2014-05-28 19:03:51</td>\n",
       "      <td>www.mangareader.net</td>\n",
       "      <td>...</td>\n",
       "      <td>65</td>\n",
       "      <td>3</td>\n",
       "      <td>19</td>\n",
       "      <td>28</td>\n",
       "      <td>2</td>\n",
       "      <td>5</td>\n",
       "      <td>0</td>\n",
       "      <td>1</td>\n",
       "      <td>1</td>\n",
       "      <td>0</td>\n",
       "    </tr>\n",
       "    <tr>\n",
       "      <th>83263</th>\n",
       "      <td>2014-05-28 19:05:35</td>\n",
       "      <td>www.mangareader.net</td>\n",
       "      <td>2014-05-28 19:05:36</td>\n",
       "      <td>www.facebook.com</td>\n",
       "      <td>2014-05-28 19:05:36</td>\n",
       "      <td>www.mangareader.net</td>\n",
       "      <td>2014-05-28 19:06:01</td>\n",
       "      <td>www.mangareader.net</td>\n",
       "      <td>2014-05-28 19:06:02</td>\n",
       "      <td>www.mangareader.net</td>\n",
       "      <td>...</td>\n",
       "      <td>85</td>\n",
       "      <td>5</td>\n",
       "      <td>19</td>\n",
       "      <td>28</td>\n",
       "      <td>2</td>\n",
       "      <td>5</td>\n",
       "      <td>0</td>\n",
       "      <td>1</td>\n",
       "      <td>1</td>\n",
       "      <td>0</td>\n",
       "    </tr>\n",
       "    <tr>\n",
       "      <th>83264</th>\n",
       "      <td>2014-05-28 19:07:38</td>\n",
       "      <td>www.mangareader.net</td>\n",
       "      <td>2014-05-28 19:07:39</td>\n",
       "      <td>www.mangareader.net</td>\n",
       "      <td>2014-05-28 19:07:40</td>\n",
       "      <td>www.facebook.com</td>\n",
       "      <td>2014-05-28 19:07:46</td>\n",
       "      <td>www.mangareader.net</td>\n",
       "      <td>2014-05-28 19:07:47</td>\n",
       "      <td>www.mangareader.net</td>\n",
       "      <td>...</td>\n",
       "      <td>28</td>\n",
       "      <td>7</td>\n",
       "      <td>19</td>\n",
       "      <td>28</td>\n",
       "      <td>2</td>\n",
       "      <td>5</td>\n",
       "      <td>0</td>\n",
       "      <td>1</td>\n",
       "      <td>1</td>\n",
       "      <td>0</td>\n",
       "    </tr>\n",
       "    <tr>\n",
       "      <th>83265</th>\n",
       "      <td>2014-05-28 19:10:01</td>\n",
       "      <td>i3.mangareader.net</td>\n",
       "      <td>2014-05-28 19:10:14</td>\n",
       "      <td>www.mangareader.net</td>\n",
       "      <td>2014-05-28 19:10:15</td>\n",
       "      <td>www.facebook.com</td>\n",
       "      <td>2014-05-28 19:10:15</td>\n",
       "      <td>www.mangareader.net</td>\n",
       "      <td>NaT</td>\n",
       "      <td>NaN</td>\n",
       "      <td>...</td>\n",
       "      <td>14</td>\n",
       "      <td>10</td>\n",
       "      <td>19</td>\n",
       "      <td>28</td>\n",
       "      <td>2</td>\n",
       "      <td>5</td>\n",
       "      <td>0</td>\n",
       "      <td>1</td>\n",
       "      <td>1</td>\n",
       "      <td>0</td>\n",
       "    </tr>\n",
       "  </tbody>\n",
       "</table>\n",
       "<p>83266 rows × 52 columns</p>\n",
       "</div>"
      ],
      "text/plain": [
       "                    time1                  site1               time2  \\\n",
       "0     2013-11-15 08:01:09          www.google.fr 2013-11-15 08:01:10   \n",
       "1     2013-11-15 08:04:12        armmf.adobe.com 2013-11-15 08:05:31   \n",
       "2     2013-11-15 08:06:29          www.google.fr 2013-11-15 08:06:30   \n",
       "3     2013-11-15 08:07:35         www.google.com 2013-11-15 08:07:35   \n",
       "4     2013-11-15 08:07:54  www.apogeedigital.com 2013-11-15 08:07:55   \n",
       "...                   ...                    ...                 ...   \n",
       "83261 2014-05-28 19:02:25    www.mangareader.net 2014-05-28 19:02:25   \n",
       "83262 2014-05-28 19:03:03     i5.mangareader.net 2014-05-28 19:03:04   \n",
       "83263 2014-05-28 19:05:35    www.mangareader.net 2014-05-28 19:05:36   \n",
       "83264 2014-05-28 19:07:38    www.mangareader.net 2014-05-28 19:07:39   \n",
       "83265 2014-05-28 19:10:01     i3.mangareader.net 2014-05-28 19:10:14   \n",
       "\n",
       "                       site2               time3                  site3  \\\n",
       "0              www.google.fr 2013-11-15 08:01:11        apis.google.com   \n",
       "1              www.google.fr 2013-11-15 08:05:32        apis.google.com   \n",
       "2              www.google.fr 2013-11-15 08:06:30    ajax.googleapis.com   \n",
       "3              www.google.fr 2013-11-15 08:07:47          www.google.fr   \n",
       "4      www.apogeedigital.com 2013-11-15 08:08:00  www.apogeedigital.com   \n",
       "...                      ...                 ...                    ...   \n",
       "83261       www.facebook.com 2014-05-28 19:02:51    www.mangareader.net   \n",
       "83262       www.facebook.com 2014-05-28 19:03:04    www.mangareader.net   \n",
       "83263       www.facebook.com 2014-05-28 19:05:36    www.mangareader.net   \n",
       "83264    www.mangareader.net 2014-05-28 19:07:40       www.facebook.com   \n",
       "83265    www.mangareader.net 2014-05-28 19:10:15       www.facebook.com   \n",
       "\n",
       "                    time4                  site4               time5  \\\n",
       "0     2013-11-15 08:01:12         www.google.com 2013-11-15 08:01:16   \n",
       "1     2013-11-15 08:05:32         www.google.com 2013-11-15 08:05:35   \n",
       "2     2013-11-15 08:06:30   www.sol-solution.com 2013-11-15 08:06:31   \n",
       "3     2013-11-15 08:07:47        apis.google.com 2013-11-15 08:07:47   \n",
       "4     2013-11-15 08:08:01  www.apogeedigital.com 2013-11-15 08:08:02   \n",
       "...                   ...                    ...                 ...   \n",
       "83261 2014-05-28 19:02:52       www.facebook.com 2014-05-28 19:02:53   \n",
       "83262 2014-05-28 19:03:50    www.mangareader.net 2014-05-28 19:03:51   \n",
       "83263 2014-05-28 19:06:01    www.mangareader.net 2014-05-28 19:06:02   \n",
       "83264 2014-05-28 19:07:46    www.mangareader.net 2014-05-28 19:07:47   \n",
       "83265 2014-05-28 19:10:15    www.mangareader.net                 NaT   \n",
       "\n",
       "                       site5  ... session_duration minute hour day weekday  \\\n",
       "0              www.google.fr  ...               57      1    8  15       4   \n",
       "1              www.google.fr  ...               97      4    8  15       4   \n",
       "2       www.sol-solution.com  ...               47      6    8  15       4   \n",
       "3               id.google.fr  ...               32      7    8  15       4   \n",
       "4      www.apogeedigital.com  ...               12      7    8  15       4   \n",
       "...                      ...  ...              ...    ...  ...  ..     ...   \n",
       "83261     i6.mangareader.net  ...               32      2   19  28       2   \n",
       "83262    www.mangareader.net  ...               65      3   19  28       2   \n",
       "83263    www.mangareader.net  ...               85      5   19  28       2   \n",
       "83264    www.mangareader.net  ...               28      7   19  28       2   \n",
       "83265                    NaN  ...               14     10   19  28       2   \n",
       "\n",
       "      month favourite_hour favourite_weekday favourite_day favourite_month  \n",
       "0        11              0                 1             0               1  \n",
       "1        11              0                 1             0               1  \n",
       "2        11              0                 1             0               1  \n",
       "3        11              0                 1             0               1  \n",
       "4        11              0                 1             0               1  \n",
       "...     ...            ...               ...           ...             ...  \n",
       "83261     5              0                 1             1               0  \n",
       "83262     5              0                 1             1               0  \n",
       "83263     5              0                 1             1               0  \n",
       "83264     5              0                 1             1               0  \n",
       "83265     5              0                 1             1               0  \n",
       "\n",
       "[83266 rows x 52 columns]"
      ]
     },
     "execution_count": 8,
     "metadata": {},
     "output_type": "execute_result"
    }
   ],
   "source": [
    "data['favourite_month'] = data['month'].apply(lambda x: (x == 3) | (x == 11) | (x == 12)).astype('int')\n",
    "data"
   ]
  },
  {
   "cell_type": "code",
   "execution_count": 20,
   "id": "8053d998",
   "metadata": {
    "scrolled": false
   },
   "outputs": [
    {
     "data": {
      "text/html": [
       "<div>\n",
       "<style scoped>\n",
       "    .dataframe tbody tr th:only-of-type {\n",
       "        vertical-align: middle;\n",
       "    }\n",
       "\n",
       "    .dataframe tbody tr th {\n",
       "        vertical-align: top;\n",
       "    }\n",
       "\n",
       "    .dataframe thead th {\n",
       "        text-align: right;\n",
       "    }\n",
       "</style>\n",
       "<table border=\"1\" class=\"dataframe\">\n",
       "  <thead>\n",
       "    <tr style=\"text-align: right;\">\n",
       "      <th></th>\n",
       "      <th>number_of_sites</th>\n",
       "      <th>session_duration</th>\n",
       "      <th>minute</th>\n",
       "      <th>hour</th>\n",
       "      <th>favourite_hour</th>\n",
       "      <th>weekday</th>\n",
       "      <th>favourite_weekday</th>\n",
       "      <th>day</th>\n",
       "      <th>favourite_day</th>\n",
       "      <th>month</th>\n",
       "      <th>favourite_month</th>\n",
       "    </tr>\n",
       "  </thead>\n",
       "  <tbody>\n",
       "    <tr>\n",
       "      <th>0</th>\n",
       "      <td>18</td>\n",
       "      <td>57</td>\n",
       "      <td>1</td>\n",
       "      <td>8</td>\n",
       "      <td>0</td>\n",
       "      <td>4</td>\n",
       "      <td>1</td>\n",
       "      <td>15</td>\n",
       "      <td>0</td>\n",
       "      <td>11</td>\n",
       "      <td>1</td>\n",
       "    </tr>\n",
       "    <tr>\n",
       "      <th>1</th>\n",
       "      <td>20</td>\n",
       "      <td>97</td>\n",
       "      <td>4</td>\n",
       "      <td>8</td>\n",
       "      <td>0</td>\n",
       "      <td>4</td>\n",
       "      <td>1</td>\n",
       "      <td>15</td>\n",
       "      <td>0</td>\n",
       "      <td>11</td>\n",
       "      <td>1</td>\n",
       "    </tr>\n",
       "    <tr>\n",
       "      <th>2</th>\n",
       "      <td>20</td>\n",
       "      <td>47</td>\n",
       "      <td>6</td>\n",
       "      <td>8</td>\n",
       "      <td>0</td>\n",
       "      <td>4</td>\n",
       "      <td>1</td>\n",
       "      <td>15</td>\n",
       "      <td>0</td>\n",
       "      <td>11</td>\n",
       "      <td>1</td>\n",
       "    </tr>\n",
       "    <tr>\n",
       "      <th>3</th>\n",
       "      <td>20</td>\n",
       "      <td>32</td>\n",
       "      <td>7</td>\n",
       "      <td>8</td>\n",
       "      <td>0</td>\n",
       "      <td>4</td>\n",
       "      <td>1</td>\n",
       "      <td>15</td>\n",
       "      <td>0</td>\n",
       "      <td>11</td>\n",
       "      <td>1</td>\n",
       "    </tr>\n",
       "    <tr>\n",
       "      <th>4</th>\n",
       "      <td>20</td>\n",
       "      <td>12</td>\n",
       "      <td>7</td>\n",
       "      <td>8</td>\n",
       "      <td>0</td>\n",
       "      <td>4</td>\n",
       "      <td>1</td>\n",
       "      <td>15</td>\n",
       "      <td>0</td>\n",
       "      <td>11</td>\n",
       "      <td>1</td>\n",
       "    </tr>\n",
       "    <tr>\n",
       "      <th>...</th>\n",
       "      <td>...</td>\n",
       "      <td>...</td>\n",
       "      <td>...</td>\n",
       "      <td>...</td>\n",
       "      <td>...</td>\n",
       "      <td>...</td>\n",
       "      <td>...</td>\n",
       "      <td>...</td>\n",
       "      <td>...</td>\n",
       "      <td>...</td>\n",
       "      <td>...</td>\n",
       "    </tr>\n",
       "    <tr>\n",
       "      <th>83261</th>\n",
       "      <td>20</td>\n",
       "      <td>32</td>\n",
       "      <td>2</td>\n",
       "      <td>19</td>\n",
       "      <td>0</td>\n",
       "      <td>2</td>\n",
       "      <td>1</td>\n",
       "      <td>28</td>\n",
       "      <td>1</td>\n",
       "      <td>5</td>\n",
       "      <td>0</td>\n",
       "    </tr>\n",
       "    <tr>\n",
       "      <th>83262</th>\n",
       "      <td>20</td>\n",
       "      <td>65</td>\n",
       "      <td>3</td>\n",
       "      <td>19</td>\n",
       "      <td>0</td>\n",
       "      <td>2</td>\n",
       "      <td>1</td>\n",
       "      <td>28</td>\n",
       "      <td>1</td>\n",
       "      <td>5</td>\n",
       "      <td>0</td>\n",
       "    </tr>\n",
       "    <tr>\n",
       "      <th>83263</th>\n",
       "      <td>20</td>\n",
       "      <td>85</td>\n",
       "      <td>5</td>\n",
       "      <td>19</td>\n",
       "      <td>0</td>\n",
       "      <td>2</td>\n",
       "      <td>1</td>\n",
       "      <td>28</td>\n",
       "      <td>1</td>\n",
       "      <td>5</td>\n",
       "      <td>0</td>\n",
       "    </tr>\n",
       "    <tr>\n",
       "      <th>83264</th>\n",
       "      <td>20</td>\n",
       "      <td>28</td>\n",
       "      <td>7</td>\n",
       "      <td>19</td>\n",
       "      <td>0</td>\n",
       "      <td>2</td>\n",
       "      <td>1</td>\n",
       "      <td>28</td>\n",
       "      <td>1</td>\n",
       "      <td>5</td>\n",
       "      <td>0</td>\n",
       "    </tr>\n",
       "    <tr>\n",
       "      <th>83265</th>\n",
       "      <td>4</td>\n",
       "      <td>14</td>\n",
       "      <td>10</td>\n",
       "      <td>19</td>\n",
       "      <td>0</td>\n",
       "      <td>2</td>\n",
       "      <td>1</td>\n",
       "      <td>28</td>\n",
       "      <td>1</td>\n",
       "      <td>5</td>\n",
       "      <td>0</td>\n",
       "    </tr>\n",
       "  </tbody>\n",
       "</table>\n",
       "<p>83266 rows × 11 columns</p>\n",
       "</div>"
      ],
      "text/plain": [
       "       number_of_sites  session_duration  minute hour  favourite_hour weekday  \\\n",
       "0                   18                57       1    8               0       4   \n",
       "1                   20                97       4    8               0       4   \n",
       "2                   20                47       6    8               0       4   \n",
       "3                   20                32       7    8               0       4   \n",
       "4                   20                12       7    8               0       4   \n",
       "...                ...               ...     ...  ...             ...     ...   \n",
       "83261               20                32       2   19               0       2   \n",
       "83262               20                65       3   19               0       2   \n",
       "83263               20                85       5   19               0       2   \n",
       "83264               20                28       7   19               0       2   \n",
       "83265                4                14      10   19               0       2   \n",
       "\n",
       "       favourite_weekday day  favourite_day  month  favourite_month  \n",
       "0                      1  15              0     11                1  \n",
       "1                      1  15              0     11                1  \n",
       "2                      1  15              0     11                1  \n",
       "3                      1  15              0     11                1  \n",
       "4                      1  15              0     11                1  \n",
       "...                  ...  ..            ...    ...              ...  \n",
       "83261                  1  28              1      5                0  \n",
       "83262                  1  28              1      5                0  \n",
       "83263                  1  28              1      5                0  \n",
       "83264                  1  28              1      5                0  \n",
       "83265                  1  28              1      5                0  \n",
       "\n",
       "[83266 rows x 11 columns]"
      ]
     },
     "execution_count": 20,
     "metadata": {},
     "output_type": "execute_result"
    }
   ],
   "source": [
    "new_features_data = data[['number_of_sites', 'session_duration', 'minute', 'hour', 'favourite_hour', 'weekday', 'favourite_weekday', 'day', 'favourite_day', 'month', 'favourite_month']]\n",
    "new_features_data"
   ]
  },
  {
   "cell_type": "markdown",
   "id": "3416e5a2",
   "metadata": {},
   "source": [
    "Произведем отбор признаков по критериям Фишера и хи-квадрат"
   ]
  },
  {
   "cell_type": "code",
   "execution_count": 21,
   "id": "bb23675d",
   "metadata": {},
   "outputs": [
    {
     "name": "stdout",
     "output_type": "stream",
     "text": [
      "f: [1.23708819e-169 6.79263559e-144 3.69274380e-088 3.61335417e-071\n",
      " 2.87816401e-014 1.09693024e-006 4.12184087e-006 3.57216610e-005\n",
      " 1.03618013e-003 4.47066836e-001 4.52777207e-001]\n",
      "f: [False False False False  True False False False  True  True  True]\n",
      "chi2: [0.00000000e+000 0.00000000e+000 2.23340627e-117 5.55378112e-048\n",
      " 9.52786424e-038 3.29561604e-034 1.83824637e-024 6.59042546e-006\n",
      " 1.65614749e-002 2.66113255e-001 4.69518692e-001]\n",
      "chi2: [False  True False False False False False False  True  True  True]\n"
     ]
    }
   ],
   "source": [
    "target = data['target'].values\n",
    "best_f_features = SelectKBest(f_classif, k = 4)\n",
    "best_chi2_features = SelectKBest(chi2, k = 4)\n",
    "best_f_features.fit(new_features_data, target)\n",
    "best_chi2_features.fit(new_features_data, target)\n",
    "print('f:', np.sort(best_f_features.pvalues_))\n",
    "print('f:', best_f_features.get_support())\n",
    "print('chi2:', np.sort(best_chi2_features.pvalues_))\n",
    "print('chi2:', best_chi2_features.get_support())"
   ]
  },
  {
   "cell_type": "code",
   "execution_count": 22,
   "id": "7b2f37b3",
   "metadata": {},
   "outputs": [
    {
     "data": {
      "text/html": [
       "<div>\n",
       "<style scoped>\n",
       "    .dataframe tbody tr th:only-of-type {\n",
       "        vertical-align: middle;\n",
       "    }\n",
       "\n",
       "    .dataframe tbody tr th {\n",
       "        vertical-align: top;\n",
       "    }\n",
       "\n",
       "    .dataframe thead th {\n",
       "        text-align: right;\n",
       "    }\n",
       "</style>\n",
       "<table border=\"1\" class=\"dataframe\">\n",
       "  <thead>\n",
       "    <tr style=\"text-align: right;\">\n",
       "      <th></th>\n",
       "      <th>number_of_sites</th>\n",
       "      <th>session_duration</th>\n",
       "      <th>minute</th>\n",
       "      <th>hour</th>\n",
       "      <th>favourite_hour</th>\n",
       "      <th>weekday</th>\n",
       "      <th>favourite_weekday</th>\n",
       "      <th>day</th>\n",
       "      <th>favourite_day</th>\n",
       "      <th>month</th>\n",
       "      <th>favourite_month</th>\n",
       "    </tr>\n",
       "  </thead>\n",
       "  <tbody>\n",
       "    <tr>\n",
       "      <th>0</th>\n",
       "      <td>0.238657</td>\n",
       "      <td>-0.138558</td>\n",
       "      <td>-1.642500</td>\n",
       "      <td>-1.448831</td>\n",
       "      <td>-0.962118</td>\n",
       "      <td>1.280211</td>\n",
       "      <td>0.248859</td>\n",
       "      <td>-0.143741</td>\n",
       "      <td>-0.668052</td>\n",
       "      <td>1.351748</td>\n",
       "      <td>1.074437</td>\n",
       "    </tr>\n",
       "    <tr>\n",
       "      <th>1</th>\n",
       "      <td>0.546087</td>\n",
       "      <td>0.155705</td>\n",
       "      <td>-1.469287</td>\n",
       "      <td>-1.448831</td>\n",
       "      <td>-0.962118</td>\n",
       "      <td>1.280211</td>\n",
       "      <td>0.248859</td>\n",
       "      <td>-0.143741</td>\n",
       "      <td>-0.668052</td>\n",
       "      <td>1.351748</td>\n",
       "      <td>1.074437</td>\n",
       "    </tr>\n",
       "    <tr>\n",
       "      <th>2</th>\n",
       "      <td>0.546087</td>\n",
       "      <td>-0.212124</td>\n",
       "      <td>-1.353812</td>\n",
       "      <td>-1.448831</td>\n",
       "      <td>-0.962118</td>\n",
       "      <td>1.280211</td>\n",
       "      <td>0.248859</td>\n",
       "      <td>-0.143741</td>\n",
       "      <td>-0.668052</td>\n",
       "      <td>1.351748</td>\n",
       "      <td>1.074437</td>\n",
       "    </tr>\n",
       "    <tr>\n",
       "      <th>3</th>\n",
       "      <td>0.546087</td>\n",
       "      <td>-0.322473</td>\n",
       "      <td>-1.296074</td>\n",
       "      <td>-1.448831</td>\n",
       "      <td>-0.962118</td>\n",
       "      <td>1.280211</td>\n",
       "      <td>0.248859</td>\n",
       "      <td>-0.143741</td>\n",
       "      <td>-0.668052</td>\n",
       "      <td>1.351748</td>\n",
       "      <td>1.074437</td>\n",
       "    </tr>\n",
       "    <tr>\n",
       "      <th>4</th>\n",
       "      <td>0.546087</td>\n",
       "      <td>-0.469604</td>\n",
       "      <td>-1.296074</td>\n",
       "      <td>-1.448831</td>\n",
       "      <td>-0.962118</td>\n",
       "      <td>1.280211</td>\n",
       "      <td>0.248859</td>\n",
       "      <td>-0.143741</td>\n",
       "      <td>-0.668052</td>\n",
       "      <td>1.351748</td>\n",
       "      <td>1.074437</td>\n",
       "    </tr>\n",
       "    <tr>\n",
       "      <th>...</th>\n",
       "      <td>...</td>\n",
       "      <td>...</td>\n",
       "      <td>...</td>\n",
       "      <td>...</td>\n",
       "      <td>...</td>\n",
       "      <td>...</td>\n",
       "      <td>...</td>\n",
       "      <td>...</td>\n",
       "      <td>...</td>\n",
       "      <td>...</td>\n",
       "      <td>...</td>\n",
       "    </tr>\n",
       "    <tr>\n",
       "      <th>83261</th>\n",
       "      <td>0.546087</td>\n",
       "      <td>-0.322473</td>\n",
       "      <td>-1.584762</td>\n",
       "      <td>1.763061</td>\n",
       "      <td>-0.962118</td>\n",
       "      <td>-0.011284</td>\n",
       "      <td>0.248859</td>\n",
       "      <td>1.397661</td>\n",
       "      <td>1.496890</td>\n",
       "      <td>-0.080312</td>\n",
       "      <td>-0.930720</td>\n",
       "    </tr>\n",
       "    <tr>\n",
       "      <th>83262</th>\n",
       "      <td>0.546087</td>\n",
       "      <td>-0.079705</td>\n",
       "      <td>-1.527025</td>\n",
       "      <td>1.763061</td>\n",
       "      <td>-0.962118</td>\n",
       "      <td>-0.011284</td>\n",
       "      <td>0.248859</td>\n",
       "      <td>1.397661</td>\n",
       "      <td>1.496890</td>\n",
       "      <td>-0.080312</td>\n",
       "      <td>-0.930720</td>\n",
       "    </tr>\n",
       "    <tr>\n",
       "      <th>83263</th>\n",
       "      <td>0.546087</td>\n",
       "      <td>0.067426</td>\n",
       "      <td>-1.411549</td>\n",
       "      <td>1.763061</td>\n",
       "      <td>-0.962118</td>\n",
       "      <td>-0.011284</td>\n",
       "      <td>0.248859</td>\n",
       "      <td>1.397661</td>\n",
       "      <td>1.496890</td>\n",
       "      <td>-0.080312</td>\n",
       "      <td>-0.930720</td>\n",
       "    </tr>\n",
       "    <tr>\n",
       "      <th>83264</th>\n",
       "      <td>0.546087</td>\n",
       "      <td>-0.351899</td>\n",
       "      <td>-1.296074</td>\n",
       "      <td>1.763061</td>\n",
       "      <td>-0.962118</td>\n",
       "      <td>-0.011284</td>\n",
       "      <td>0.248859</td>\n",
       "      <td>1.397661</td>\n",
       "      <td>1.496890</td>\n",
       "      <td>-0.080312</td>\n",
       "      <td>-0.930720</td>\n",
       "    </tr>\n",
       "    <tr>\n",
       "      <th>83265</th>\n",
       "      <td>-1.913354</td>\n",
       "      <td>-0.454891</td>\n",
       "      <td>-1.122861</td>\n",
       "      <td>1.763061</td>\n",
       "      <td>-0.962118</td>\n",
       "      <td>-0.011284</td>\n",
       "      <td>0.248859</td>\n",
       "      <td>1.397661</td>\n",
       "      <td>1.496890</td>\n",
       "      <td>-0.080312</td>\n",
       "      <td>-0.930720</td>\n",
       "    </tr>\n",
       "  </tbody>\n",
       "</table>\n",
       "<p>83266 rows × 11 columns</p>\n",
       "</div>"
      ],
      "text/plain": [
       "       number_of_sites  session_duration    minute      hour  favourite_hour  \\\n",
       "0             0.238657         -0.138558 -1.642500 -1.448831       -0.962118   \n",
       "1             0.546087          0.155705 -1.469287 -1.448831       -0.962118   \n",
       "2             0.546087         -0.212124 -1.353812 -1.448831       -0.962118   \n",
       "3             0.546087         -0.322473 -1.296074 -1.448831       -0.962118   \n",
       "4             0.546087         -0.469604 -1.296074 -1.448831       -0.962118   \n",
       "...                ...               ...       ...       ...             ...   \n",
       "83261         0.546087         -0.322473 -1.584762  1.763061       -0.962118   \n",
       "83262         0.546087         -0.079705 -1.527025  1.763061       -0.962118   \n",
       "83263         0.546087          0.067426 -1.411549  1.763061       -0.962118   \n",
       "83264         0.546087         -0.351899 -1.296074  1.763061       -0.962118   \n",
       "83265        -1.913354         -0.454891 -1.122861  1.763061       -0.962118   \n",
       "\n",
       "        weekday  favourite_weekday       day  favourite_day     month  \\\n",
       "0      1.280211           0.248859 -0.143741      -0.668052  1.351748   \n",
       "1      1.280211           0.248859 -0.143741      -0.668052  1.351748   \n",
       "2      1.280211           0.248859 -0.143741      -0.668052  1.351748   \n",
       "3      1.280211           0.248859 -0.143741      -0.668052  1.351748   \n",
       "4      1.280211           0.248859 -0.143741      -0.668052  1.351748   \n",
       "...         ...                ...       ...            ...       ...   \n",
       "83261 -0.011284           0.248859  1.397661       1.496890 -0.080312   \n",
       "83262 -0.011284           0.248859  1.397661       1.496890 -0.080312   \n",
       "83263 -0.011284           0.248859  1.397661       1.496890 -0.080312   \n",
       "83264 -0.011284           0.248859  1.397661       1.496890 -0.080312   \n",
       "83265 -0.011284           0.248859  1.397661       1.496890 -0.080312   \n",
       "\n",
       "       favourite_month  \n",
       "0             1.074437  \n",
       "1             1.074437  \n",
       "2             1.074437  \n",
       "3             1.074437  \n",
       "4             1.074437  \n",
       "...                ...  \n",
       "83261        -0.930720  \n",
       "83262        -0.930720  \n",
       "83263        -0.930720  \n",
       "83264        -0.930720  \n",
       "83265        -0.930720  \n",
       "\n",
       "[83266 rows x 11 columns]"
      ]
     },
     "execution_count": 22,
     "metadata": {},
     "output_type": "execute_result"
    }
   ],
   "source": [
    "best_f_features = ['favourite_hour', 'favourite_day', 'month', 'favourite_month']\n",
    "best_chi2_features = ['session_duration', 'favourite_day', 'month', 'favourite_month']\n",
    "new_features_data_scaled = StandardScaler().fit_transform(new_features_data)\n",
    "new_features_data_scaled = pd.DataFrame(new_features_data_scaled, index = new_features_data.index, columns = new_features_data.columns)\n",
    "new_features_data_scaled"
   ]
  },
  {
   "cell_type": "code",
   "execution_count": 23,
   "id": "40585cbd",
   "metadata": {},
   "outputs": [],
   "source": [
    "f_features_data_scaled = new_features_data_scaled[best_f_features]\n",
    "chi2_features_data_scaled = new_features_data_scaled[best_chi2_features]"
   ]
  },
  {
   "cell_type": "markdown",
   "id": "d7cae259",
   "metadata": {},
   "source": [
    "Векторизуем данные с помощью tf-idf"
   ]
  },
  {
   "cell_type": "code",
   "execution_count": 19,
   "id": "6283defb",
   "metadata": {},
   "outputs": [],
   "source": [
    "sites = ['site' + str(i) for i in range(1, 21)]\n",
    "data[sites].to_csv('sessions_domains.txt', \n",
    "                                 sep=' ', index=None, header=None)"
   ]
  },
  {
   "cell_type": "code",
   "execution_count": 20,
   "id": "264e2cf5",
   "metadata": {},
   "outputs": [
    {
     "data": {
      "text/plain": [
       "<83266x22725 sparse matrix of type '<class 'numpy.float64'>'\n",
       "\twith 1239071 stored elements in Compressed Sparse Row format>"
      ]
     },
     "execution_count": 20,
     "metadata": {},
     "output_type": "execute_result"
    }
   ],
   "source": [
    "vectorizer = TfidfVectorizer()\n",
    "with open('sessions_domains.txt') as inp_file:\n",
    "    data_tfidf = vectorizer.fit_transform(inp_file)\n",
    "data_tfidf"
   ]
  },
  {
   "cell_type": "markdown",
   "id": "2d13e7e1",
   "metadata": {},
   "source": [
    "Делим выборку на тестовую и обучающую"
   ]
  },
  {
   "cell_type": "code",
   "execution_count": 24,
   "id": "7583e951",
   "metadata": {},
   "outputs": [],
   "source": [
    "X_train , X_valid , y_train , y_valid = train_test_split(data_tfidf, target ,test_size=0.3, random_state=42)"
   ]
  },
  {
   "cell_type": "markdown",
   "id": "77de2bbc",
   "metadata": {},
   "source": [
    "Приступим к обучению моделей на первом наборе данных"
   ]
  },
  {
   "cell_type": "markdown",
   "id": "e3388317",
   "metadata": {},
   "source": [
    "Логистическая регрессия:"
   ]
  },
  {
   "cell_type": "code",
   "execution_count": 25,
   "id": "44788aa3",
   "metadata": {},
   "outputs": [],
   "source": [
    "parameters = [\n",
    "    {'penalty' : ['none', 'l1', 'l2', 'elasticnet'],\n",
    "    'C' : [0.001,0.01,0.1,1,10,100,1000],\n",
    "    'solver' : ['liblinear', 'lbfgs']}]\n",
    "logit = LogisticRegression()\n",
    "grid_logit = GridSearchCV(logit, parameters, n_jobs=-1)"
   ]
  },
  {
   "cell_type": "code",
   "execution_count": 26,
   "id": "9b1ee13e",
   "metadata": {},
   "outputs": [
    {
     "name": "stdout",
     "output_type": "stream",
     "text": [
      "Wall time: 3min 24s\n"
     ]
    },
    {
     "data": {
      "text/plain": [
       "GridSearchCV(estimator=LogisticRegression(), n_jobs=-1,\n",
       "             param_grid=[{'C': [0.001, 0.01, 0.1, 1, 10, 100, 1000],\n",
       "                          'penalty': ['none', 'l1', 'l2', 'elasticnet'],\n",
       "                          'solver': ['liblinear', 'lbfgs']}])"
      ]
     },
     "execution_count": 26,
     "metadata": {},
     "output_type": "execute_result"
    }
   ],
   "source": [
    "%%time\n",
    "grid_logit.fit(X_train, y_train)"
   ]
  },
  {
   "cell_type": "code",
   "execution_count": 45,
   "id": "e534f933",
   "metadata": {},
   "outputs": [
    {
     "name": "stdout",
     "output_type": "stream",
     "text": [
      "0.9642000051852194\n",
      "0.9965172137710168\n",
      "0.2803738317757009\n",
      "0.75\n",
      "0.40816326530612235\n",
      "0.4572903392907317\n"
     ]
    },
    {
     "data": {
      "text/plain": [
       "{'C': 10, 'penalty': 'l1', 'solver': 'liblinear'}"
      ]
     },
     "execution_count": 45,
     "metadata": {},
     "output_type": "execute_result"
    }
   ],
   "source": [
    "pred_logit_proba = grid_logit.predict_proba(X_valid)[:, 1]\n",
    "pred_logit = grid_logit.predict(X_valid)\n",
    "\n",
    "print(roc_auc_score (y_valid, pred_logit_proba))\n",
    "print(accuracy_score(y_valid, pred_logit))\n",
    "print(recall_score(y_valid, pred_logit))\n",
    "print(precision_score(y_valid, pred_logit))\n",
    "print(f1_score(y_valid, pred_logit))\n",
    "print(matthews_corrcoef(y_valid, pred_logit))\n",
    "\n",
    "grid_logit.best_params_"
   ]
  },
  {
   "cell_type": "markdown",
   "id": "849615c5",
   "metadata": {},
   "source": [
    "Случайный лес:"
   ]
  },
  {
   "cell_type": "code",
   "execution_count": 30,
   "id": "b5543d90",
   "metadata": {},
   "outputs": [],
   "source": [
    "parameters = [\n",
    "    {'criterion' : ['gini', 'entropy'],\n",
    "    'max_features' : ['auto', 'sqrt', 'log2']}]\n",
    "rf = RandomForestClassifier()\n",
    "grid_rf = GridSearchCV(rf, parameters, n_jobs=-1)"
   ]
  },
  {
   "cell_type": "code",
   "execution_count": 31,
   "id": "755b2763",
   "metadata": {},
   "outputs": [
    {
     "name": "stdout",
     "output_type": "stream",
     "text": [
      "Wall time: 10min 12s\n"
     ]
    },
    {
     "data": {
      "text/plain": [
       "GridSearchCV(estimator=RandomForestClassifier(), n_jobs=-1,\n",
       "             param_grid=[{'criterion': ['gini', 'entropy'],\n",
       "                          'max_features': ['auto', 'sqrt', 'log2']}])"
      ]
     },
     "execution_count": 31,
     "metadata": {},
     "output_type": "execute_result"
    }
   ],
   "source": [
    "%%time\n",
    "grid_rf.fit(X_train, y_train)"
   ]
  },
  {
   "cell_type": "code",
   "execution_count": 46,
   "id": "30653c6f",
   "metadata": {},
   "outputs": [
    {
     "name": "stdout",
     "output_type": "stream",
     "text": [
      "0.9108754716952774\n",
      "0.9960768614891914\n",
      "0.09345794392523364\n",
      "0.9090909090909091\n",
      "0.16949152542372883\n",
      "0.2907959887248898\n"
     ]
    },
    {
     "data": {
      "text/plain": [
       "{'criterion': 'gini', 'max_features': 'sqrt'}"
      ]
     },
     "execution_count": 46,
     "metadata": {},
     "output_type": "execute_result"
    }
   ],
   "source": [
    "pred_rf_proba = grid_rf.predict_proba(X_valid)[:, 1]\n",
    "pred_rf = grid_rf.predict(X_valid)\n",
    "\n",
    "print(roc_auc_score (y_valid, pred_rf_proba))\n",
    "print(accuracy_score(y_valid, pred_rf))\n",
    "print(recall_score(y_valid, pred_rf))\n",
    "print(precision_score(y_valid, pred_rf))\n",
    "print(f1_score(y_valid, pred_rf))\n",
    "print(matthews_corrcoef(y_valid, pred_rf))\n",
    "\n",
    "grid_rf.best_params_"
   ]
  },
  {
   "cell_type": "markdown",
   "id": "298220b1",
   "metadata": {},
   "source": [
    "Дерево решений:"
   ]
  },
  {
   "cell_type": "code",
   "execution_count": 33,
   "id": "236f676e",
   "metadata": {},
   "outputs": [],
   "source": [
    "parameters = [\n",
    "    {'criterion' : ['gini', 'entropy'],\n",
    "    'max_features' : ['auto', 'sqrt', 'log2']}]\n",
    "dt = DecisionTreeClassifier()\n",
    "grid_dt = GridSearchCV(dt, parameters, n_jobs=-1)"
   ]
  },
  {
   "cell_type": "code",
   "execution_count": 34,
   "id": "3e90f3b5",
   "metadata": {},
   "outputs": [
    {
     "name": "stdout",
     "output_type": "stream",
     "text": [
      "Wall time: 8.81 s\n"
     ]
    },
    {
     "data": {
      "text/plain": [
       "GridSearchCV(estimator=DecisionTreeClassifier(), n_jobs=-1,\n",
       "             param_grid=[{'criterion': ['gini', 'entropy'],\n",
       "                          'max_features': ['auto', 'sqrt', 'log2']}])"
      ]
     },
     "execution_count": 34,
     "metadata": {},
     "output_type": "execute_result"
    }
   ],
   "source": [
    "%%time\n",
    "grid_dt.fit(X_train, y_train)"
   ]
  },
  {
   "cell_type": "code",
   "execution_count": 47,
   "id": "ac5d7b1f",
   "metadata": {},
   "outputs": [
    {
     "name": "stdout",
     "output_type": "stream",
     "text": [
      "0.6294753046410344\n",
      "0.99435548438751\n",
      "0.19626168224299065\n",
      "0.27631578947368424\n",
      "0.2295081967213115\n",
      "0.23010670635057562\n"
     ]
    },
    {
     "data": {
      "text/plain": [
       "{'criterion': 'entropy', 'max_features': 'sqrt'}"
      ]
     },
     "execution_count": 47,
     "metadata": {},
     "output_type": "execute_result"
    }
   ],
   "source": [
    "pred_dt_proba = grid_dt.predict_proba(X_valid)[:, 1]\n",
    "pred_dt = grid_dt.predict(X_valid)\n",
    "\n",
    "print(roc_auc_score (y_valid, pred_dt_proba))\n",
    "print(accuracy_score(y_valid, pred_dt))\n",
    "print(recall_score(y_valid, pred_dt))\n",
    "print(precision_score(y_valid, pred_dt))\n",
    "print(f1_score(y_valid, pred_dt))\n",
    "print(matthews_corrcoef(y_valid, pred_dt))\n",
    "\n",
    "grid_dt.best_params_"
   ]
  },
  {
   "cell_type": "markdown",
   "id": "0b347b62",
   "metadata": {},
   "source": [
    "Градиентный бустинг:"
   ]
  },
  {
   "cell_type": "code",
   "execution_count": 36,
   "id": "97f54f7e",
   "metadata": {},
   "outputs": [],
   "source": [
    "parameters = [\n",
    "    {'loss' : ['deviance', 'exponential'],\n",
    "    'max_features' : ['auto', 'sqrt', 'log2']}]\n",
    "gb = GradientBoostingClassifier()\n",
    "grid_gb = GridSearchCV(gb, parameters, n_jobs=-1)"
   ]
  },
  {
   "cell_type": "code",
   "execution_count": 37,
   "id": "5c198c32",
   "metadata": {},
   "outputs": [
    {
     "name": "stdout",
     "output_type": "stream",
     "text": [
      "Wall time: 7min 24s\n"
     ]
    },
    {
     "data": {
      "text/plain": [
       "GridSearchCV(estimator=GradientBoostingClassifier(), n_jobs=-1,\n",
       "             param_grid=[{'loss': ['deviance', 'exponential'],\n",
       "                          'max_features': ['auto', 'sqrt', 'log2']}])"
      ]
     },
     "execution_count": 37,
     "metadata": {},
     "output_type": "execute_result"
    }
   ],
   "source": [
    "%%time\n",
    "grid_gb.fit(X_train, y_train)"
   ]
  },
  {
   "cell_type": "code",
   "execution_count": 48,
   "id": "575d9228",
   "metadata": {},
   "outputs": [
    {
     "name": "stdout",
     "output_type": "stream",
     "text": [
      "0.7647965684368179\n",
      "0.9957165732586069\n",
      "0.0\n",
      "0.0\n",
      "0.0\n",
      "0.0\n"
     ]
    },
    {
     "data": {
      "text/plain": [
       "{'loss': 'exponential', 'max_features': 'auto'}"
      ]
     },
     "execution_count": 48,
     "metadata": {},
     "output_type": "execute_result"
    }
   ],
   "source": [
    "pred_gb_proba = grid_gb.predict_proba(X_valid)[:, 1]\n",
    "pred_gb = grid_gb.predict(X_valid)\n",
    "\n",
    "print(roc_auc_score (y_valid, pred_gb_proba))\n",
    "print(accuracy_score(y_valid, pred_gb))\n",
    "print(recall_score(y_valid, pred_gb))\n",
    "print(precision_score(y_valid, pred_gb))\n",
    "print(f1_score(y_valid, pred_gb))\n",
    "print(matthews_corrcoef(y_valid, pred_gb))\n",
    "\n",
    "grid_gb.best_params_"
   ]
  },
  {
   "cell_type": "markdown",
   "id": "39282117",
   "metadata": {},
   "source": [
    "Адаптивный бустинг:"
   ]
  },
  {
   "cell_type": "code",
   "execution_count": 39,
   "id": "5e59c299",
   "metadata": {},
   "outputs": [],
   "source": [
    "parameters = [\n",
    "    {'algorithm' : ['SAMME', 'SAMME.R']}]\n",
    "ab = AdaBoostClassifier()\n",
    "grid_ab = GridSearchCV(ab, parameters, n_jobs=-1)"
   ]
  },
  {
   "cell_type": "code",
   "execution_count": 40,
   "id": "e2ff5a58",
   "metadata": {},
   "outputs": [
    {
     "name": "stdout",
     "output_type": "stream",
     "text": [
      "Wall time: 3min 4s\n"
     ]
    },
    {
     "data": {
      "text/plain": [
       "GridSearchCV(estimator=AdaBoostClassifier(), n_jobs=-1,\n",
       "             param_grid=[{'algorithm': ['SAMME', 'SAMME.R']}])"
      ]
     },
     "execution_count": 40,
     "metadata": {},
     "output_type": "execute_result"
    }
   ],
   "source": [
    "%%time\n",
    "grid_ab.fit(X_train, y_train)"
   ]
  },
  {
   "cell_type": "code",
   "execution_count": 49,
   "id": "202b084c",
   "metadata": {
    "scrolled": true
   },
   "outputs": [
    {
     "name": "stdout",
     "output_type": "stream",
     "text": [
      "0.9154121629466475\n",
      "0.9963570856685349\n",
      "0.16822429906542055\n",
      "0.9\n",
      "0.28346456692913385\n",
      "0.3882395523364101\n"
     ]
    },
    {
     "data": {
      "text/plain": [
       "{'algorithm': 'SAMME.R'}"
      ]
     },
     "execution_count": 49,
     "metadata": {},
     "output_type": "execute_result"
    }
   ],
   "source": [
    "pred_ab_proba = grid_ab.predict_proba(X_valid)[:, 1]\n",
    "pred_ab = grid_ab.predict(X_valid)\n",
    "\n",
    "print(roc_auc_score (y_valid, pred_ab_proba))\n",
    "print(accuracy_score(y_valid, pred_ab))\n",
    "print(recall_score(y_valid, pred_ab))\n",
    "print(precision_score(y_valid, pred_ab))\n",
    "print(f1_score(y_valid, pred_ab))\n",
    "print(matthews_corrcoef(y_valid, pred_ab))\n",
    "\n",
    "grid_ab.best_params_"
   ]
  },
  {
   "cell_type": "markdown",
   "id": "73e1a6b8",
   "metadata": {},
   "source": [
    "Метод опорных векторов:"
   ]
  },
  {
   "cell_type": "code",
   "execution_count": 42,
   "id": "e02a3c49",
   "metadata": {},
   "outputs": [],
   "source": [
    "parameters = [\n",
    "    {'kernel' : ['linear', 'poly', 'rbf', 'sigmoid'],\n",
    "    'gamma' : ['scale', 'auto'],\n",
    "    'probability' : [True]}]\n",
    "svc = SVC()\n",
    "grid_svc = GridSearchCV(svc, parameters, n_jobs=-1)"
   ]
  },
  {
   "cell_type": "code",
   "execution_count": 43,
   "id": "5311f1c8",
   "metadata": {},
   "outputs": [
    {
     "name": "stdout",
     "output_type": "stream",
     "text": [
      "Wall time: 21min 3s\n"
     ]
    },
    {
     "data": {
      "text/plain": [
       "GridSearchCV(estimator=SVC(), n_jobs=-1,\n",
       "             param_grid=[{'gamma': ['scale', 'auto'],\n",
       "                          'kernel': ['linear', 'poly', 'rbf', 'sigmoid'],\n",
       "                          'probability': [True]}])"
      ]
     },
     "execution_count": 43,
     "metadata": {},
     "output_type": "execute_result"
    }
   ],
   "source": [
    "%%time\n",
    "grid_svc.fit(X_train, y_train)"
   ]
  },
  {
   "cell_type": "code",
   "execution_count": 50,
   "id": "ceb454c5",
   "metadata": {},
   "outputs": [
    {
     "name": "stdout",
     "output_type": "stream",
     "text": [
      "0.5326901782550685\n",
      "0.9959567654123299\n",
      "0.06542056074766354\n",
      "0.875\n",
      "0.12173913043478259\n",
      "0.23863360469119135\n"
     ]
    },
    {
     "data": {
      "text/plain": [
       "{'gamma': 'scale', 'kernel': 'linear', 'probability': True}"
      ]
     },
     "execution_count": 50,
     "metadata": {},
     "output_type": "execute_result"
    }
   ],
   "source": [
    "pred_svc_proba = grid_svc.predict_proba(X_valid)[:, 1]\n",
    "pred_svc = grid_svc.predict(X_valid)\n",
    "\n",
    "print(roc_auc_score (y_valid, pred_svc))\n",
    "print(accuracy_score(y_valid, pred_svc))\n",
    "print(recall_score(y_valid, pred_svc))\n",
    "print(precision_score(y_valid, pred_svc))\n",
    "print(f1_score(y_valid, pred_svc))\n",
    "print(matthews_corrcoef(y_valid, pred_svc))\n",
    "\n",
    "grid_svc.best_params_"
   ]
  },
  {
   "cell_type": "markdown",
   "id": "c7e73253",
   "metadata": {},
   "source": [
    "Теперь обучим модели на втором наборе данных"
   ]
  },
  {
   "cell_type": "code",
   "execution_count": 53,
   "id": "9b34eacd",
   "metadata": {},
   "outputs": [
    {
     "data": {
      "text/plain": [
       "<83266x22736 sparse matrix of type '<class 'numpy.float64'>'\n",
       "\twith 2154997 stored elements in COOrdinate format>"
      ]
     },
     "execution_count": 53,
     "metadata": {},
     "output_type": "execute_result"
    }
   ],
   "source": [
    "data_tfidf = sparse.hstack((data_tfidf,new_features_data_scaled))\n",
    "data_tfidf"
   ]
  },
  {
   "cell_type": "markdown",
   "id": "24681152",
   "metadata": {},
   "source": [
    "Снова разделим данные на тренировочные и тестовые"
   ]
  },
  {
   "cell_type": "code",
   "execution_count": 54,
   "id": "290a8bab",
   "metadata": {},
   "outputs": [],
   "source": [
    "X_train , X_valid , y_train , y_valid = train_test_split(data_tfidf, target ,test_size=0.3, random_state=42)"
   ]
  },
  {
   "cell_type": "markdown",
   "id": "e269e393",
   "metadata": {},
   "source": [
    "Логистическая регрессия:"
   ]
  },
  {
   "cell_type": "code",
   "execution_count": 55,
   "id": "af810839",
   "metadata": {},
   "outputs": [],
   "source": [
    "parameters = [\n",
    "    {'penalty' : ['none', 'l1', 'l2', 'elasticnet'],\n",
    "    'C' : [0.001,0.01,0.1,1,10,100,1000],\n",
    "    'solver' : ['liblinear', 'lbfgs']}]\n",
    "logit = LogisticRegression()\n",
    "grid_logit = GridSearchCV(logit, parameters, n_jobs=-1)"
   ]
  },
  {
   "cell_type": "code",
   "execution_count": 56,
   "id": "0db77e4c",
   "metadata": {},
   "outputs": [
    {
     "name": "stdout",
     "output_type": "stream",
     "text": [
      "Wall time: 16min 13s\n"
     ]
    },
    {
     "data": {
      "text/plain": [
       "GridSearchCV(estimator=LogisticRegression(), n_jobs=-1,\n",
       "             param_grid=[{'C': [0.001, 0.01, 0.1, 1, 10, 100, 1000],\n",
       "                          'penalty': ['none', 'l1', 'l2', 'elasticnet'],\n",
       "                          'solver': ['liblinear', 'lbfgs']}])"
      ]
     },
     "execution_count": 56,
     "metadata": {},
     "output_type": "execute_result"
    }
   ],
   "source": [
    "%%time\n",
    "grid_logit.fit(X_train, y_train)"
   ]
  },
  {
   "cell_type": "code",
   "execution_count": 57,
   "id": "fc44c874",
   "metadata": {},
   "outputs": [
    {
     "name": "stdout",
     "output_type": "stream",
     "text": [
      "0.9971315967357165\n",
      "0.9979183346677342\n",
      "0.5981308411214953\n",
      "0.8767123287671232\n",
      "0.7111111111111109\n",
      "0.7232146658766788\n"
     ]
    },
    {
     "data": {
      "text/plain": [
       "{'C': 100, 'penalty': 'l2', 'solver': 'lbfgs'}"
      ]
     },
     "execution_count": 57,
     "metadata": {},
     "output_type": "execute_result"
    }
   ],
   "source": [
    "pred_logit_proba = grid_logit.predict_proba(X_valid)[:, 1]\n",
    "pred_logit = grid_logit.predict(X_valid)\n",
    "\n",
    "print(roc_auc_score (y_valid, pred_logit_proba))\n",
    "print(accuracy_score(y_valid, pred_logit))\n",
    "print(recall_score(y_valid, pred_logit))\n",
    "print(precision_score(y_valid, pred_logit))\n",
    "print(f1_score(y_valid, pred_logit))\n",
    "print(matthews_corrcoef(y_valid, pred_logit))\n",
    "\n",
    "grid_logit.best_params_"
   ]
  },
  {
   "cell_type": "markdown",
   "id": "9650204d",
   "metadata": {},
   "source": [
    "Случайный лес:"
   ]
  },
  {
   "cell_type": "code",
   "execution_count": 58,
   "id": "43393cf7",
   "metadata": {},
   "outputs": [],
   "source": [
    "parameters = [\n",
    "    {'criterion' : ['gini', 'entropy'],\n",
    "    'max_features' : ['auto', 'sqrt', 'log2']}]\n",
    "rf = RandomForestClassifier()\n",
    "grid_rf = GridSearchCV(rf, parameters, n_jobs=-1)"
   ]
  },
  {
   "cell_type": "code",
   "execution_count": 59,
   "id": "fa2acd60",
   "metadata": {},
   "outputs": [
    {
     "name": "stdout",
     "output_type": "stream",
     "text": [
      "Wall time: 6min 32s\n"
     ]
    },
    {
     "data": {
      "text/plain": [
       "GridSearchCV(estimator=RandomForestClassifier(), n_jobs=-1,\n",
       "             param_grid=[{'criterion': ['gini', 'entropy'],\n",
       "                          'max_features': ['auto', 'sqrt', 'log2']}])"
      ]
     },
     "execution_count": 59,
     "metadata": {},
     "output_type": "execute_result"
    }
   ],
   "source": [
    "%%time\n",
    "grid_rf.fit(X_train, y_train)"
   ]
  },
  {
   "cell_type": "code",
   "execution_count": 60,
   "id": "41384730",
   "metadata": {},
   "outputs": [
    {
     "name": "stdout",
     "output_type": "stream",
     "text": [
      "0.9644303341347877\n",
      "0.9963570856685349\n",
      "0.1588785046728972\n",
      "0.9444444444444444\n",
      "0.272\n",
      "0.38657633404451547\n"
     ]
    },
    {
     "data": {
      "text/plain": [
       "{'criterion': 'gini', 'max_features': 'sqrt'}"
      ]
     },
     "execution_count": 60,
     "metadata": {},
     "output_type": "execute_result"
    }
   ],
   "source": [
    "pred_rf_proba = grid_rf.predict_proba(X_valid)[:, 1]\n",
    "pred_rf = grid_rf.predict(X_valid)\n",
    "\n",
    "print(roc_auc_score (y_valid, pred_rf_proba))\n",
    "print(accuracy_score(y_valid, pred_rf))\n",
    "print(recall_score(y_valid, pred_rf))\n",
    "print(precision_score(y_valid, pred_rf))\n",
    "print(f1_score(y_valid, pred_rf))\n",
    "print(matthews_corrcoef(y_valid, pred_rf))\n",
    "\n",
    "grid_rf.best_params_"
   ]
  },
  {
   "cell_type": "markdown",
   "id": "eab56a4d",
   "metadata": {},
   "source": [
    "Дерево решений:"
   ]
  },
  {
   "cell_type": "code",
   "execution_count": 61,
   "id": "7c6eb6f4",
   "metadata": {},
   "outputs": [],
   "source": [
    "parameters = [\n",
    "    {'criterion' : ['gini', 'entropy'],\n",
    "    'max_features' : ['auto', 'sqrt', 'log2']}]\n",
    "dt = DecisionTreeClassifier()\n",
    "grid_dt = GridSearchCV(dt, parameters, n_jobs=-1)"
   ]
  },
  {
   "cell_type": "code",
   "execution_count": 62,
   "id": "750a244b",
   "metadata": {},
   "outputs": [
    {
     "name": "stdout",
     "output_type": "stream",
     "text": [
      "Wall time: 5.91 s\n"
     ]
    },
    {
     "data": {
      "text/plain": [
       "GridSearchCV(estimator=DecisionTreeClassifier(), n_jobs=-1,\n",
       "             param_grid=[{'criterion': ['gini', 'entropy'],\n",
       "                          'max_features': ['auto', 'sqrt', 'log2']}])"
      ]
     },
     "execution_count": 62,
     "metadata": {},
     "output_type": "execute_result"
    }
   ],
   "source": [
    "%%time\n",
    "grid_dt.fit(X_train, y_train)"
   ]
  },
  {
   "cell_type": "code",
   "execution_count": 63,
   "id": "83cf0af1",
   "metadata": {},
   "outputs": [
    {
     "name": "stdout",
     "output_type": "stream",
     "text": [
      "0.6527984591632032\n",
      "0.9942353883106485\n",
      "0.308411214953271\n",
      "0.32038834951456313\n",
      "0.3142857142857143\n",
      "0.3114492782580766\n"
     ]
    },
    {
     "data": {
      "text/plain": [
       "{'criterion': 'gini', 'max_features': 'sqrt'}"
      ]
     },
     "execution_count": 63,
     "metadata": {},
     "output_type": "execute_result"
    }
   ],
   "source": [
    "pred_dt_proba = grid_dt.predict_proba(X_valid)[:, 1]\n",
    "pred_dt = grid_dt.predict(X_valid)\n",
    "\n",
    "print(roc_auc_score (y_valid, pred_dt_proba))\n",
    "print(accuracy_score(y_valid, pred_dt))\n",
    "print(recall_score(y_valid, pred_dt))\n",
    "print(precision_score(y_valid, pred_dt))\n",
    "print(f1_score(y_valid, pred_dt))\n",
    "print(matthews_corrcoef(y_valid, pred_dt))\n",
    "\n",
    "grid_dt.best_params_"
   ]
  },
  {
   "cell_type": "markdown",
   "id": "2f23d68f",
   "metadata": {},
   "source": [
    "Градиентный бустинг:"
   ]
  },
  {
   "cell_type": "code",
   "execution_count": 64,
   "id": "064aef00",
   "metadata": {},
   "outputs": [],
   "source": [
    "parameters = [\n",
    "    {'loss' : ['deviance', 'exponential'],\n",
    "    'max_features' : ['auto', 'sqrt', 'log2']}]\n",
    "gb = GradientBoostingClassifier()\n",
    "grid_gb = GridSearchCV(gb, parameters, n_jobs=-1)"
   ]
  },
  {
   "cell_type": "code",
   "execution_count": 65,
   "id": "6cc9a5b6",
   "metadata": {},
   "outputs": [
    {
     "name": "stdout",
     "output_type": "stream",
     "text": [
      "Wall time: 7min 46s\n"
     ]
    },
    {
     "data": {
      "text/plain": [
       "GridSearchCV(estimator=GradientBoostingClassifier(), n_jobs=-1,\n",
       "             param_grid=[{'loss': ['deviance', 'exponential'],\n",
       "                          'max_features': ['auto', 'sqrt', 'log2']}])"
      ]
     },
     "execution_count": 65,
     "metadata": {},
     "output_type": "execute_result"
    }
   ],
   "source": [
    "%%time\n",
    "grid_gb.fit(X_train, y_train)"
   ]
  },
  {
   "cell_type": "code",
   "execution_count": 66,
   "id": "efe816f0",
   "metadata": {},
   "outputs": [
    {
     "name": "stdout",
     "output_type": "stream",
     "text": [
      "0.9696965256399707\n",
      "0.9957165732586069\n",
      "0.0\n",
      "0.0\n",
      "0.0\n",
      "0.0\n"
     ]
    },
    {
     "data": {
      "text/plain": [
       "{'loss': 'exponential', 'max_features': 'auto'}"
      ]
     },
     "execution_count": 66,
     "metadata": {},
     "output_type": "execute_result"
    }
   ],
   "source": [
    "pred_gb_proba = grid_gb.predict_proba(X_valid)[:, 1]\n",
    "pred_gb = grid_gb.predict(X_valid)\n",
    "\n",
    "print(roc_auc_score (y_valid, pred_gb_proba))\n",
    "print(accuracy_score(y_valid, pred_gb))\n",
    "print(recall_score(y_valid, pred_gb))\n",
    "print(precision_score(y_valid, pred_gb))\n",
    "print(f1_score(y_valid, pred_gb))\n",
    "print(matthews_corrcoef(y_valid, pred_gb))\n",
    "\n",
    "grid_gb.best_params_"
   ]
  },
  {
   "cell_type": "markdown",
   "id": "b8674ed3",
   "metadata": {},
   "source": [
    "Адаптивный бустинг:"
   ]
  },
  {
   "cell_type": "code",
   "execution_count": 67,
   "id": "589d69d7",
   "metadata": {},
   "outputs": [],
   "source": [
    "parameters = [\n",
    "    {'algorithm' : ['SAMME', 'SAMME.R']}]\n",
    "ab = AdaBoostClassifier()\n",
    "grid_ab = GridSearchCV(ab, parameters, n_jobs=-1)"
   ]
  },
  {
   "cell_type": "code",
   "execution_count": 68,
   "id": "61d00f9a",
   "metadata": {},
   "outputs": [
    {
     "name": "stdout",
     "output_type": "stream",
     "text": [
      "Wall time: 3min 8s\n"
     ]
    },
    {
     "data": {
      "text/plain": [
       "GridSearchCV(estimator=AdaBoostClassifier(), n_jobs=-1,\n",
       "             param_grid=[{'algorithm': ['SAMME', 'SAMME.R']}])"
      ]
     },
     "execution_count": 68,
     "metadata": {},
     "output_type": "execute_result"
    }
   ],
   "source": [
    "%%time\n",
    "grid_ab.fit(X_train, y_train)"
   ]
  },
  {
   "cell_type": "code",
   "execution_count": 69,
   "id": "0d3d05b8",
   "metadata": {},
   "outputs": [
    {
     "name": "stdout",
     "output_type": "stream",
     "text": [
      "0.9947165244300862\n",
      "0.9969175340272218\n",
      "0.411214953271028\n",
      "0.7586206896551724\n",
      "0.5333333333333333\n",
      "0.5572172759566243\n"
     ]
    },
    {
     "data": {
      "text/plain": [
       "{'algorithm': 'SAMME.R'}"
      ]
     },
     "execution_count": 69,
     "metadata": {},
     "output_type": "execute_result"
    }
   ],
   "source": [
    "pred_ab_proba = grid_ab.predict_proba(X_valid)[:, 1]\n",
    "pred_ab = grid_ab.predict(X_valid)\n",
    "\n",
    "print(roc_auc_score (y_valid, pred_ab_proba))\n",
    "print(accuracy_score(y_valid, pred_ab))\n",
    "print(recall_score(y_valid, pred_ab))\n",
    "print(precision_score(y_valid, pred_ab))\n",
    "print(f1_score(y_valid, pred_ab))\n",
    "print(matthews_corrcoef(y_valid, pred_ab))\n",
    "\n",
    "grid_ab.best_params_"
   ]
  },
  {
   "cell_type": "markdown",
   "id": "3f9338a4",
   "metadata": {},
   "source": [
    "Метод опорных векторов:"
   ]
  },
  {
   "cell_type": "code",
   "execution_count": 70,
   "id": "ab162fe7",
   "metadata": {},
   "outputs": [],
   "source": [
    "parameters = [\n",
    "    {'kernel' : ['linear', 'poly', 'rbf', 'sigmoid'],\n",
    "    'gamma' : ['scale', 'auto'],\n",
    "    'probability' : [True]}]\n",
    "svc = SVC()\n",
    "grid_svc = GridSearchCV(svc, parameters, n_jobs=-1)"
   ]
  },
  {
   "cell_type": "code",
   "execution_count": 71,
   "id": "87ba6a6e",
   "metadata": {},
   "outputs": [
    {
     "name": "stdout",
     "output_type": "stream",
     "text": [
      "Wall time: 6min 52s\n"
     ]
    },
    {
     "data": {
      "text/plain": [
       "GridSearchCV(estimator=SVC(), n_jobs=-1,\n",
       "             param_grid=[{'gamma': ['scale', 'auto'],\n",
       "                          'kernel': ['linear', 'poly', 'rbf', 'sigmoid'],\n",
       "                          'probability': [True]}])"
      ]
     },
     "execution_count": 71,
     "metadata": {},
     "output_type": "execute_result"
    }
   ],
   "source": [
    "%%time\n",
    "grid_svc.fit(X_train, y_train)"
   ]
  },
  {
   "cell_type": "code",
   "execution_count": 72,
   "id": "b3d528b6",
   "metadata": {},
   "outputs": [
    {
     "name": "stdout",
     "output_type": "stream",
     "text": [
      "0.9920978007530592\n",
      "0.9975980784627703\n",
      "0.4672897196261682\n",
      "0.9433962264150944\n",
      "0.625\n",
      "0.6630665936862797\n"
     ]
    },
    {
     "data": {
      "text/plain": [
       "{'gamma': 'scale', 'kernel': 'linear', 'probability': True}"
      ]
     },
     "execution_count": 72,
     "metadata": {},
     "output_type": "execute_result"
    }
   ],
   "source": [
    "pred_svc_proba = grid_svc.predict_proba(X_valid)[:, 1]\n",
    "pred_svc = grid_svc.predict(X_valid)\n",
    "\n",
    "print(roc_auc_score (y_valid, pred_svc_proba))\n",
    "print(accuracy_score(y_valid, pred_svc))\n",
    "print(recall_score(y_valid, pred_svc))\n",
    "print(precision_score(y_valid, pred_svc))\n",
    "print(f1_score(y_valid, pred_svc))\n",
    "print(matthews_corrcoef(y_valid, pred_svc))\n",
    "\n",
    "grid_svc.best_params_"
   ]
  },
  {
   "cell_type": "markdown",
   "id": "d65c9117",
   "metadata": {},
   "source": [
    "Затем обучим модели на третьем наборе данных"
   ]
  },
  {
   "cell_type": "code",
   "execution_count": 74,
   "id": "0065b516",
   "metadata": {},
   "outputs": [],
   "source": [
    "vectorizer = TfidfVectorizer()\n",
    "with open('sessions_domains.txt') as inp_file:\n",
    "    data_tfidf = vectorizer.fit_transform(inp_file)"
   ]
  },
  {
   "cell_type": "code",
   "execution_count": 75,
   "id": "b0a79600",
   "metadata": {},
   "outputs": [
    {
     "data": {
      "text/plain": [
       "<83266x22729 sparse matrix of type '<class 'numpy.float64'>'\n",
       "\twith 1572135 stored elements in COOrdinate format>"
      ]
     },
     "execution_count": 75,
     "metadata": {},
     "output_type": "execute_result"
    }
   ],
   "source": [
    "data_tfidf = sparse.hstack((data_tfidf,f_features_data_scaled))\n",
    "data_tfidf"
   ]
  },
  {
   "cell_type": "code",
   "execution_count": 76,
   "id": "da937f50",
   "metadata": {},
   "outputs": [],
   "source": [
    "X_train , X_valid , y_train , y_valid = train_test_split(data_tfidf, target ,test_size=0.3, random_state=42)"
   ]
  },
  {
   "cell_type": "markdown",
   "id": "be4e7113",
   "metadata": {},
   "source": [
    "Логистическая регрессия:"
   ]
  },
  {
   "cell_type": "code",
   "execution_count": 77,
   "id": "3f697092",
   "metadata": {},
   "outputs": [],
   "source": [
    "parameters = [\n",
    "    {'penalty' : ['none', 'l1', 'l2', 'elasticnet'],\n",
    "    'C' : [0.001,0.01,0.1,1,10,100,1000],\n",
    "    'solver' : ['liblinear', 'lbfgs']}]\n",
    "logit = LogisticRegression()\n",
    "grid_logit = GridSearchCV(logit, parameters, n_jobs=-1)"
   ]
  },
  {
   "cell_type": "code",
   "execution_count": 78,
   "id": "b298fa7c",
   "metadata": {},
   "outputs": [
    {
     "name": "stdout",
     "output_type": "stream",
     "text": [
      "Wall time: 16min 55s\n"
     ]
    },
    {
     "data": {
      "text/plain": [
       "GridSearchCV(estimator=LogisticRegression(), n_jobs=-1,\n",
       "             param_grid=[{'C': [0.001, 0.01, 0.1, 1, 10, 100, 1000],\n",
       "                          'penalty': ['none', 'l1', 'l2', 'elasticnet'],\n",
       "                          'solver': ['liblinear', 'lbfgs']}])"
      ]
     },
     "execution_count": 78,
     "metadata": {},
     "output_type": "execute_result"
    }
   ],
   "source": [
    "%%time\n",
    "grid_logit.fit(X_train, y_train)"
   ]
  },
  {
   "cell_type": "code",
   "execution_count": 79,
   "id": "9e4bb06c",
   "metadata": {},
   "outputs": [
    {
     "name": "stdout",
     "output_type": "stream",
     "text": [
      "0.9970773022280286\n",
      "0.9977181745396317\n",
      "0.5700934579439252\n",
      "0.8472222222222222\n",
      "0.6815642458100558\n",
      "0.6939518250263517\n"
     ]
    },
    {
     "data": {
      "text/plain": [
       "{'C': 100, 'penalty': 'l2', 'solver': 'lbfgs'}"
      ]
     },
     "execution_count": 79,
     "metadata": {},
     "output_type": "execute_result"
    }
   ],
   "source": [
    "pred_logit_proba = grid_logit.predict_proba(X_valid)[:, 1]\n",
    "pred_logit = grid_logit.predict(X_valid)\n",
    "\n",
    "print(roc_auc_score (y_valid, pred_logit_proba))\n",
    "print(accuracy_score(y_valid, pred_logit))\n",
    "print(recall_score(y_valid, pred_logit))\n",
    "print(precision_score(y_valid, pred_logit))\n",
    "print(f1_score(y_valid, pred_logit))\n",
    "print(matthews_corrcoef(y_valid, pred_logit))\n",
    "\n",
    "grid_logit.best_params_"
   ]
  },
  {
   "cell_type": "markdown",
   "id": "6820a3b4",
   "metadata": {},
   "source": [
    "Случайный лес:"
   ]
  },
  {
   "cell_type": "code",
   "execution_count": 80,
   "id": "eca44d2e",
   "metadata": {},
   "outputs": [],
   "source": [
    "parameters = [\n",
    "    {'criterion' : ['gini', 'entropy'],\n",
    "    'max_features' : ['auto', 'sqrt', 'log2']}]\n",
    "rf = RandomForestClassifier()\n",
    "grid_rf = GridSearchCV(rf, parameters, n_jobs=-1)"
   ]
  },
  {
   "cell_type": "code",
   "execution_count": 81,
   "id": "4646b129",
   "metadata": {},
   "outputs": [
    {
     "name": "stdout",
     "output_type": "stream",
     "text": [
      "Wall time: 7min 21s\n"
     ]
    },
    {
     "data": {
      "text/plain": [
       "GridSearchCV(estimator=RandomForestClassifier(), n_jobs=-1,\n",
       "             param_grid=[{'criterion': ['gini', 'entropy'],\n",
       "                          'max_features': ['auto', 'sqrt', 'log2']}])"
      ]
     },
     "execution_count": 81,
     "metadata": {},
     "output_type": "execute_result"
    }
   ],
   "source": [
    "%%time\n",
    "grid_rf.fit(X_train, y_train)"
   ]
  },
  {
   "cell_type": "code",
   "execution_count": 82,
   "id": "6f578589",
   "metadata": {},
   "outputs": [
    {
     "name": "stdout",
     "output_type": "stream",
     "text": [
      "0.9543114535860865\n",
      "0.9963971176941553\n",
      "0.1588785046728972\n",
      "1.0\n",
      "0.27419354838709675\n",
      "0.3978764812058109\n"
     ]
    },
    {
     "data": {
      "text/plain": [
       "{'criterion': 'entropy', 'max_features': 'auto'}"
      ]
     },
     "execution_count": 82,
     "metadata": {},
     "output_type": "execute_result"
    }
   ],
   "source": [
    "pred_rf_proba = grid_rf.predict_proba(X_valid)[:, 1]\n",
    "pred_rf = grid_rf.predict(X_valid)\n",
    "\n",
    "print(roc_auc_score (y_valid, pred_rf_proba))\n",
    "print(accuracy_score(y_valid, pred_rf))\n",
    "print(recall_score(y_valid, pred_rf))\n",
    "print(precision_score(y_valid, pred_rf))\n",
    "print(f1_score(y_valid, pred_rf))\n",
    "print(matthews_corrcoef(y_valid, pred_rf))\n",
    "\n",
    "grid_rf.best_params_"
   ]
  },
  {
   "cell_type": "markdown",
   "id": "eb8bfb6c",
   "metadata": {},
   "source": [
    "Дерево решений:"
   ]
  },
  {
   "cell_type": "code",
   "execution_count": 83,
   "id": "29fac86d",
   "metadata": {},
   "outputs": [],
   "source": [
    "parameters = [\n",
    "    {'criterion' : ['gini', 'entropy'],\n",
    "    'max_features' : ['auto', 'sqrt', 'log2']}]\n",
    "dt = DecisionTreeClassifier()\n",
    "grid_dt = GridSearchCV(dt, parameters, n_jobs=-1)"
   ]
  },
  {
   "cell_type": "code",
   "execution_count": 84,
   "id": "ba4b58be",
   "metadata": {},
   "outputs": [
    {
     "name": "stdout",
     "output_type": "stream",
     "text": [
      "Wall time: 7.52 s\n"
     ]
    },
    {
     "data": {
      "text/plain": [
       "GridSearchCV(estimator=DecisionTreeClassifier(), n_jobs=-1,\n",
       "             param_grid=[{'criterion': ['gini', 'entropy'],\n",
       "                          'max_features': ['auto', 'sqrt', 'log2']}])"
      ]
     },
     "execution_count": 84,
     "metadata": {},
     "output_type": "execute_result"
    }
   ],
   "source": [
    "%%time\n",
    "grid_dt.fit(X_train, y_train)"
   ]
  },
  {
   "cell_type": "code",
   "execution_count": 85,
   "id": "07b97778",
   "metadata": {},
   "outputs": [
    {
     "name": "stdout",
     "output_type": "stream",
     "text": [
      "0.638716643164096\n",
      "0.9945956765412329\n",
      "0.22429906542056074\n",
      "0.3157894736842105\n",
      "0.26229508196721313\n",
      "0.26349670219509846\n"
     ]
    },
    {
     "data": {
      "text/plain": [
       "{'criterion': 'entropy', 'max_features': 'auto'}"
      ]
     },
     "execution_count": 85,
     "metadata": {},
     "output_type": "execute_result"
    }
   ],
   "source": [
    "pred_dt_proba = grid_dt.predict_proba(X_valid)[:, 1]\n",
    "pred_dt = grid_dt.predict(X_valid)\n",
    "\n",
    "print(roc_auc_score (y_valid, pred_dt_proba))\n",
    "print(accuracy_score(y_valid, pred_dt))\n",
    "print(recall_score(y_valid, pred_dt))\n",
    "print(precision_score(y_valid, pred_dt))\n",
    "print(f1_score(y_valid, pred_dt))\n",
    "print(matthews_corrcoef(y_valid, pred_dt))\n",
    "\n",
    "grid_dt.best_params_"
   ]
  },
  {
   "cell_type": "markdown",
   "id": "013262ba",
   "metadata": {},
   "source": [
    "Градиентный бустинг:"
   ]
  },
  {
   "cell_type": "code",
   "execution_count": 86,
   "id": "3f1cdcc5",
   "metadata": {},
   "outputs": [],
   "source": [
    "parameters = [\n",
    "    {'loss' : ['deviance', 'exponential'],\n",
    "    'max_features' : ['auto', 'sqrt', 'log2']}]\n",
    "gb = GradientBoostingClassifier()\n",
    "grid_gb = GridSearchCV(gb, parameters, n_jobs=-1)"
   ]
  },
  {
   "cell_type": "code",
   "execution_count": 87,
   "id": "66239291",
   "metadata": {},
   "outputs": [
    {
     "name": "stdout",
     "output_type": "stream",
     "text": [
      "Wall time: 8min 34s\n"
     ]
    },
    {
     "data": {
      "text/plain": [
       "GridSearchCV(estimator=GradientBoostingClassifier(), n_jobs=-1,\n",
       "             param_grid=[{'loss': ['deviance', 'exponential'],\n",
       "                          'max_features': ['auto', 'sqrt', 'log2']}])"
      ]
     },
     "execution_count": 87,
     "metadata": {},
     "output_type": "execute_result"
    }
   ],
   "source": [
    "%%time\n",
    "grid_gb.fit(X_train, y_train)"
   ]
  },
  {
   "cell_type": "code",
   "execution_count": 88,
   "id": "dd80bdfd",
   "metadata": {},
   "outputs": [
    {
     "name": "stdout",
     "output_type": "stream",
     "text": [
      "0.9725577898340393\n",
      "0.9957165732586069\n",
      "0.0\n",
      "0.0\n",
      "0.0\n",
      "0.0\n"
     ]
    },
    {
     "data": {
      "text/plain": [
       "{'loss': 'exponential', 'max_features': 'auto'}"
      ]
     },
     "execution_count": 88,
     "metadata": {},
     "output_type": "execute_result"
    }
   ],
   "source": [
    "pred_gb_proba = grid_gb.predict_proba(X_valid)[:, 1]\n",
    "pred_gb = grid_gb.predict(X_valid)\n",
    "\n",
    "print(roc_auc_score (y_valid, pred_gb_proba))\n",
    "print(accuracy_score(y_valid, pred_gb))\n",
    "print(recall_score(y_valid, pred_gb))\n",
    "print(precision_score(y_valid, pred_gb))\n",
    "print(f1_score(y_valid, pred_gb))\n",
    "print(matthews_corrcoef(y_valid, pred_gb))\n",
    "\n",
    "grid_gb.best_params_"
   ]
  },
  {
   "cell_type": "markdown",
   "id": "62319aff",
   "metadata": {},
   "source": [
    "Адаптивный бустинг:"
   ]
  },
  {
   "cell_type": "code",
   "execution_count": 89,
   "id": "fa61c2fa",
   "metadata": {},
   "outputs": [],
   "source": [
    "parameters = [\n",
    "    {'algorithm' : ['SAMME', 'SAMME.R']}]\n",
    "ab = AdaBoostClassifier()\n",
    "grid_ab = GridSearchCV(ab, parameters, n_jobs=-1)"
   ]
  },
  {
   "cell_type": "code",
   "execution_count": 90,
   "id": "573b5e68",
   "metadata": {},
   "outputs": [
    {
     "name": "stdout",
     "output_type": "stream",
     "text": [
      "Wall time: 4min 17s\n"
     ]
    },
    {
     "data": {
      "text/plain": [
       "GridSearchCV(estimator=AdaBoostClassifier(), n_jobs=-1,\n",
       "             param_grid=[{'algorithm': ['SAMME', 'SAMME.R']}])"
      ]
     },
     "execution_count": 90,
     "metadata": {},
     "output_type": "execute_result"
    }
   ],
   "source": [
    "%%time\n",
    "grid_ab.fit(X_train, y_train)"
   ]
  },
  {
   "cell_type": "code",
   "execution_count": 91,
   "id": "0bac2380",
   "metadata": {},
   "outputs": [
    {
     "name": "stdout",
     "output_type": "stream",
     "text": [
      "0.9895837208157627\n",
      "0.9970776621297037\n",
      "0.38317757009345793\n",
      "0.8541666666666666\n",
      "0.529032258064516\n",
      "0.5710022041471491\n"
     ]
    },
    {
     "data": {
      "text/plain": [
       "{'algorithm': 'SAMME.R'}"
      ]
     },
     "execution_count": 91,
     "metadata": {},
     "output_type": "execute_result"
    }
   ],
   "source": [
    "pred_ab_proba = grid_ab.predict_proba(X_valid)[:, 1]\n",
    "pred_ab = grid_ab.predict(X_valid)\n",
    "\n",
    "print(roc_auc_score (y_valid, pred_ab_proba))\n",
    "print(accuracy_score(y_valid, pred_ab))\n",
    "print(recall_score(y_valid, pred_ab))\n",
    "print(precision_score(y_valid, pred_ab))\n",
    "print(f1_score(y_valid, pred_ab))\n",
    "print(matthews_corrcoef(y_valid, pred_ab))\n",
    "\n",
    "grid_ab.best_params_"
   ]
  },
  {
   "cell_type": "markdown",
   "id": "8ae69301",
   "metadata": {},
   "source": [
    "Метод опорных векторов:"
   ]
  },
  {
   "cell_type": "code",
   "execution_count": 92,
   "id": "e5a48c83",
   "metadata": {},
   "outputs": [],
   "source": [
    "parameters = [\n",
    "    {'kernel' : ['linear', 'poly', 'rbf', 'sigmoid'],\n",
    "    'gamma' : ['scale', 'auto'],\n",
    "    'probability' : [True]}]\n",
    "svc = SVC()\n",
    "grid_svc = GridSearchCV(svc, parameters, n_jobs=-1)"
   ]
  },
  {
   "cell_type": "code",
   "execution_count": 93,
   "id": "ab8d21bd",
   "metadata": {},
   "outputs": [
    {
     "name": "stdout",
     "output_type": "stream",
     "text": [
      "Wall time: 9min 53s\n"
     ]
    },
    {
     "data": {
      "text/plain": [
       "GridSearchCV(estimator=SVC(), n_jobs=-1,\n",
       "             param_grid=[{'gamma': ['scale', 'auto'],\n",
       "                          'kernel': ['linear', 'poly', 'rbf', 'sigmoid'],\n",
       "                          'probability': [True]}])"
      ]
     },
     "execution_count": 93,
     "metadata": {},
     "output_type": "execute_result"
    }
   ],
   "source": [
    "%%time\n",
    "grid_svc.fit(X_train, y_train)"
   ]
  },
  {
   "cell_type": "code",
   "execution_count": 94,
   "id": "e1938fde",
   "metadata": {},
   "outputs": [
    {
     "name": "stdout",
     "output_type": "stream",
     "text": [
      "0.994795429942989\n",
      "0.9977982385908727\n",
      "0.514018691588785\n",
      "0.9482758620689655\n",
      "0.6666666666666666\n",
      "0.6973126202264947\n"
     ]
    },
    {
     "data": {
      "text/plain": [
       "{'gamma': 'scale', 'kernel': 'poly', 'probability': True}"
      ]
     },
     "execution_count": 94,
     "metadata": {},
     "output_type": "execute_result"
    }
   ],
   "source": [
    "pred_svc_proba = grid_svc.predict_proba(X_valid)[:, 1]\n",
    "pred_svc = grid_svc.predict(X_valid)\n",
    "\n",
    "print(roc_auc_score (y_valid, pred_svc_proba))\n",
    "print(accuracy_score(y_valid, pred_svc))\n",
    "print(recall_score(y_valid, pred_svc))\n",
    "print(precision_score(y_valid, pred_svc))\n",
    "print(f1_score(y_valid, pred_svc))\n",
    "print(matthews_corrcoef(y_valid, pred_svc))\n",
    "\n",
    "grid_svc.best_params_"
   ]
  },
  {
   "cell_type": "markdown",
   "id": "baae6449",
   "metadata": {},
   "source": [
    "Далее обучим модели на четвертом наборе данных"
   ]
  },
  {
   "cell_type": "code",
   "execution_count": 98,
   "id": "71246797",
   "metadata": {},
   "outputs": [],
   "source": [
    "vectorizer = TfidfVectorizer()\n",
    "with open('sessions_domains.txt') as inp_file:\n",
    "    data_tfidf = vectorizer.fit_transform(inp_file)"
   ]
  },
  {
   "cell_type": "code",
   "execution_count": 99,
   "id": "9b061a8c",
   "metadata": {},
   "outputs": [
    {
     "data": {
      "text/plain": [
       "<83266x22729 sparse matrix of type '<class 'numpy.float64'>'\n",
       "\twith 1572135 stored elements in COOrdinate format>"
      ]
     },
     "execution_count": 99,
     "metadata": {},
     "output_type": "execute_result"
    }
   ],
   "source": [
    "data_tfidf = sparse.hstack((data_tfidf,chi2_features_data_scaled))\n",
    "data_tfidf"
   ]
  },
  {
   "cell_type": "code",
   "execution_count": 100,
   "id": "8fe41540",
   "metadata": {},
   "outputs": [],
   "source": [
    "X_train , X_valid , y_train , y_valid = train_test_split(data_tfidf, target ,test_size=0.3, random_state=42)"
   ]
  },
  {
   "cell_type": "markdown",
   "id": "6b1a7f41",
   "metadata": {},
   "source": [
    "Логистическая регрессия:"
   ]
  },
  {
   "cell_type": "code",
   "execution_count": 101,
   "id": "38484e5f",
   "metadata": {},
   "outputs": [],
   "source": [
    "parameters = [\n",
    "    {'penalty' : ['none', 'l1', 'l2', 'elasticnet'],\n",
    "    'C' : [0.001,0.01,0.1,1,10,100,1000],\n",
    "    'solver' : ['liblinear', 'lbfgs']}]\n",
    "logit = LogisticRegression()\n",
    "grid_logit = GridSearchCV(logit, parameters, n_jobs=-1)"
   ]
  },
  {
   "cell_type": "code",
   "execution_count": 102,
   "id": "a6a53b98",
   "metadata": {},
   "outputs": [
    {
     "name": "stdout",
     "output_type": "stream",
     "text": [
      "Wall time: 10min 52s\n"
     ]
    },
    {
     "data": {
      "text/plain": [
       "GridSearchCV(estimator=LogisticRegression(), n_jobs=-1,\n",
       "             param_grid=[{'C': [0.001, 0.01, 0.1, 1, 10, 100, 1000],\n",
       "                          'penalty': ['none', 'l1', 'l2', 'elasticnet'],\n",
       "                          'solver': ['liblinear', 'lbfgs']}])"
      ]
     },
     "execution_count": 102,
     "metadata": {},
     "output_type": "execute_result"
    }
   ],
   "source": [
    "%%time\n",
    "grid_logit.fit(X_train, y_train)"
   ]
  },
  {
   "cell_type": "code",
   "execution_count": 103,
   "id": "be719c5b",
   "metadata": {},
   "outputs": [
    {
     "name": "stdout",
     "output_type": "stream",
     "text": [
      "0.9958168805945418\n",
      "0.9976781425140112\n",
      "0.5607476635514018\n",
      "0.8450704225352113\n",
      "0.6741573033707865\n",
      "0.6873429369444551\n"
     ]
    },
    {
     "data": {
      "text/plain": [
       "{'C': 100, 'penalty': 'l2', 'solver': 'lbfgs'}"
      ]
     },
     "execution_count": 103,
     "metadata": {},
     "output_type": "execute_result"
    }
   ],
   "source": [
    "pred_logit_proba = grid_logit.predict_proba(X_valid)[:, 1]\n",
    "pred_logit = grid_logit.predict(X_valid)\n",
    "\n",
    "print(roc_auc_score (y_valid, pred_logit_proba))\n",
    "print(accuracy_score(y_valid, pred_logit))\n",
    "print(recall_score(y_valid, pred_logit))\n",
    "print(precision_score(y_valid, pred_logit))\n",
    "print(f1_score(y_valid, pred_logit))\n",
    "print(matthews_corrcoef(y_valid, pred_logit))\n",
    "\n",
    "grid_logit.best_params_"
   ]
  },
  {
   "cell_type": "markdown",
   "id": "7001e7b4",
   "metadata": {},
   "source": [
    "Случайный лес:"
   ]
  },
  {
   "cell_type": "code",
   "execution_count": 104,
   "id": "d5e3323b",
   "metadata": {},
   "outputs": [],
   "source": [
    "parameters = [\n",
    "    {'criterion' : ['gini', 'entropy'],\n",
    "    'max_features' : ['auto', 'sqrt', 'log2']}]\n",
    "rf = RandomForestClassifier()\n",
    "grid_rf = GridSearchCV(rf, parameters, n_jobs=-1)"
   ]
  },
  {
   "cell_type": "code",
   "execution_count": 105,
   "id": "be7e82a4",
   "metadata": {},
   "outputs": [
    {
     "name": "stdout",
     "output_type": "stream",
     "text": [
      "Wall time: 7min 35s\n"
     ]
    },
    {
     "data": {
      "text/plain": [
       "GridSearchCV(estimator=RandomForestClassifier(), n_jobs=-1,\n",
       "             param_grid=[{'criterion': ['gini', 'entropy'],\n",
       "                          'max_features': ['auto', 'sqrt', 'log2']}])"
      ]
     },
     "execution_count": 105,
     "metadata": {},
     "output_type": "execute_result"
    }
   ],
   "source": [
    "%%time\n",
    "grid_rf.fit(X_train, y_train)"
   ]
  },
  {
   "cell_type": "code",
   "execution_count": 106,
   "id": "4478532b",
   "metadata": {},
   "outputs": [
    {
     "name": "stdout",
     "output_type": "stream",
     "text": [
      "0.9543875410449569\n",
      "0.9963971176941553\n",
      "0.16822429906542055\n",
      "0.9473684210526315\n",
      "0.2857142857142857\n",
      "0.3984126372231842\n"
     ]
    },
    {
     "data": {
      "text/plain": [
       "{'criterion': 'gini', 'max_features': 'sqrt'}"
      ]
     },
     "execution_count": 106,
     "metadata": {},
     "output_type": "execute_result"
    }
   ],
   "source": [
    "pred_rf_proba = grid_rf.predict_proba(X_valid)[:, 1]\n",
    "pred_rf = grid_rf.predict(X_valid)\n",
    "\n",
    "print(roc_auc_score (y_valid, pred_rf_proba))\n",
    "print(accuracy_score(y_valid, pred_rf))\n",
    "print(recall_score(y_valid, pred_rf))\n",
    "print(precision_score(y_valid, pred_rf))\n",
    "print(f1_score(y_valid, pred_rf))\n",
    "print(matthews_corrcoef(y_valid, pred_rf))\n",
    "\n",
    "grid_rf.best_params_"
   ]
  },
  {
   "cell_type": "markdown",
   "id": "171562ee",
   "metadata": {},
   "source": [
    "Дерево решений:"
   ]
  },
  {
   "cell_type": "code",
   "execution_count": 107,
   "id": "ef134744",
   "metadata": {},
   "outputs": [],
   "source": [
    "parameters = [\n",
    "    {'criterion' : ['gini', 'entropy'],\n",
    "    'max_features' : ['auto', 'sqrt', 'log2']}]\n",
    "dt = DecisionTreeClassifier()\n",
    "grid_dt = GridSearchCV(dt, parameters, n_jobs=-1)"
   ]
  },
  {
   "cell_type": "code",
   "execution_count": 108,
   "id": "b5b7a1f3",
   "metadata": {},
   "outputs": [
    {
     "name": "stdout",
     "output_type": "stream",
     "text": [
      "Wall time: 7.36 s\n"
     ]
    },
    {
     "data": {
      "text/plain": [
       "GridSearchCV(estimator=DecisionTreeClassifier(), n_jobs=-1,\n",
       "             param_grid=[{'criterion': ['gini', 'entropy'],\n",
       "                          'max_features': ['auto', 'sqrt', 'log2']}])"
      ]
     },
     "execution_count": 108,
     "metadata": {},
     "output_type": "execute_result"
    }
   ],
   "source": [
    "%%time\n",
    "grid_dt.fit(X_train, y_train)"
   ]
  },
  {
   "cell_type": "code",
   "execution_count": 109,
   "id": "30f15d9f",
   "metadata": {},
   "outputs": [
    {
     "name": "stdout",
     "output_type": "stream",
     "text": [
      "0.6483542000840907\n",
      "0.995236188951161\n",
      "0.27102803738317754\n",
      "0.4142857142857143\n",
      "0.327683615819209\n",
      "0.33280120975187943\n"
     ]
    },
    {
     "data": {
      "text/plain": [
       "{'criterion': 'entropy', 'max_features': 'auto'}"
      ]
     },
     "execution_count": 109,
     "metadata": {},
     "output_type": "execute_result"
    }
   ],
   "source": [
    "pred_dt_proba = grid_dt.predict_proba(X_valid)[:, 1]\n",
    "pred_dt = grid_dt.predict(X_valid)\n",
    "\n",
    "print(roc_auc_score (y_valid, pred_dt_proba))\n",
    "print(accuracy_score(y_valid, pred_dt))\n",
    "print(recall_score(y_valid, pred_dt))\n",
    "print(precision_score(y_valid, pred_dt))\n",
    "print(f1_score(y_valid, pred_dt))\n",
    "print(matthews_corrcoef(y_valid, pred_dt))\n",
    "\n",
    "grid_dt.best_params_"
   ]
  },
  {
   "cell_type": "markdown",
   "id": "d0edf360",
   "metadata": {},
   "source": [
    "Градиентный бустинг:"
   ]
  },
  {
   "cell_type": "code",
   "execution_count": 110,
   "id": "eb44609b",
   "metadata": {},
   "outputs": [],
   "source": [
    "parameters = [\n",
    "    {'loss' : ['deviance', 'exponential'],\n",
    "    'max_features' : ['auto', 'sqrt', 'log2']}]\n",
    "gb = GradientBoostingClassifier()\n",
    "grid_gb = GridSearchCV(gb, parameters, n_jobs=-1)"
   ]
  },
  {
   "cell_type": "code",
   "execution_count": 111,
   "id": "729e5187",
   "metadata": {},
   "outputs": [
    {
     "name": "stdout",
     "output_type": "stream",
     "text": [
      "Wall time: 7min 31s\n"
     ]
    },
    {
     "data": {
      "text/plain": [
       "GridSearchCV(estimator=GradientBoostingClassifier(), n_jobs=-1,\n",
       "             param_grid=[{'loss': ['deviance', 'exponential'],\n",
       "                          'max_features': ['auto', 'sqrt', 'log2']}])"
      ]
     },
     "execution_count": 111,
     "metadata": {},
     "output_type": "execute_result"
    }
   ],
   "source": [
    "%%time\n",
    "grid_gb.fit(X_train, y_train)"
   ]
  },
  {
   "cell_type": "code",
   "execution_count": 112,
   "id": "e6d8ed01",
   "metadata": {},
   "outputs": [
    {
     "name": "stdout",
     "output_type": "stream",
     "text": [
      "0.9789295978712043\n",
      "0.9957165732586069\n",
      "0.0\n",
      "0.0\n",
      "0.0\n",
      "0.0\n"
     ]
    },
    {
     "data": {
      "text/plain": [
       "{'loss': 'exponential', 'max_features': 'auto'}"
      ]
     },
     "execution_count": 112,
     "metadata": {},
     "output_type": "execute_result"
    }
   ],
   "source": [
    "pred_gb_proba = grid_gb.predict_proba(X_valid)[:, 1]\n",
    "pred_gb = grid_gb.predict(X_valid)\n",
    "\n",
    "print(roc_auc_score (y_valid, pred_gb_proba))\n",
    "print(accuracy_score(y_valid, pred_gb))\n",
    "print(recall_score(y_valid, pred_gb))\n",
    "print(precision_score(y_valid, pred_gb))\n",
    "print(f1_score(y_valid, pred_gb))\n",
    "print(matthews_corrcoef(y_valid, pred_gb))\n",
    "\n",
    "grid_gb.best_params_"
   ]
  },
  {
   "cell_type": "markdown",
   "id": "6b408def",
   "metadata": {},
   "source": [
    "Адаптивный бустинг:"
   ]
  },
  {
   "cell_type": "code",
   "execution_count": 113,
   "id": "72eff3e8",
   "metadata": {},
   "outputs": [],
   "source": [
    "parameters = [\n",
    "    {'algorithm' : ['SAMME', 'SAMME.R']}]\n",
    "ab = AdaBoostClassifier()\n",
    "grid_ab = GridSearchCV(ab, parameters, n_jobs=-1)"
   ]
  },
  {
   "cell_type": "code",
   "execution_count": 114,
   "id": "1278d803",
   "metadata": {},
   "outputs": [
    {
     "name": "stdout",
     "output_type": "stream",
     "text": [
      "Wall time: 3min 5s\n"
     ]
    },
    {
     "data": {
      "text/plain": [
       "GridSearchCV(estimator=AdaBoostClassifier(), n_jobs=-1,\n",
       "             param_grid=[{'algorithm': ['SAMME', 'SAMME.R']}])"
      ]
     },
     "execution_count": 114,
     "metadata": {},
     "output_type": "execute_result"
    }
   ],
   "source": [
    "%%time\n",
    "grid_ab.fit(X_train, y_train)"
   ]
  },
  {
   "cell_type": "code",
   "execution_count": 115,
   "id": "c761c416",
   "metadata": {},
   "outputs": [
    {
     "name": "stdout",
     "output_type": "stream",
     "text": [
      "0.9887501404330259\n",
      "0.9969575660528422\n",
      "0.35514018691588783\n",
      "0.8444444444444444\n",
      "0.5\n",
      "0.5465130765593748\n"
     ]
    },
    {
     "data": {
      "text/plain": [
       "{'algorithm': 'SAMME.R'}"
      ]
     },
     "execution_count": 115,
     "metadata": {},
     "output_type": "execute_result"
    }
   ],
   "source": [
    "pred_ab_proba = grid_ab.predict_proba(X_valid)[:, 1]\n",
    "pred_ab = grid_ab.predict(X_valid)\n",
    "\n",
    "print(roc_auc_score (y_valid, pred_ab_proba))\n",
    "print(accuracy_score(y_valid, pred_ab))\n",
    "print(recall_score(y_valid, pred_ab))\n",
    "print(precision_score(y_valid, pred_ab))\n",
    "print(f1_score(y_valid, pred_ab))\n",
    "print(matthews_corrcoef(y_valid, pred_ab))\n",
    "\n",
    "grid_ab.best_params_"
   ]
  },
  {
   "cell_type": "markdown",
   "id": "4cf80517",
   "metadata": {},
   "source": [
    "Метод опорных векторов:"
   ]
  },
  {
   "cell_type": "code",
   "execution_count": 116,
   "id": "9b9cc28b",
   "metadata": {},
   "outputs": [],
   "source": [
    "parameters = [\n",
    "    {'kernel' : ['linear', 'poly', 'rbf', 'sigmoid'],\n",
    "    'gamma' : ['scale', 'auto'],\n",
    "    'probability' : [True]}]\n",
    "svc = SVC()\n",
    "grid_svc = GridSearchCV(svc, parameters, n_jobs=-1)"
   ]
  },
  {
   "cell_type": "code",
   "execution_count": 117,
   "id": "b6e6ef84",
   "metadata": {},
   "outputs": [
    {
     "name": "stdout",
     "output_type": "stream",
     "text": [
      "Wall time: 7min 26s\n"
     ]
    },
    {
     "data": {
      "text/plain": [
       "GridSearchCV(estimator=SVC(), n_jobs=-1,\n",
       "             param_grid=[{'gamma': ['scale', 'auto'],\n",
       "                          'kernel': ['linear', 'poly', 'rbf', 'sigmoid'],\n",
       "                          'probability': [True]}])"
      ]
     },
     "execution_count": 117,
     "metadata": {},
     "output_type": "execute_result"
    }
   ],
   "source": [
    "%%time\n",
    "grid_svc.fit(X_train, y_train)"
   ]
  },
  {
   "cell_type": "code",
   "execution_count": 118,
   "id": "944b4ad6",
   "metadata": {},
   "outputs": [
    {
     "name": "stdout",
     "output_type": "stream",
     "text": [
      "0.9896908068689879\n",
      "0.9974379503602883\n",
      "0.4485981308411215\n",
      "0.9056603773584906\n",
      "0.6\n",
      "0.6364229563058547\n"
     ]
    },
    {
     "data": {
      "text/plain": [
       "{'gamma': 'scale', 'kernel': 'linear', 'probability': True}"
      ]
     },
     "execution_count": 118,
     "metadata": {},
     "output_type": "execute_result"
    }
   ],
   "source": [
    "pred_svc_proba = grid_svc.predict_proba(X_valid)[:, 1]\n",
    "pred_svc = grid_svc.predict(X_valid)\n",
    "\n",
    "print(roc_auc_score (y_valid, pred_svc_proba))\n",
    "print(accuracy_score(y_valid, pred_svc))\n",
    "print(recall_score(y_valid, pred_svc))\n",
    "print(precision_score(y_valid, pred_svc))\n",
    "print(f1_score(y_valid, pred_svc))\n",
    "print(matthews_corrcoef(y_valid, pred_svc))\n",
    "\n",
    "grid_svc.best_params_"
   ]
  },
  {
   "cell_type": "markdown",
   "id": "681e6340",
   "metadata": {},
   "source": [
    "Алгоритм градиентного бустинга некорректно справляется с задачей. Попробуем изменить алгоритм векторизация на CountVectorizer"
   ]
  },
  {
   "cell_type": "code",
   "execution_count": 11,
   "id": "ee126be8",
   "metadata": {},
   "outputs": [
    {
     "data": {
      "text/plain": [
       "<83266x22725 sparse matrix of type '<class 'numpy.int64'>'\n",
       "\twith 1239071 stored elements in Compressed Sparse Row format>"
      ]
     },
     "execution_count": 11,
     "metadata": {},
     "output_type": "execute_result"
    }
   ],
   "source": [
    "vectorizer = CountVectorizer()\n",
    "with open('sessions_domains.txt') as inp_file:\n",
    "    data_cv = vectorizer.fit_transform(inp_file)\n",
    "data_cv"
   ]
  },
  {
   "cell_type": "code",
   "execution_count": 15,
   "id": "2351a766",
   "metadata": {},
   "outputs": [],
   "source": [
    "X_train , X_valid , y_train , y_valid = train_test_split(data_cv, target ,test_size=0.3, random_state=42)"
   ]
  },
  {
   "cell_type": "markdown",
   "id": "baf119dc",
   "metadata": {},
   "source": [
    "Градиентный бустинг на первом наборе данных"
   ]
  },
  {
   "cell_type": "code",
   "execution_count": 16,
   "id": "a776b4c5",
   "metadata": {},
   "outputs": [],
   "source": [
    "parameters = [\n",
    "    {'loss' : ['deviance', 'exponential'],\n",
    "    'max_features' : ['auto', 'sqrt', 'log2']}]\n",
    "gb = GradientBoostingClassifier()\n",
    "grid_gb = GridSearchCV(gb, parameters, n_jobs=-1)"
   ]
  },
  {
   "cell_type": "code",
   "execution_count": 17,
   "id": "491caa70",
   "metadata": {},
   "outputs": [
    {
     "name": "stdout",
     "output_type": "stream",
     "text": [
      "Wall time: 6min 34s\n"
     ]
    },
    {
     "data": {
      "text/plain": [
       "GridSearchCV(estimator=GradientBoostingClassifier(), n_jobs=-1,\n",
       "             param_grid=[{'loss': ['deviance', 'exponential'],\n",
       "                          'max_features': ['auto', 'sqrt', 'log2']}])"
      ]
     },
     "execution_count": 17,
     "metadata": {},
     "output_type": "execute_result"
    }
   ],
   "source": [
    "%%time\n",
    "grid_gb.fit(X_train, y_train)"
   ]
  },
  {
   "cell_type": "code",
   "execution_count": 18,
   "id": "6979e30b",
   "metadata": {},
   "outputs": [
    {
     "name": "stdout",
     "output_type": "stream",
     "text": [
      "0.7850409049936293\n",
      "0.9953162530024019\n",
      "0.22429906542056074\n",
      "0.41379310344827586\n",
      "0.2909090909090909\n",
      "0.3024984681932234\n"
     ]
    },
    {
     "data": {
      "text/plain": [
       "{'loss': 'deviance', 'max_features': 'auto'}"
      ]
     },
     "execution_count": 18,
     "metadata": {},
     "output_type": "execute_result"
    }
   ],
   "source": [
    "pred_gb_proba = grid_gb.predict_proba(X_valid)[:, 1]\n",
    "pred_gb = grid_gb.predict(X_valid)\n",
    "\n",
    "print(roc_auc_score (y_valid, pred_gb_proba))\n",
    "print(accuracy_score(y_valid, pred_gb))\n",
    "print(recall_score(y_valid, pred_gb))\n",
    "print(precision_score(y_valid, pred_gb))\n",
    "print(f1_score(y_valid, pred_gb))\n",
    "print(matthews_corrcoef(y_valid, pred_gb))\n",
    "\n",
    "grid_gb.best_params_"
   ]
  },
  {
   "cell_type": "markdown",
   "id": "a407344b",
   "metadata": {},
   "source": [
    "Градиентный бустинг на втором наборе данных"
   ]
  },
  {
   "cell_type": "code",
   "execution_count": 24,
   "id": "b8314e3b",
   "metadata": {},
   "outputs": [
    {
     "data": {
      "text/plain": [
       "<83266x22736 sparse matrix of type '<class 'numpy.float64'>'\n",
       "\twith 2154997 stored elements in COOrdinate format>"
      ]
     },
     "execution_count": 24,
     "metadata": {},
     "output_type": "execute_result"
    }
   ],
   "source": [
    "data_cv = sparse.hstack((data_cv,new_features_data_scaled))\n",
    "data_cv"
   ]
  },
  {
   "cell_type": "code",
   "execution_count": 27,
   "id": "67cf3a12",
   "metadata": {},
   "outputs": [],
   "source": [
    "X_train , X_valid , y_train , y_valid = train_test_split(data_cv, target ,test_size=0.3, random_state=42)"
   ]
  },
  {
   "cell_type": "code",
   "execution_count": 30,
   "id": "810713b2",
   "metadata": {},
   "outputs": [
    {
     "name": "stdout",
     "output_type": "stream",
     "text": [
      "Wall time: 7min 11s\n"
     ]
    },
    {
     "data": {
      "text/plain": [
       "GridSearchCV(estimator=GradientBoostingClassifier(), n_jobs=-1,\n",
       "             param_grid=[{'loss': ['deviance', 'exponential'],\n",
       "                          'max_features': ['auto', 'sqrt', 'log2']}])"
      ]
     },
     "execution_count": 30,
     "metadata": {},
     "output_type": "execute_result"
    }
   ],
   "source": [
    "%%time\n",
    "grid_gb.fit(X_train, y_train)"
   ]
  },
  {
   "cell_type": "code",
   "execution_count": 31,
   "id": "db6e8f06",
   "metadata": {},
   "outputs": [
    {
     "name": "stdout",
     "output_type": "stream",
     "text": [
      "0.972461975996943\n",
      "0.9969175340272218\n",
      "0.40186915887850466\n",
      "0.7678571428571429\n",
      "0.5276073619631902\n",
      "0.5542077225043468\n"
     ]
    },
    {
     "data": {
      "text/plain": [
       "{'loss': 'deviance', 'max_features': 'auto'}"
      ]
     },
     "execution_count": 31,
     "metadata": {},
     "output_type": "execute_result"
    }
   ],
   "source": [
    "pred_gb_proba = grid_gb.predict_proba(X_valid)[:, 1]\n",
    "pred_gb = grid_gb.predict(X_valid)\n",
    "\n",
    "print(roc_auc_score (y_valid, pred_gb_proba))\n",
    "print(accuracy_score(y_valid, pred_gb))\n",
    "print(recall_score(y_valid, pred_gb))\n",
    "print(precision_score(y_valid, pred_gb))\n",
    "print(f1_score(y_valid, pred_gb))\n",
    "print(matthews_corrcoef(y_valid, pred_gb))\n",
    "\n",
    "grid_gb.best_params_"
   ]
  },
  {
   "cell_type": "markdown",
   "id": "83dc0344",
   "metadata": {},
   "source": [
    "Градиентный бустинг на третьем наборе данных"
   ]
  },
  {
   "cell_type": "code",
   "execution_count": 32,
   "id": "15a9faf9",
   "metadata": {},
   "outputs": [],
   "source": [
    "vectorizer = CountVectorizer()\n",
    "with open('sessions_domains.txt') as inp_file:\n",
    "    data_cv = vectorizer.fit_transform(inp_file)"
   ]
  },
  {
   "cell_type": "code",
   "execution_count": 34,
   "id": "081fb444",
   "metadata": {},
   "outputs": [
    {
     "data": {
      "text/plain": [
       "<83266x22729 sparse matrix of type '<class 'numpy.float64'>'\n",
       "\twith 1572135 stored elements in COOrdinate format>"
      ]
     },
     "execution_count": 34,
     "metadata": {},
     "output_type": "execute_result"
    }
   ],
   "source": [
    "data_cv = sparse.hstack((data_cv,f_features_data_scaled))\n",
    "data_cv"
   ]
  },
  {
   "cell_type": "code",
   "execution_count": 35,
   "id": "e7030bd9",
   "metadata": {},
   "outputs": [],
   "source": [
    "X_train , X_valid , y_train , y_valid = train_test_split(data_cv, target ,test_size=0.3, random_state=42)"
   ]
  },
  {
   "cell_type": "code",
   "execution_count": 36,
   "id": "eb670ddd",
   "metadata": {},
   "outputs": [
    {
     "name": "stdout",
     "output_type": "stream",
     "text": [
      "Wall time: 6min 40s\n"
     ]
    },
    {
     "data": {
      "text/plain": [
       "GridSearchCV(estimator=GradientBoostingClassifier(), n_jobs=-1,\n",
       "             param_grid=[{'loss': ['deviance', 'exponential'],\n",
       "                          'max_features': ['auto', 'sqrt', 'log2']}])"
      ]
     },
     "execution_count": 36,
     "metadata": {},
     "output_type": "execute_result"
    }
   ],
   "source": [
    "%%time\n",
    "grid_gb.fit(X_train, y_train)"
   ]
  },
  {
   "cell_type": "code",
   "execution_count": 37,
   "id": "f95912d7",
   "metadata": {},
   "outputs": [
    {
     "name": "stdout",
     "output_type": "stream",
     "text": [
      "0.7909411586560661\n",
      "0.9966773418734988\n",
      "0.4953271028037383\n",
      "0.6463414634146342\n",
      "0.5608465608465608\n",
      "0.564203065620916\n"
     ]
    },
    {
     "data": {
      "text/plain": [
       "{'loss': 'deviance', 'max_features': 'auto'}"
      ]
     },
     "execution_count": 37,
     "metadata": {},
     "output_type": "execute_result"
    }
   ],
   "source": [
    "pred_gb_proba = grid_gb.predict_proba(X_valid)[:, 1]\n",
    "pred_gb = grid_gb.predict(X_valid)\n",
    "\n",
    "print(roc_auc_score (y_valid, pred_gb_proba))\n",
    "print(accuracy_score(y_valid, pred_gb))\n",
    "print(recall_score(y_valid, pred_gb))\n",
    "print(precision_score(y_valid, pred_gb))\n",
    "print(f1_score(y_valid, pred_gb))\n",
    "print(matthews_corrcoef(y_valid, pred_gb))\n",
    "\n",
    "grid_gb.best_params_"
   ]
  },
  {
   "cell_type": "markdown",
   "id": "9ff81b7c",
   "metadata": {},
   "source": [
    "Градиентный бустинг на четвертом наборе данных"
   ]
  },
  {
   "cell_type": "code",
   "execution_count": 38,
   "id": "6ae8417f",
   "metadata": {},
   "outputs": [],
   "source": [
    "vectorizer = CountVectorizer()\n",
    "with open('sessions_domains.txt') as inp_file:\n",
    "    data_cv = vectorizer.fit_transform(inp_file)"
   ]
  },
  {
   "cell_type": "code",
   "execution_count": 40,
   "id": "37c7c1ff",
   "metadata": {},
   "outputs": [
    {
     "data": {
      "text/plain": [
       "<83266x22729 sparse matrix of type '<class 'numpy.float64'>'\n",
       "\twith 1572135 stored elements in COOrdinate format>"
      ]
     },
     "execution_count": 40,
     "metadata": {},
     "output_type": "execute_result"
    }
   ],
   "source": [
    "data_cv = sparse.hstack((data_cv,chi2_features_data_scaled))\n",
    "data_cv"
   ]
  },
  {
   "cell_type": "code",
   "execution_count": 41,
   "id": "91eed730",
   "metadata": {},
   "outputs": [],
   "source": [
    "X_train , X_valid , y_train , y_valid = train_test_split(data_cv, target ,test_size=0.3, random_state=42)"
   ]
  },
  {
   "cell_type": "code",
   "execution_count": 42,
   "id": "5efc04e3",
   "metadata": {},
   "outputs": [
    {
     "name": "stdout",
     "output_type": "stream",
     "text": [
      "Wall time: 6min 49s\n"
     ]
    },
    {
     "data": {
      "text/plain": [
       "GridSearchCV(estimator=GradientBoostingClassifier(), n_jobs=-1,\n",
       "             param_grid=[{'loss': ['deviance', 'exponential'],\n",
       "                          'max_features': ['auto', 'sqrt', 'log2']}])"
      ]
     },
     "execution_count": 42,
     "metadata": {},
     "output_type": "execute_result"
    }
   ],
   "source": [
    "%%time\n",
    "grid_gb.fit(X_train, y_train)"
   ]
  },
  {
   "cell_type": "code",
   "execution_count": 43,
   "id": "e166df11",
   "metadata": {},
   "outputs": [
    {
     "name": "stdout",
     "output_type": "stream",
     "text": [
      "0.967238994653588\n",
      "0.9964371497197758\n",
      "0.42990654205607476\n",
      "0.6216216216216216\n",
      "0.5082872928176796\n",
      "0.5152564962255609\n"
     ]
    },
    {
     "data": {
      "text/plain": [
       "{'loss': 'deviance', 'max_features': 'auto'}"
      ]
     },
     "execution_count": 43,
     "metadata": {},
     "output_type": "execute_result"
    }
   ],
   "source": [
    "pred_gb_proba = grid_gb.predict_proba(X_valid)[:, 1]\n",
    "pred_gb = grid_gb.predict(X_valid)\n",
    "\n",
    "print(roc_auc_score (y_valid, pred_gb_proba))\n",
    "print(accuracy_score(y_valid, pred_gb))\n",
    "print(recall_score(y_valid, pred_gb))\n",
    "print(precision_score(y_valid, pred_gb))\n",
    "print(f1_score(y_valid, pred_gb))\n",
    "print(matthews_corrcoef(y_valid, pred_gb))\n",
    "\n",
    "grid_gb.best_params_"
   ]
  },
  {
   "cell_type": "code",
   "execution_count": null,
   "id": "be5b453f",
   "metadata": {},
   "outputs": [],
   "source": []
  }
 ],
 "metadata": {
  "kernelspec": {
   "display_name": "Python 3",
   "language": "python",
   "name": "python3"
  },
  "language_info": {
   "codemirror_mode": {
    "name": "ipython",
    "version": 3
   },
   "file_extension": ".py",
   "mimetype": "text/x-python",
   "name": "python",
   "nbconvert_exporter": "python",
   "pygments_lexer": "ipython3",
   "version": "3.8.8"
  }
 },
 "nbformat": 4,
 "nbformat_minor": 5
}
